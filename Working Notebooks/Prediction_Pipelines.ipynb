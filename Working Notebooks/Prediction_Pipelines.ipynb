{
 "cells": [
  {
   "cell_type": "markdown",
   "id": "optical-industry",
   "metadata": {},
   "source": [
    "Pipelines de prediccion, segun el tiempo que haya habrá una u otra."
   ]
  },
  {
   "cell_type": "markdown",
   "id": "lined-slide",
   "metadata": {},
   "source": [
    "----"
   ]
  },
  {
   "cell_type": "markdown",
   "id": "synthetic-nothing",
   "metadata": {},
   "source": [
    "docstring"
   ]
  },
  {
   "cell_type": "code",
   "execution_count": null,
   "id": "tutorial-caution",
   "metadata": {},
   "outputs": [],
   "source": [
    "\"\"\"\"\"\""
   ]
  },
  {
   "cell_type": "markdown",
   "id": "split-services",
   "metadata": {},
   "source": [
    "-----"
   ]
  },
  {
   "cell_type": "markdown",
   "id": "frozen-ordering",
   "metadata": {},
   "source": [
    "Basic Pipeline. La mas rapida. Un predictor, lags minimos, seleccion de features agresiva.\n",
    "Expected time delay: <30s\n",
    "Expected accuracy y tal..\n",
    "\n",
    "1.- Importacion de datos, quizá limitacion de datos procesados a estacionalidad mas cercana (1 semana) o resampling de la serie para tener menos. Luego interpolado de la serie de salida para ver datos intermedios.\n",
    "2.- creacion de features\n",
    "3.- eleccion de features con PCA o con un arbol (INVESTIGAR PCA CON 0 y 1 si tiene problemas)\n",
    "4.- Predicciones varias\n",
    "    * empezamos con.... glm?\n",
    "    * seguimos con... lgbm?\n",
    "    * terminamos con... lstm? Largo"
   ]
  },
  {
   "cell_type": "markdown",
   "id": "expensive-indian",
   "metadata": {},
   "source": [
    "Balanced pipeline. Media. No sacrifica tanto los datos de entrada "
   ]
  },
  {
   "cell_type": "markdown",
   "id": "capital-columbia",
   "metadata": {},
   "source": [
    "Slow pipeline. Larga. Opera sobre todo el dataset, crea una red neuronal con nuestra arquitectura custom (se puede automatizar el diseño de arquitectura o es mucho work?¿¿\n",
    "\n"
   ]
  }
 ],
 "metadata": {
  "kernelspec": {
   "display_name": "Python 3",
   "language": "python",
   "name": "python3"
  },
  "language_info": {
   "codemirror_mode": {
    "name": "ipython",
    "version": 3
   },
   "file_extension": ".py",
   "mimetype": "text/x-python",
   "name": "python",
   "nbconvert_exporter": "python",
   "pygments_lexer": "ipython3",
   "version": "3.8.8"
  }
 },
 "nbformat": 4,
 "nbformat_minor": 5
}
