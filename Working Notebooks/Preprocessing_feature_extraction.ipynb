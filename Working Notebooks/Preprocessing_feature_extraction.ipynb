{
 "cells": [
  {
   "cell_type": "markdown",
   "id": "exotic-globe",
   "metadata": {},
   "source": [
    "docstring"
   ]
  },
  {
   "cell_type": "code",
   "execution_count": null,
   "id": "improving-budget",
   "metadata": {},
   "outputs": [],
   "source": [
    "\"\"\"\"\"\""
   ]
  },
  {
   "cell_type": "markdown",
   "id": "younger-polymer",
   "metadata": {},
   "source": [
    "--------"
   ]
  },
  {
   "cell_type": "markdown",
   "id": "restricted-venezuela",
   "metadata": {},
   "source": [
    "Switches para elegir features."
   ]
  },
  {
   "cell_type": "code",
   "execution_count": null,
   "id": "absolute-kruger",
   "metadata": {},
   "outputs": [],
   "source": [
    "import numpy as np\n",
    "import pandas as pd\n"
   ]
  },
  {
   "cell_type": "code",
   "execution_count": null,
   "id": "heavy-contrary",
   "metadata": {},
   "outputs": [],
   "source": [
    "def switch_features(value, lags_data, date, rolling_window, num):         ## Switch igual que antes, se añade el parametro num, que significa?\n",
    "    return {\n",
    "        'lag': lambda : lag_feature(lags_data, num),\n",
    "        #--------------------------------------------------------------\n",
    "        'mean': lambda : mean_feature(lags_data, rolling_window, num),\n",
    "        'std': lambda : std_feature(lags_data, rolling_window, num),\n",
    "        'max': lambda : max_feature(lags_data, rolling_window, num),\n",
    "        'min': lambda : min_feature(lags_data, rolling_window, num),\n",
    "        'quantile': lambda : quantile_feature(lags_data, rolling_window, num),\n",
    "        'iqr': lambda : iqr_feature(lags_data, rolling_window, num),\n",
    "        'entropy': lambda : entropy_feature(lags_data, rolling_window, num),\n",
    "        'trimmean': lambda : trimmean_feature(lags_data, rolling_window, num),\n",
    "        'variation': lambda : variation_feature(lags_data, rolling_window, num),\n",
    "        'hmean': lambda : hmean_feature(lags_data, rolling_window, num),\n",
    "        'gmean': lambda : gmean_feature(lags_data, rolling_window, num),\n",
    "        'mad': lambda : mad_feature(lags_data, rolling_window, num),\n",
    "        'tvar': lambda : tvar_feature(lags_data, rolling_window, num),\n",
    "        'kurtosis': lambda : kurtosis_feature(lags_data, rolling_window, num),\n",
    "        'sem': lambda : sem_feature(lags_data, rolling_window, num),\n",
    "        'wav': lambda : wav_feature(lags_data, rolling_window, num),\n",
    "        #--------------------------------------------------------------\n",
    "        'minute': lambda : minute_feature(date, num),\n",
    "        'hour': lambda : hour_feature(date, num),\n",
    "        'dayofweek': lambda : dayofweek_feature(date, num),\n",
    "        'day': lambda : day_feature(date, num),\n",
    "        'month': lambda : month_feature(date, num),\n",
    "        'quarter': lambda : quarter_feature(date, num),\n",
    "        'weekofyear': lambda : weekofyear_feature(date, num),\n",
    "        'weekend': lambda : weekend_feature(date, num)\n",
    "    }.get(value)()"
   ]
  },
  {
   "cell_type": "code",
   "execution_count": 1,
   "id": "adjusted-cream",
   "metadata": {},
   "outputs": [
    {
     "ename": "NameError",
     "evalue": "name 'read_data' is not defined",
     "output_type": "error",
     "traceback": [
      "\u001b[0;31m\u001b[0m",
      "\u001b[0;31mNameError\u001b[0mTraceback (most recent call last)",
      "\u001b[0;32m<ipython-input-1-c8b8e762aae5>\u001b[0m in \u001b[0;36m<module>\u001b[0;34m\u001b[0m\n\u001b[1;32m      2\u001b[0m \u001b[0mfilename\u001b[0m \u001b[0;34m=\u001b[0m \u001b[0;34m'Seat.csv'\u001b[0m\u001b[0;34m\u001b[0m\u001b[0;34m\u001b[0m\u001b[0m\n\u001b[1;32m      3\u001b[0m \u001b[0;34m\u001b[0m\u001b[0m\n\u001b[0;32m----> 4\u001b[0;31m data = read_data(filename='Seat.csv',\n\u001b[0m\u001b[1;32m      5\u001b[0m                  \u001b[0mfreq\u001b[0m\u001b[0;34m=\u001b[0m\u001b[0;34m'20T'\u001b[0m\u001b[0;34m,\u001b[0m\u001b[0;34m\u001b[0m\u001b[0;34m\u001b[0m\u001b[0m\n\u001b[1;32m      6\u001b[0m                  \u001b[0mtargetcol\u001b[0m\u001b[0;34m=\u001b[0m\u001b[0;34m'INSTALACIONES [kWh]'\u001b[0m\u001b[0;34m,\u001b[0m\u001b[0;34m\u001b[0m\u001b[0;34m\u001b[0m\u001b[0m\n",
      "\u001b[0;31mNameError\u001b[0m: name 'read_data' is not defined"
     ]
    }
   ],
   "source": []
  }
 ],
 "metadata": {
  "kernelspec": {
   "display_name": "Python 3",
   "language": "python",
   "name": "python3"
  },
  "language_info": {
   "codemirror_mode": {
    "name": "ipython",
    "version": 3
   },
   "file_extension": ".py",
   "mimetype": "text/x-python",
   "name": "python",
   "nbconvert_exporter": "python",
   "pygments_lexer": "ipython3",
   "version": "3.8.8"
  }
 },
 "nbformat": 4,
 "nbformat_minor": 5
}
