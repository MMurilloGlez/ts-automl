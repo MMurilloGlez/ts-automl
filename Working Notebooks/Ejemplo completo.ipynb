{
 "cells": [
  {
   "cell_type": "markdown",
   "id": "contained-panama",
   "metadata": {},
   "source": [
    "----------"
   ]
  },
  {
   "cell_type": "markdown",
   "id": "abroad-logan",
   "metadata": {},
   "source": [
    "Preprocessing_Data_input\n"
   ]
  },
  {
   "cell_type": "code",
   "execution_count": null,
   "id": "declared-knitting",
   "metadata": {},
   "outputs": [],
   "source": [
    "import warnings\n",
    "from math import floor\n",
    "import pandas as pd\n",
    "import numpy as np"
   ]
  },
  {
   "cell_type": "code",
   "execution_count": null,
   "id": "advised-republican",
   "metadata": {},
   "outputs": [],
   "source": [
    "def read_data(filename, targetcol = 'VALUE', datecol = 'DATE', sep = ';', \n",
    "              decimal = ',', date_format = \"%d/%m/%Y %H:%M:%S.%f\", freq = '1T'):\n",
    "    \n",
    "    if filename[-3:] == 'csv' or filename[-3:] == 'txt':\n",
    "        file_ = pd.read_table(filename, sep = sep, decimal = decimal, parse_dates = False)\n",
    "        file_parsed = parsedates(file_, date_format = date_format, freq = freq, datecol = datecol)\n",
    "        \n",
    "    elif filename[-3:] == 'xls' or filename[-3:] == 'lsx':\n",
    "        file_ = pd.read_excel(filename, parse_dates = False)\n",
    "        file_parsed = parsedates(file_, date_format = date_format, freq = freq,datecol = datecol)\n",
    "        \n",
    "    else:\n",
    "        raise NotImplementedError(\"This file type is not supported\" )\n",
    "    \n",
    "    return(file_parsed[targetcol])\n",
    "\n",
    "def parsedates(file_, date_format, freq, datecol):\n",
    "    freq = pd.to_timedelta(freq)\n",
    "    datetime_i = pd.to_datetime(file_[datecol], format = date_format)\n",
    "    print(type(datetime_i.iloc[-1]))\n",
    "    if freq < (datetime_i.iloc[1] - datetime_i.iloc[0]):\n",
    "        raise ValueError('Expected frequency is smaller than dataset information')\n",
    "        \n",
    "    file_.index = datetime_i\n",
    "    desired_index = pd.date_range(start = datetime_i.iloc[0], end = datetime_i.iloc[-1], freq = freq)\n",
    "    \n",
    "    file_int = file_.reindex(file_.index.union(desired_index)).interpolate(method = 'time').reindex(desired_index)\n",
    "    \n",
    "    return(file_int)"
   ]
  },
  {
   "cell_type": "markdown",
   "id": "large-recognition",
   "metadata": {},
   "source": [
    "-----------"
   ]
  },
  {
   "cell_type": "markdown",
   "id": "exclusive-hometown",
   "metadata": {},
   "source": [
    "Preprocessing_train_test_split"
   ]
  },
  {
   "cell_type": "code",
   "execution_count": null,
   "id": "limited-hearing",
   "metadata": {},
   "outputs": [],
   "source": [
    "from sklearn.model_selection import train_test_split"
   ]
  },
  {
   "cell_type": "code",
   "execution_count": null,
   "id": "conventional-fault",
   "metadata": {},
   "outputs": [],
   "source": [
    "def ts_split(data, test_size=50):\n",
    "    ts_train, ts_test = train_test_split(data, shuffle=False)\n",
    "    print('Test size: ', len(ts_test), '  Input size: ', len(data))\n",
    "    return(ts_train, ts_test)\n"
   ]
  },
  {
   "cell_type": "markdown",
   "id": "reliable-indicator",
   "metadata": {},
   "source": [
    "------------"
   ]
  },
  {
   "cell_type": "markdown",
   "id": "consolidated-report",
   "metadata": {},
   "source": [
    "Preprocessing_Lags_creation"
   ]
  },
  {
   "cell_type": "code",
   "execution_count": 1,
   "id": "banner-scenario",
   "metadata": {},
   "outputs": [],
   "source": [
    "def lag_creation(X, lags=3, step=1, dropna = False):\n",
    "    X = X.iloc[:,0]\n",
    "    print(type(X))\n",
    "    if type(X) is pd.DataFrame:\n",
    "        new_dict = {}\n",
    "        for col_name in X:                                                          \n",
    "            for l in range(1,self.lag+1, self.step):                                \n",
    "                new_dict['%s_lag%d' %(col_name,l)]=X[col_name].shift(l)            \n",
    "        res=pd.DataFrame(new_dict,index=X.index)  \n",
    "\n",
    "    elif type(X) is pd.Series:                                                      ## si es serie\n",
    "        the_range=range(0,lags+1, step)                                    ## de 0 a numero de lags\n",
    "        res=pd.concat([X.shift(i) for i in the_range],axis=1)                       ## concatenamos los lags a cada fila del nuevo dataframe \n",
    "        res.columns=['lag_%d' %i for i in the_range]\n",
    "    if dropna:                                                                 ## si hay que quitar na\n",
    "        res = res.dropna()                                                          ## quitamos na del principio del df\n",
    "        res = res[res.columns[::-1]]                                                ## res = todo menos la ultima columna \n",
    "        return res\n",
    "    else:\n",
    "        res = res[res.columns[::-1]]                                                ## res = todo menos la ultima columna\n",
    "        return res"
   ]
  },
  {
   "cell_type": "markdown",
   "id": "toxic-department",
   "metadata": {},
   "source": [
    "-------"
   ]
  },
  {
   "cell_type": "markdown",
   "id": "white-serial",
   "metadata": {},
   "source": [
    "Preprocessing_Feature_extraction"
   ]
  },
  {
   "cell_type": "code",
   "execution_count": null,
   "id": "accompanied-adrian",
   "metadata": {},
   "outputs": [],
   "source": []
  },
  {
   "cell_type": "code",
   "execution_count": null,
   "id": "pleased-quilt",
   "metadata": {},
   "outputs": [],
   "source": []
  },
  {
   "cell_type": "code",
   "execution_count": null,
   "id": "intimate-union",
   "metadata": {},
   "outputs": [],
   "source": []
  },
  {
   "cell_type": "markdown",
   "id": "french-theme",
   "metadata": {},
   "source": [
    "------"
   ]
  },
  {
   "cell_type": "markdown",
   "id": "tamil-creation",
   "metadata": {},
   "source": [
    "Plotting_results"
   ]
  },
  {
   "cell_type": "code",
   "execution_count": null,
   "id": "accurate-respect",
   "metadata": {},
   "outputs": [],
   "source": [
    "import plotly.express as px\n",
    "import plotly.graph_objects as go\n",
    "import plotly.io as pio\n"
   ]
  },
  {
   "cell_type": "code",
   "execution_count": null,
   "id": "destroyed-specification",
   "metadata": {},
   "outputs": [],
   "source": []
  }
 ],
 "metadata": {
  "kernelspec": {
   "display_name": "Python 3",
   "language": "python",
   "name": "python3"
  },
  "language_info": {
   "codemirror_mode": {
    "name": "ipython",
    "version": 3
   },
   "file_extension": ".py",
   "mimetype": "text/x-python",
   "name": "python",
   "nbconvert_exporter": "python",
   "pygments_lexer": "ipython3",
   "version": "3.8.8"
  }
 },
 "nbformat": 4,
 "nbformat_minor": 5
}
