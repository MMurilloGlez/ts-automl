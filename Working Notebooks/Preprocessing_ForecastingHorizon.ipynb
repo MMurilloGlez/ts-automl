{
 "cells": [
  {
   "cell_type": "markdown",
   "id": "allied-terror",
   "metadata": {},
   "source": [
    "Aqui tenemos una de las cosas que puede afectar al tiempo disponible para prediccion. Basicamente se nos da por la frecuencia que ofrece el usuario. Nos la ha dado en el data_input. Si es un minuto tendremos alrededor de 30 segundos de procesamiento. Si es 10 tendremos 5... etc\n",
    "\n",
    "A lo mejor metemos un Reaction time delay?\n",
    "\n",
    "Importancia del primer "
   ]
  },
  {
   "cell_type": "markdown",
   "id": "sustained-lesbian",
   "metadata": {},
   "source": [
    "docstring"
   ]
  },
  {
   "cell_type": "code",
   "execution_count": null,
   "id": "premium-premium",
   "metadata": {},
   "outputs": [],
   "source": [
    "\"\"\"\"\"\""
   ]
  },
  {
   "cell_type": "markdown",
   "id": "beginning-radio",
   "metadata": {},
   "source": [
    "-----------"
   ]
  },
  {
   "cell_type": "code",
   "execution_count": 26,
   "id": "theoretical-animation",
   "metadata": {},
   "outputs": [],
   "source": [
    "import numpy as np\n",
    "import pandas as pd\n",
    "from skits.preprocessing import HorizonTransformer"
   ]
  },
  {
   "cell_type": "markdown",
   "id": "aerial-emergency",
   "metadata": {},
   "source": [
    "creacion de timestamps para la forecasting window. Input será tiempo de prediccion en el futuro."
   ]
  },
  {
   "cell_type": "code",
   "execution_count": 23,
   "id": "derived-administration",
   "metadata": {},
   "outputs": [],
   "source": [
    "def create_forecasting_horizon(clean_df, future_pred, freq):\n",
    "    future_pred = pd.to_timedelta(future_pred)\n",
    "    horizon = future_pred.seconds // freq.seconds\n",
    "    y = clean_df.copy()\n",
    "    ht = HorizonTransformer(horizon = horizon + 1)\n",
    "    y_horizon = ht.fit_transform(y.iloc[:,0])\n",
    "    y_horizon = pd.DataFrame(y_horizon[:-horizon, :], index = y.index[horizon:])\n",
    "    name = 't+'+str(horizon)\n",
    "    y_horizon = pd.DataFrame({name : y_horizon.iloc[:, -1]})\n",
    "    \n",
    "    return y_horizon"
   ]
  },
  {
   "cell_type": "code",
   "execution_count": null,
   "id": "artistic-fabric",
   "metadata": {},
   "outputs": [],
   "source": []
  }
 ],
 "metadata": {
  "kernelspec": {
   "display_name": "Python 3",
   "language": "python",
   "name": "python3"
  },
  "language_info": {
   "codemirror_mode": {
    "name": "ipython",
    "version": 3
   },
   "file_extension": ".py",
   "mimetype": "text/x-python",
   "name": "python",
   "nbconvert_exporter": "python",
   "pygments_lexer": "ipython3",
   "version": "3.8.8"
  }
 },
 "nbformat": 4,
 "nbformat_minor": 5
}
