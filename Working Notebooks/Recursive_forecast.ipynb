{
 "cells": [
  {
   "cell_type": "code",
   "execution_count": 1,
   "metadata": {
    "scrolled": true
   },
   "outputs": [],
   "source": [
    "import pandas as pd \n",
    "import numpy as np\n",
    "from sklearn.model_selection import train_test_split\n",
    "from sklearn.metrics import mean_squared_error\n",
    "import plotly.express as px\n",
    "import plotly.graph_objects as go\n",
    "import plotly.io as pio\n",
    "import warnings\n",
    "from math import floor\n",
    "from statsmodels.tsa.stattools import pacf\n",
    "from sklearn.base import TransformerMixin\n",
    "from skits.preprocessing import HorizonTransformer\n",
    "import datetime\n",
    "from sktime.datasets import load_airline\n",
    "from sktime.forecasting.compose import ReducedForecaster\n",
    "from sktime.forecasting.model_selection import temporal_train_test_split, SlidingWindowSplitter\n",
    "from sklearn.neighbors import KNeighborsRegressor\n",
    "from sklearn.preprocessing import OneHotEncoder\n",
    "from collections import defaultdict\n",
    "from sklearn.feature_selection import SelectKBest, mutual_info_regression\n",
    "import lightgbm as lgb\n",
    "import timeit as tmt"
   ]
  },
  {
   "cell_type": "code",
   "execution_count": 54,
   "metadata": {},
   "outputs": [],
   "source": [
    "def read_data(filename, targetcol='VALUE', datecol='DATE', sep=';',\n",
    "              decimal=',', date_format=\"%d/%m/%Y %H:%M:%S.%f\", freq='1T'):\n",
    "    if filename[-3:] == 'csv' or filename[-3:] == 'txt':\n",
    "        file_ = pd.read_table(filename, sep=sep, decimal=decimal,\n",
    "                              parse_dates=False)\n",
    "        file_parsed = parsedates(file_, date_format=date_format, freq=freq,\n",
    "                                 datecol=datecol)\n",
    "    elif filename[-3:] == 'xls' or filename[-3:] == 'lsx':\n",
    "        file_ = pd.read_excel(filename, parse_dates=False)\n",
    "        file_parsed = parsedates(file_, date_format=date_format, freq=freq,\n",
    "                                 datecol=datecol)\n",
    "    else:\n",
    "        raise NotImplementedError(\"This file type is not supported\")\n",
    "\n",
    "    return(file_parsed[targetcol].to_frame())\n",
    "\n",
    "\n",
    "def parsedates(file_, date_format, freq, datecol):\n",
    "    freq = pd.to_timedelta(freq)\n",
    "    datetime_i = pd.to_datetime(file_[datecol], format=date_format)\n",
    "    print(type(datetime_i.iloc[-1]))\n",
    "    if freq < (datetime_i.iloc[1] - datetime_i.iloc[0]):\n",
    "        raise ValueError('Expected frequency smaller than dataset information')\n",
    "\n",
    "    file_.index = datetime_i\n",
    "    desired_index = pd.date_range(start=datetime_i.iloc[0],\n",
    "                                  end=datetime_i.iloc[-1], freq=freq)\n",
    "    file_int = file_.reindex(file_.index.union(desired_index))\n",
    "    file_int = file_int.interpolate(method='time').reindex(desired_index)\n",
    "\n",
    "    return(file_int)\n"
   ]
  },
  {
   "cell_type": "raw",
   "metadata": {},
   "source": [
    "df = read_data(filename='Seat.csv',\n",
    "                 freq='20T',\n",
    "                 targetcol='INSTALACIONES [kWh]',\n",
    "                 datecol='MSJO_DATUM',\n",
    "                 sep=',',\n",
    "                 decimal='.',\n",
    "                 date_format=\"%d/%m/%Y %H:%M\")\n"
   ]
  },
  {
   "cell_type": "code",
   "execution_count": 55,
   "metadata": {},
   "outputs": [
    {
     "name": "stdout",
     "output_type": "stream",
     "text": [
      "<class 'pandas._libs.tslibs.timestamps.Timestamp'>\n"
     ]
    }
   ],
   "source": [
    "df = read_data(filename='NIVEL2_TOTAL_AIRE_INST_FILT.csv',\n",
    "              freq='20T')"
   ]
  },
  {
   "cell_type": "raw",
   "metadata": {},
   "source": [
    "df = pd.DataFrame(load_airline())\n",
    "target = 'Number of airline passengers'\n",
    "df.index = pd.date_range(start='2021-02-05 14:07:33.511000+00:00', periods=len(df), \n",
    "                         freq='15min').tz_convert('Europe/Berlin')[:len(df)]\n",
    "df.head()\n",
    "\n",
    "### importacion de datos de ejemplo como dataframe"
   ]
  },
  {
   "cell_type": "code",
   "execution_count": 56,
   "metadata": {},
   "outputs": [],
   "source": [
    "points = 100                        ## tamaño del test para entrenar el regresor\n",
    "window_length = 200                 ## tamaño de ventana para la prediccion de ventana\n",
    "rolling_window = [5,10,20]          ## Cuantas caracteristicas debe tener la rolling window para el calculo de features rollo moving average\n",
    "horizon = 1                         ## horizonte a predecir en cada recursion\n",
    "step = 1                            ## paso que se mueve la ventana para cada recursión.\n",
    "freq = '20T'                         ## Frecuencia de la serie de entrada o de prediccion"
   ]
  },
  {
   "cell_type": "raw",
   "metadata": {},
   "source": [
    "df = pd.read_csv('NIVEL2_TOTAL_AIRE_INST_FILT.csv', sep = ';', decimal = ',')\n",
    "# df = df.drop([5441,5445,50241,50535,50926,51490,52196,52418,54124,58615,58628,58676,59132,60029,60693,64036,65419])\n",
    "df.index = pd.date_range(start='2019-05-20 17:58:56.000000+00:00', periods=len(df), \n",
    "                         freq=freq).tz_convert('Europe/Berlin')\n",
    "df['DATE']\n",
    "#df = df.iloc[:4000,[1]]\n",
    "## Importacion datos de seat. iloc hasta la fila 4000 supongo que para ahorrar recursos. Solo caracteristica 10 (KWh consumo de las instalaciones)"
   ]
  },
  {
   "cell_type": "raw",
   "metadata": {},
   "source": [
    "\n",
    "df.index = pd.to_datetime(df['DATE'], format = '%d/%m/%Y %H:%M:%S.%f')\n",
    "df.index = df.index.floor(freq = 's')"
   ]
  },
  {
   "cell_type": "code",
   "execution_count": null,
   "metadata": {},
   "outputs": [],
   "source": []
  },
  {
   "cell_type": "raw",
   "metadata": {},
   "source": [
    "df.index = pd.date_range(start=df.index[0], periods=len(df), \n",
    "                         freq=df.index[1] - df.index[0]).tz_localize('Europe/Berlin')\n",
    "df['DATE']"
   ]
  },
  {
   "cell_type": "code",
   "execution_count": 57,
   "metadata": {},
   "outputs": [
    {
     "data": {
      "text/plain": [
       "Timedelta('0 days 00:20:00')"
      ]
     },
     "execution_count": 57,
     "metadata": {},
     "output_type": "execute_result"
    }
   ],
   "source": [
    "df.index[1] - df.index[0]\n",
    "\n"
   ]
  },
  {
   "cell_type": "code",
   "execution_count": 58,
   "metadata": {},
   "outputs": [
    {
     "name": "stdout",
     "output_type": "stream",
     "text": [
      "CPU times: user 5.32 ms, sys: 0 ns, total: 5.32 ms\n",
      "Wall time: 3.22 ms\n",
      "2188 100\n"
     ]
    }
   ],
   "source": [
    "%time y_train, y_test = train_test_split(df, test_size=points, shuffle=False)      ## Split en train y test sin shuffle por ser time series. Test_size se da como points\n",
    "print(y_train.shape[0], y_test.shape[0])                                     ## Test para comprobar tamaños de train y test"
   ]
  },
  {
   "cell_type": "markdown",
   "metadata": {},
   "source": [
    "-----"
   ]
  },
  {
   "cell_type": "markdown",
   "metadata": {},
   "source": [
    "#### Create train features"
   ]
  },
  {
   "cell_type": "code",
   "execution_count": 7,
   "metadata": {},
   "outputs": [],
   "source": [
    "from extract_sample_features import *                                        ## Importamos el modulo desde la misma carpeta que el script"
   ]
  },
  {
   "cell_type": "code",
   "execution_count": 59,
   "metadata": {},
   "outputs": [],
   "source": [
    "def create_sample_features(X, window_length = 5, features = [], rolling_window = [2]):      ## Creacion de features para los datos de entrada (se llama solo una vez)\n",
    "    lags_X = lags_sample(X, window_length=window_length, step=1)                            ## Creacion de los lags (min t-1, -2 ....)\n",
    "    df = lags_X.copy()                                                                      ## Copia a otro dataframe for some reason\n",
    "    for f in features:                                                                      ## Features contiene la lista de features que queremos añadir al dataframe con lags.b\n",
    "        if rolling_window:                                                                  ## si se ha especificado una rolling window\n",
    "            for rol in rolling_window:   \n",
    "                aux = switch_sample_features(f, X, lags_X, rol)                             ## Variable auxiliar para crear la feature (se borra a cada iteracion) con los lags (la fila vaya)\n",
    "                df = pd.concat([df, aux], axis = 1).dropna()                                ## concatenamos el valor al dataframe\n",
    "        else:\n",
    "            aux = switch_sample_features(f, X, lags_X, [])                                  ## opcion sin rolling windows\n",
    "            df = pd.concat([df, aux], axis = 1).dropna()                                    ## añadir a dataframe\n",
    "    return df"
   ]
  },
  {
   "cell_type": "code",
   "execution_count": 60,
   "metadata": {},
   "outputs": [],
   "source": [
    "def switch_sample_features(value, X, lags_X, rolling_window):                               ## Switch con el que elegir las caracteristicas del sample.\n",
    "    return { \n",
    "        'mean': lambda : mean_sample(lags_X, rolling_window),\n",
    "        'std': lambda : std_sample(lags_X, rolling_window),\n",
    "        'max': lambda : max_sample(lags_X, rolling_window),\n",
    "        'min': lambda : min_sample(lags_X, rolling_window),\n",
    "        'quantile': lambda : quantile_sample(lags_X, rolling_window),\n",
    "        'iqr': lambda : iqr_sample(lags_X, rolling_window),\n",
    "        'entropy': lambda : entropy_sample(lags_X, rolling_window),\n",
    "        'trimmean': lambda : trimmean_sample(lags_X, rolling_window),\n",
    "        'variation': lambda : variation_sample(lags_X, rolling_window),\n",
    "        'hmean': lambda : hmean_sample(lags_X, rolling_window),\n",
    "        'gmean': lambda : gmean_sample(lags_X, rolling_window),\n",
    "        'mad': lambda : mad_sample(lags_X, rolling_window),\n",
    "#         'gstd': lambda : gstd_sample(lags_X, rolling_window),\n",
    "        'tvar': lambda : tvar_sample(lags_X, rolling_window),\n",
    "        'kurtosis': lambda : kurtosis_sample(lags_X, rolling_window),\n",
    "        'sem': lambda : sem_sample(lags_X, rolling_window),\n",
    "        'wav': lambda : wav_sample(lags_X, rolling_window),\n",
    "        #-----------------------------------------\n",
    "        'minute': lambda : minute_sample(X),\n",
    "        'hour': lambda : hour_sample(X),\n",
    "        'dayofweek': lambda : dayofweek_sample(X),\n",
    "        'day': lambda : day_sample(X),\n",
    "        'month': lambda : month_sample(X),\n",
    "        'quarter': lambda : quarter_sample(X),\n",
    "        'weekofyear': lambda : weekofyear_sample(X),\n",
    "        'weekend': lambda : weekend_sample(X)\n",
    "        \n",
    "    }.get(value)()"
   ]
  },
  {
   "cell_type": "markdown",
   "metadata": {},
   "source": [
    "#### Create horizon"
   ]
  },
  {
   "cell_type": "code",
   "execution_count": 61,
   "metadata": {},
   "outputs": [],
   "source": [
    "def create_horizon(df, horizon):\n",
    "    y = df.copy()\n",
    "    ht = HorizonTransformer(horizon = horizon+1)\n",
    "    y_horizon = ht.fit_transform(y.iloc[:,0]) #Los horizon ultimos valores son nan ya que no se puede crear un horizonte completo para ellos\n",
    "    y_horizon = pd.DataFrame(y_horizon[:-horizon, :], index = y.index[horizon:])\n",
    "    name = 't+'+str(horizon)\n",
    "    y_horizon = pd.DataFrame({name : y_horizon.iloc[:, -1]})\n",
    "    \n",
    "    return y_horizon"
   ]
  },
  {
   "cell_type": "markdown",
   "metadata": {},
   "source": [
    "#### Feature selection"
   ]
  },
  {
   "cell_type": "code",
   "execution_count": 62,
   "metadata": {},
   "outputs": [],
   "source": [
    "def feature_selection(X, y, num_features):                                ## Elegimos componente principales entrenando un lgbmr y extrayendo los best_features\n",
    "    clf = lgb.LGBMRegressor(n_estimators=40).fit(X, y)                    ## Fit modelo con poquitos estimators (40)\n",
    "    best_indx_col = clf.feature_importances_.argsort()[-num_features:]    ## elegimos el num_features que nos queramos quedar\n",
    "    best_features = list(X_train.columns[best_indx_col])                  ## Creamos lista para indexar el dataframe\n",
    "    return order_by_other_list(X_train.columns, best_features)            ## devolvemos una lista de columnas ordenadas por su utilidad "
   ]
  },
  {
   "cell_type": "markdown",
   "metadata": {},
   "source": [
    "------"
   ]
  },
  {
   "cell_type": "code",
   "execution_count": 63,
   "metadata": {},
   "outputs": [],
   "source": [
    "def order_by_other_list(list_order, list_tobe_order):                     ## Orden de la lista y lista a ordenar\n",
    "    d = {k:v for v,k in enumerate(list_order)}                            ## creas un dict key:value for enumerate tal\n",
    "    list_tobe_order.sort(key=d.get)                                       ## le das un sort con key = d.get (pillamos la key del dict)\n",
    "    return list_tobe_order"
   ]
  },
  {
   "cell_type": "markdown",
   "metadata": {},
   "source": [
    "----"
   ]
  },
  {
   "cell_type": "code",
   "execution_count": 64,
   "metadata": {},
   "outputs": [],
   "source": [
    "from extract_features import *                                            ## Importamos modulo extract features para las windows, no el dataset completo"
   ]
  },
  {
   "cell_type": "code",
   "execution_count": 65,
   "metadata": {},
   "outputs": [],
   "source": [
    "def switch_features(value, lags_data, date, rolling_window, num):         ## Switch igual que antes, se añade el parametro num, que significa?\n",
    "    return {\n",
    "        'lag': lambda : lag_feature(lags_data, num),\n",
    "        #--------------------------------------------------------------\n",
    "        'mean': lambda : mean_feature(lags_data, rolling_window, num),\n",
    "        'std': lambda : std_feature(lags_data, rolling_window, num),\n",
    "        'max': lambda : max_feature(lags_data, rolling_window, num),\n",
    "        'min': lambda : min_feature(lags_data, rolling_window, num),\n",
    "        'quantile': lambda : quantile_feature(lags_data, rolling_window, num),\n",
    "        'iqr': lambda : iqr_feature(lags_data, rolling_window, num),\n",
    "        'entropy': lambda : entropy_feature(lags_data, rolling_window, num),\n",
    "        'trimmean': lambda : trimmean_feature(lags_data, rolling_window, num),\n",
    "        'variation': lambda : variation_feature(lags_data, rolling_window, num),\n",
    "        'hmean': lambda : hmean_feature(lags_data, rolling_window, num),\n",
    "        'gmean': lambda : gmean_feature(lags_data, rolling_window, num),\n",
    "        'mad': lambda : mad_feature(lags_data, rolling_window, num),\n",
    "#         'gstd': lambda : gstd_feature(lags_data, rolling_window, num),\n",
    "        'tvar': lambda : tvar_feature(lags_data, rolling_window, num),\n",
    "        'kurtosis': lambda : kurtosis_feature(lags_data, rolling_window, num),\n",
    "        'sem': lambda : sem_feature(lags_data, rolling_window, num),\n",
    "        'wav': lambda : wav_feature(lags_data, rolling_window, num),\n",
    "        #--------------------------------------------------------------\n",
    "        'minute': lambda : minute_feature(date, num),\n",
    "        'hour': lambda : hour_feature(date, num),\n",
    "        'dayofweek': lambda : dayofweek_feature(date, num),\n",
    "        'day': lambda : day_feature(date, num),\n",
    "        'month': lambda : month_feature(date, num),\n",
    "        'quarter': lambda : quarter_feature(date, num),\n",
    "        'weekofyear': lambda : weekofyear_feature(date, num),\n",
    "        'weekend': lambda : weekend_feature(date, num)\n",
    "    }.get(value)()"
   ]
  },
  {
   "cell_type": "code",
   "execution_count": 66,
   "metadata": {},
   "outputs": [],
   "source": [
    "def create_features(feature_names, lags_data, date):                       ## Creacion de features para las ventanas segun avanzan (se llama varias veces)\n",
    "    features = []                                                          ## Lista vacía de features para inicializar\n",
    "    for f in feature_names:                                                ## Por cada feature que nos pidan añadir\n",
    "        ftype, info = f.split('_',1)                                       ## Separamos el str a la altura de la barrabaja para separar en tipo de feature (p. ej minute) y numero (p ej 60)\n",
    "        if '_' in info:                                                    ## Si nos queda otra barrabaja es que es dato calculado con una rolling window\n",
    "            rolling_window, num = info.split('_')                          ## separamos en rolling window y numero\n",
    "            num = int(num)                                                 ## str a int\n",
    "            rolling_window = int(rolling_window)                           ## str a int\n",
    "        else:\n",
    "            num = int(info)                                                ## tambien puede ser que no se de el caso de incluir el ftype en el nombre, asi que seguimos adelante simplemente sin rolling window\n",
    "            rolling_window = None\n",
    "        features.append(switch_features(ftype, lags_data, date, rolling_window, num))\n",
    "                                \n",
    "    return features"
   ]
  },
  {
   "cell_type": "markdown",
   "metadata": {},
   "source": [
    "---"
   ]
  },
  {
   "cell_type": "code",
   "execution_count": 67,
   "metadata": {},
   "outputs": [],
   "source": [
    "def switch_optimization(value, regressor):                                  ## Switch para elegir optimizaciones del regresor\n",
    "    return {\n",
    "        'tpe': lambda : tpe_optimization(),                                 ## TPE Tree-structured Parzen optimization (Secuencial)\n",
    "        'pso': lambda : pso_optimization(),                                 ## PSO Particle Swarm Optimization (Enjambre)\n",
    "    }.get(value)()"
   ]
  },
  {
   "cell_type": "code",
   "execution_count": 68,
   "metadata": {},
   "outputs": [
    {
     "data": {
      "text/plain": [
       "2288"
      ]
     },
     "execution_count": 68,
     "metadata": {},
     "output_type": "execute_result"
    }
   ],
   "source": [
    "len(df)"
   ]
  },
  {
   "cell_type": "markdown",
   "metadata": {},
   "source": [
    "---"
   ]
  },
  {
   "cell_type": "code",
   "execution_count": 176,
   "metadata": {},
   "outputs": [],
   "source": [
    "def recursive_forecast(y, model, window_length, feature_names, rolling_window, n_steps): ## modelo debe estar pre-entrenado\n",
    "    \"\"\"\n",
    "    Parameters\n",
    "    ----------\n",
    "    y: pd.Series holding the input time-series to forecast\n",
    "    model: pre-trained machine learning model\n",
    "    lags: list of lags used for training the model\n",
    "    n_steps: number of time periods in the forecasting horizon\n",
    "    step: forecasting time period\n",
    "   \n",
    "    Returns\n",
    "    -------\n",
    "    fcast_values: pd.Series with forecasted values\n",
    "    \"\"\"\n",
    "   \n",
    "    # get the dates to forecast\n",
    "    last_date = y.index[-1] + datetime.timedelta(minutes=15)                     ## ultima fecha, le añadimos un delay de 15 mins porque?¿ usamos 15 minutos de validacion o test \n",
    "    target_range = pd.date_range(last_date, periods=n_steps, freq=freq)          ## creamos el target a partir del ultimo dia. \n",
    "    target_value = np.arange(n_steps, dtype = float)                             ## Si no guardamos como dtype float nos guarda como enteros\n",
    "    max_rol = max(rolling_window, default=1)                                     ## Maximo del array del rolling window\n",
    "    lags = list(y.iloc[-(window_length+(max_rol-1)):,0].values)                  ## creacion de lags en forma de lista. Indexando el valor de las ys (solo hay ys porque es una serie temporal duh)\n",
    "    ####\n",
    "    \n",
    "    \n",
    "    for i in range(n_steps):                                                     ## Para cada uno de los steps\n",
    "        train = create_features(feature_names, lags, target_range[i])            ## \n",
    "        new_value = model.predict(pd.DataFrame(train).transpose())               ## Calculo del nuevo valor\n",
    "        target_value[i] = new_value[0]                                           ## Guardamos el valor en el target\n",
    "        lags.pop(0)                                                              ## Quitamos el primer valor del lag\n",
    "        lags.append(new_value[0])                                                ## añadimos la prediccion al final del lag\n",
    "                                                                                 ## Y volvemos a gestionar con el nuevo lag\n",
    "           \n",
    "    return target_value\n",
    "\n",
    "def recursive_forecast_np(y, model, window_length, feature_names, \n",
    "                          rolling_window, n_steps):\n",
    "    \"\"\"\n",
    "    Recursive forecast function using numpy arrays\n",
    "\n",
    "    Since keras LSTM and TCN models require numpy arrays that have specific \n",
    "    shapes to function, implement recursive forecasting on numpy arrays, \n",
    "    updating each data point with the previous one to predict the next.\n",
    "\n",
    "    Parameters\n",
    "    ----------\n",
    "    y: pd.Series\n",
    "        Input time series with constant frequency\n",
    "    model: pre-trained model\n",
    "        Keras RNN model\n",
    "    scaler: Scaler\n",
    "        Scaler to apply to Keras model input\n",
    "    \n",
    "    Returns\n",
    "    -------\n",
    "    pd.Series\n",
    "        Forecasted values\n",
    "    \"\"\"\n",
    "   \n",
    "    # get the dates to forecast\n",
    "    last_date = y.index[-1] + datetime.timedelta(minutes=15)\n",
    "    target_range = pd.date_range(last_date, periods=n_steps, freq=freq) \n",
    "    target_value = np.arange(n_steps, dtype = float)       \n",
    "    max_rol = max(rolling_window, default=1)     \n",
    "    lags = list(y.iloc[-(window_length+(max_rol-1)):,0].values)\n",
    "    ####\n",
    "    \n",
    "    \n",
    "    for i in range(n_steps):                                  \n",
    "        train = create_features(feature_names, lags, target_range[i]) \n",
    "        train_np = np.array(train, dtype=object)\n",
    "        train_np_s = scaler.fit_transform(train_np.reshape(-1,1))\n",
    "        new_value = model.predict(train_np_s.reshape(-1,1,len(feature_names)))\n",
    "        new_valu_0 = new_value[0][0][0]\n",
    "        target_value[i] = new_valu_0\n",
    "        lags.pop(0)                                                \n",
    "        lags.append(new_valu_0)                                   \n",
    "                                                        \n",
    "\n",
    "    return target_value"
   ]
  },
  {
   "cell_type": "markdown",
   "metadata": {},
   "source": [
    "---"
   ]
  },
  {
   "cell_type": "code",
   "execution_count": 70,
   "metadata": {},
   "outputs": [],
   "source": [
    "#features = ['mean', 'std', 'max', 'min', 'quantile', 'iqr', 'entropy', 'trimmean', 'variation', 'hmean', 'gmean', 'mad', 'tvar',\n",
    "#            'kurtosis', 'sem', 'minute', 'hour', 'dayofweek', 'day', 'month', 'quarter', 'weekofyear', 'weekend']\n",
    "\n",
    "features = ['mean', 'std', 'max', 'min', 'minute']                               ## Seleccion de features a incluir en los predictores"
   ]
  },
  {
   "cell_type": "code",
   "execution_count": 103,
   "metadata": {},
   "outputs": [
    {
     "name": "stdout",
     "output_type": "stream",
     "text": [
      "CPU times: user 1.38 s, sys: 76.7 ms, total: 1.46 s\n",
      "Wall time: 1.45 s\n",
      "CPU times: user 2.07 ms, sys: 574 µs, total: 2.64 ms\n",
      "Wall time: 2.09 ms\n",
      "CPU times: user 861 µs, sys: 0 ns, total: 861 µs\n",
      "Wall time: 736 µs\n"
     ]
    },
    {
     "data": {
      "text/html": [
       "<div>\n",
       "<style scoped>\n",
       "    .dataframe tbody tr th:only-of-type {\n",
       "        vertical-align: middle;\n",
       "    }\n",
       "\n",
       "    .dataframe tbody tr th {\n",
       "        vertical-align: top;\n",
       "    }\n",
       "\n",
       "    .dataframe thead th {\n",
       "        text-align: right;\n",
       "    }\n",
       "</style>\n",
       "<table border=\"1\" class=\"dataframe\">\n",
       "  <thead>\n",
       "    <tr style=\"text-align: right;\">\n",
       "      <th></th>\n",
       "      <th>lag_200</th>\n",
       "      <th>lag_199</th>\n",
       "      <th>lag_198</th>\n",
       "      <th>lag_197</th>\n",
       "      <th>lag_196</th>\n",
       "      <th>lag_195</th>\n",
       "      <th>lag_194</th>\n",
       "      <th>lag_193</th>\n",
       "      <th>lag_192</th>\n",
       "      <th>lag_191</th>\n",
       "      <th>...</th>\n",
       "      <th>minute_51</th>\n",
       "      <th>minute_52</th>\n",
       "      <th>minute_53</th>\n",
       "      <th>minute_54</th>\n",
       "      <th>minute_55</th>\n",
       "      <th>minute_56</th>\n",
       "      <th>minute_57</th>\n",
       "      <th>minute_58</th>\n",
       "      <th>minute_59</th>\n",
       "      <th>minute_60</th>\n",
       "    </tr>\n",
       "  </thead>\n",
       "  <tbody>\n",
       "    <tr>\n",
       "      <th>2019-05-23 18:58:56</th>\n",
       "      <td>14473.360</td>\n",
       "      <td>15377.900</td>\n",
       "      <td>15206.684</td>\n",
       "      <td>15505.47</td>\n",
       "      <td>15426.56</td>\n",
       "      <td>15986.16</td>\n",
       "      <td>15359.86</td>\n",
       "      <td>13551.32</td>\n",
       "      <td>13535.84</td>\n",
       "      <td>14710.45</td>\n",
       "      <td>...</td>\n",
       "      <td>0.0</td>\n",
       "      <td>0.0</td>\n",
       "      <td>0.0</td>\n",
       "      <td>0.0</td>\n",
       "      <td>0.0</td>\n",
       "      <td>0.0</td>\n",
       "      <td>0.0</td>\n",
       "      <td>1.0</td>\n",
       "      <td>0.0</td>\n",
       "      <td>0.0</td>\n",
       "    </tr>\n",
       "    <tr>\n",
       "      <th>2019-05-23 19:18:56</th>\n",
       "      <td>15377.900</td>\n",
       "      <td>15206.684</td>\n",
       "      <td>15505.470</td>\n",
       "      <td>15426.56</td>\n",
       "      <td>15986.16</td>\n",
       "      <td>15359.86</td>\n",
       "      <td>13551.32</td>\n",
       "      <td>13535.84</td>\n",
       "      <td>14710.45</td>\n",
       "      <td>15158.27</td>\n",
       "      <td>...</td>\n",
       "      <td>0.0</td>\n",
       "      <td>0.0</td>\n",
       "      <td>0.0</td>\n",
       "      <td>0.0</td>\n",
       "      <td>0.0</td>\n",
       "      <td>0.0</td>\n",
       "      <td>0.0</td>\n",
       "      <td>0.0</td>\n",
       "      <td>0.0</td>\n",
       "      <td>0.0</td>\n",
       "    </tr>\n",
       "    <tr>\n",
       "      <th>2019-05-23 19:38:56</th>\n",
       "      <td>15206.684</td>\n",
       "      <td>15505.470</td>\n",
       "      <td>15426.560</td>\n",
       "      <td>15986.16</td>\n",
       "      <td>15359.86</td>\n",
       "      <td>13551.32</td>\n",
       "      <td>13535.84</td>\n",
       "      <td>14710.45</td>\n",
       "      <td>15158.27</td>\n",
       "      <td>15632.64</td>\n",
       "      <td>...</td>\n",
       "      <td>0.0</td>\n",
       "      <td>0.0</td>\n",
       "      <td>0.0</td>\n",
       "      <td>0.0</td>\n",
       "      <td>0.0</td>\n",
       "      <td>0.0</td>\n",
       "      <td>0.0</td>\n",
       "      <td>0.0</td>\n",
       "      <td>0.0</td>\n",
       "      <td>0.0</td>\n",
       "    </tr>\n",
       "    <tr>\n",
       "      <th>2019-05-23 19:58:56</th>\n",
       "      <td>15505.470</td>\n",
       "      <td>15426.560</td>\n",
       "      <td>15986.160</td>\n",
       "      <td>15359.86</td>\n",
       "      <td>13551.32</td>\n",
       "      <td>13535.84</td>\n",
       "      <td>14710.45</td>\n",
       "      <td>15158.27</td>\n",
       "      <td>15632.64</td>\n",
       "      <td>15238.12</td>\n",
       "      <td>...</td>\n",
       "      <td>0.0</td>\n",
       "      <td>0.0</td>\n",
       "      <td>0.0</td>\n",
       "      <td>0.0</td>\n",
       "      <td>0.0</td>\n",
       "      <td>0.0</td>\n",
       "      <td>0.0</td>\n",
       "      <td>1.0</td>\n",
       "      <td>0.0</td>\n",
       "      <td>0.0</td>\n",
       "    </tr>\n",
       "    <tr>\n",
       "      <th>2019-05-23 20:18:56</th>\n",
       "      <td>15426.560</td>\n",
       "      <td>15986.160</td>\n",
       "      <td>15359.860</td>\n",
       "      <td>13551.32</td>\n",
       "      <td>13535.84</td>\n",
       "      <td>14710.45</td>\n",
       "      <td>15158.27</td>\n",
       "      <td>15632.64</td>\n",
       "      <td>15238.12</td>\n",
       "      <td>15492.05</td>\n",
       "      <td>...</td>\n",
       "      <td>0.0</td>\n",
       "      <td>0.0</td>\n",
       "      <td>0.0</td>\n",
       "      <td>0.0</td>\n",
       "      <td>0.0</td>\n",
       "      <td>0.0</td>\n",
       "      <td>0.0</td>\n",
       "      <td>0.0</td>\n",
       "      <td>0.0</td>\n",
       "      <td>0.0</td>\n",
       "    </tr>\n",
       "  </tbody>\n",
       "</table>\n",
       "<p>5 rows × 2780 columns</p>\n",
       "</div>"
      ],
      "text/plain": [
       "                       lag_200    lag_199    lag_198   lag_197   lag_196  \\\n",
       "2019-05-23 18:58:56  14473.360  15377.900  15206.684  15505.47  15426.56   \n",
       "2019-05-23 19:18:56  15377.900  15206.684  15505.470  15426.56  15986.16   \n",
       "2019-05-23 19:38:56  15206.684  15505.470  15426.560  15986.16  15359.86   \n",
       "2019-05-23 19:58:56  15505.470  15426.560  15986.160  15359.86  13551.32   \n",
       "2019-05-23 20:18:56  15426.560  15986.160  15359.860  13551.32  13535.84   \n",
       "\n",
       "                      lag_195   lag_194   lag_193   lag_192   lag_191  ...  \\\n",
       "2019-05-23 18:58:56  15986.16  15359.86  13551.32  13535.84  14710.45  ...   \n",
       "2019-05-23 19:18:56  15359.86  13551.32  13535.84  14710.45  15158.27  ...   \n",
       "2019-05-23 19:38:56  13551.32  13535.84  14710.45  15158.27  15632.64  ...   \n",
       "2019-05-23 19:58:56  13535.84  14710.45  15158.27  15632.64  15238.12  ...   \n",
       "2019-05-23 20:18:56  14710.45  15158.27  15632.64  15238.12  15492.05  ...   \n",
       "\n",
       "                     minute_51  minute_52  minute_53  minute_54  minute_55  \\\n",
       "2019-05-23 18:58:56        0.0        0.0        0.0        0.0        0.0   \n",
       "2019-05-23 19:18:56        0.0        0.0        0.0        0.0        0.0   \n",
       "2019-05-23 19:38:56        0.0        0.0        0.0        0.0        0.0   \n",
       "2019-05-23 19:58:56        0.0        0.0        0.0        0.0        0.0   \n",
       "2019-05-23 20:18:56        0.0        0.0        0.0        0.0        0.0   \n",
       "\n",
       "                     minute_56  minute_57  minute_58  minute_59  minute_60  \n",
       "2019-05-23 18:58:56        0.0        0.0        1.0        0.0        0.0  \n",
       "2019-05-23 19:18:56        0.0        0.0        0.0        0.0        0.0  \n",
       "2019-05-23 19:38:56        0.0        0.0        0.0        0.0        0.0  \n",
       "2019-05-23 19:58:56        0.0        0.0        1.0        0.0        0.0  \n",
       "2019-05-23 20:18:56        0.0        0.0        0.0        0.0        0.0  \n",
       "\n",
       "[5 rows x 2780 columns]"
      ]
     },
     "execution_count": 103,
     "metadata": {},
     "output_type": "execute_result"
    }
   ],
   "source": [
    "%time X_train = create_sample_features(y_train, window_length=window_length, features=features, rolling_window=rolling_window)\n",
    "%time y_horizon = create_horizon(y_train, horizon)\n",
    "%time y_horizon = y_horizon.loc[X_train.index[0]:,:]\n",
    "X_train.head()"
   ]
  },
  {
   "cell_type": "markdown",
   "metadata": {},
   "source": [
    "**De 15 lags seleccionamos los 5 primeros**"
   ]
  },
  {
   "cell_type": "code",
   "execution_count": 104,
   "metadata": {},
   "outputs": [
    {
     "name": "stdout",
     "output_type": "stream",
     "text": [
      "CPU times: user 39.3 s, sys: 0 ns, total: 39.3 s\n",
      "Wall time: 10.2 s\n"
     ]
    }
   ],
   "source": [
    "selected_feat = 40\n",
    "%time best_features = feature_selection(X_train, y_horizon.values.ravel(), selected_feat)"
   ]
  },
  {
   "cell_type": "code",
   "execution_count": 105,
   "metadata": {},
   "outputs": [
    {
     "data": {
      "text/html": [
       "<div>\n",
       "<style scoped>\n",
       "    .dataframe tbody tr th:only-of-type {\n",
       "        vertical-align: middle;\n",
       "    }\n",
       "\n",
       "    .dataframe tbody tr th {\n",
       "        vertical-align: top;\n",
       "    }\n",
       "\n",
       "    .dataframe thead th {\n",
       "        text-align: right;\n",
       "    }\n",
       "</style>\n",
       "<table border=\"1\" class=\"dataframe\">\n",
       "  <thead>\n",
       "    <tr style=\"text-align: right;\">\n",
       "      <th></th>\n",
       "      <th>lag_198</th>\n",
       "      <th>lag_197</th>\n",
       "      <th>lag_189</th>\n",
       "      <th>lag_160</th>\n",
       "      <th>lag_150</th>\n",
       "      <th>lag_149</th>\n",
       "      <th>lag_144</th>\n",
       "      <th>lag_138</th>\n",
       "      <th>lag_133</th>\n",
       "      <th>lag_119</th>\n",
       "      <th>...</th>\n",
       "      <th>std_5_149</th>\n",
       "      <th>std_5_53</th>\n",
       "      <th>std_5_19</th>\n",
       "      <th>std_10_158</th>\n",
       "      <th>std_10_102</th>\n",
       "      <th>std_10_66</th>\n",
       "      <th>std_20_21</th>\n",
       "      <th>max_5_62</th>\n",
       "      <th>min_5_1</th>\n",
       "      <th>min_20_1</th>\n",
       "    </tr>\n",
       "  </thead>\n",
       "  <tbody>\n",
       "    <tr>\n",
       "      <th>2019-05-23 18:58:56</th>\n",
       "      <td>15206.684</td>\n",
       "      <td>15505.47</td>\n",
       "      <td>15632.640</td>\n",
       "      <td>15221.230</td>\n",
       "      <td>14555.66</td>\n",
       "      <td>15783.80</td>\n",
       "      <td>15376.350</td>\n",
       "      <td>16039.22</td>\n",
       "      <td>15955.72</td>\n",
       "      <td>14900.360</td>\n",
       "      <td>...</td>\n",
       "      <td>594.780559</td>\n",
       "      <td>338.177528</td>\n",
       "      <td>515.740958</td>\n",
       "      <td>1727.791599</td>\n",
       "      <td>938.768935</td>\n",
       "      <td>992.710413</td>\n",
       "      <td>785.240913</td>\n",
       "      <td>16131.659001</td>\n",
       "      <td>13282.525145</td>\n",
       "      <td>12927.209154</td>\n",
       "    </tr>\n",
       "    <tr>\n",
       "      <th>2019-05-23 19:18:56</th>\n",
       "      <td>15505.470</td>\n",
       "      <td>15426.56</td>\n",
       "      <td>15238.120</td>\n",
       "      <td>15437.118</td>\n",
       "      <td>15783.80</td>\n",
       "      <td>15352.78</td>\n",
       "      <td>15017.020</td>\n",
       "      <td>14929.60</td>\n",
       "      <td>13623.39</td>\n",
       "      <td>14957.770</td>\n",
       "      <td>...</td>\n",
       "      <td>629.781446</td>\n",
       "      <td>554.110579</td>\n",
       "      <td>537.266231</td>\n",
       "      <td>1677.835881</td>\n",
       "      <td>937.400380</td>\n",
       "      <td>1415.744427</td>\n",
       "      <td>732.780098</td>\n",
       "      <td>15694.334157</td>\n",
       "      <td>13282.525145</td>\n",
       "      <td>12927.209154</td>\n",
       "    </tr>\n",
       "    <tr>\n",
       "      <th>2019-05-23 19:38:56</th>\n",
       "      <td>15426.560</td>\n",
       "      <td>15986.16</td>\n",
       "      <td>15492.050</td>\n",
       "      <td>14364.660</td>\n",
       "      <td>15352.78</td>\n",
       "      <td>12900.97</td>\n",
       "      <td>14619.174</td>\n",
       "      <td>15233.86</td>\n",
       "      <td>15605.45</td>\n",
       "      <td>14895.394</td>\n",
       "      <td>...</td>\n",
       "      <td>1100.846771</td>\n",
       "      <td>497.647780</td>\n",
       "      <td>616.849019</td>\n",
       "      <td>1248.489175</td>\n",
       "      <td>873.803828</td>\n",
       "      <td>1345.483091</td>\n",
       "      <td>739.004188</td>\n",
       "      <td>15694.334157</td>\n",
       "      <td>14034.462672</td>\n",
       "      <td>12927.209154</td>\n",
       "    </tr>\n",
       "    <tr>\n",
       "      <th>2019-05-23 19:58:56</th>\n",
       "      <td>15986.160</td>\n",
       "      <td>15359.86</td>\n",
       "      <td>13777.480</td>\n",
       "      <td>13252.800</td>\n",
       "      <td>12900.97</td>\n",
       "      <td>14746.76</td>\n",
       "      <td>14806.100</td>\n",
       "      <td>12822.60</td>\n",
       "      <td>15481.21</td>\n",
       "      <td>15041.840</td>\n",
       "      <td>...</td>\n",
       "      <td>1101.720441</td>\n",
       "      <td>578.590243</td>\n",
       "      <td>774.410558</td>\n",
       "      <td>1153.311614</td>\n",
       "      <td>892.403342</td>\n",
       "      <td>1441.508289</td>\n",
       "      <td>801.798825</td>\n",
       "      <td>16250.950651</td>\n",
       "      <td>14034.462672</td>\n",
       "      <td>12927.209154</td>\n",
       "    </tr>\n",
       "    <tr>\n",
       "      <th>2019-05-23 20:18:56</th>\n",
       "      <td>15359.860</td>\n",
       "      <td>13551.32</td>\n",
       "      <td>15117.658</td>\n",
       "      <td>15411.550</td>\n",
       "      <td>14746.76</td>\n",
       "      <td>13657.66</td>\n",
       "      <td>13918.510</td>\n",
       "      <td>16038.56</td>\n",
       "      <td>15654.67</td>\n",
       "      <td>14850.260</td>\n",
       "      <td>...</td>\n",
       "      <td>1193.945852</td>\n",
       "      <td>567.765115</td>\n",
       "      <td>764.108405</td>\n",
       "      <td>1024.950360</td>\n",
       "      <td>919.034803</td>\n",
       "      <td>1456.500978</td>\n",
       "      <td>792.761812</td>\n",
       "      <td>17942.620357</td>\n",
       "      <td>14159.665723</td>\n",
       "      <td>12927.209154</td>\n",
       "    </tr>\n",
       "  </tbody>\n",
       "</table>\n",
       "<p>5 rows × 40 columns</p>\n",
       "</div>"
      ],
      "text/plain": [
       "                       lag_198   lag_197    lag_189    lag_160   lag_150  \\\n",
       "2019-05-23 18:58:56  15206.684  15505.47  15632.640  15221.230  14555.66   \n",
       "2019-05-23 19:18:56  15505.470  15426.56  15238.120  15437.118  15783.80   \n",
       "2019-05-23 19:38:56  15426.560  15986.16  15492.050  14364.660  15352.78   \n",
       "2019-05-23 19:58:56  15986.160  15359.86  13777.480  13252.800  12900.97   \n",
       "2019-05-23 20:18:56  15359.860  13551.32  15117.658  15411.550  14746.76   \n",
       "\n",
       "                      lag_149    lag_144   lag_138   lag_133    lag_119  ...  \\\n",
       "2019-05-23 18:58:56  15783.80  15376.350  16039.22  15955.72  14900.360  ...   \n",
       "2019-05-23 19:18:56  15352.78  15017.020  14929.60  13623.39  14957.770  ...   \n",
       "2019-05-23 19:38:56  12900.97  14619.174  15233.86  15605.45  14895.394  ...   \n",
       "2019-05-23 19:58:56  14746.76  14806.100  12822.60  15481.21  15041.840  ...   \n",
       "2019-05-23 20:18:56  13657.66  13918.510  16038.56  15654.67  14850.260  ...   \n",
       "\n",
       "                       std_5_149    std_5_53    std_5_19   std_10_158  \\\n",
       "2019-05-23 18:58:56   594.780559  338.177528  515.740958  1727.791599   \n",
       "2019-05-23 19:18:56   629.781446  554.110579  537.266231  1677.835881   \n",
       "2019-05-23 19:38:56  1100.846771  497.647780  616.849019  1248.489175   \n",
       "2019-05-23 19:58:56  1101.720441  578.590243  774.410558  1153.311614   \n",
       "2019-05-23 20:18:56  1193.945852  567.765115  764.108405  1024.950360   \n",
       "\n",
       "                     std_10_102    std_10_66   std_20_21      max_5_62  \\\n",
       "2019-05-23 18:58:56  938.768935   992.710413  785.240913  16131.659001   \n",
       "2019-05-23 19:18:56  937.400380  1415.744427  732.780098  15694.334157   \n",
       "2019-05-23 19:38:56  873.803828  1345.483091  739.004188  15694.334157   \n",
       "2019-05-23 19:58:56  892.403342  1441.508289  801.798825  16250.950651   \n",
       "2019-05-23 20:18:56  919.034803  1456.500978  792.761812  17942.620357   \n",
       "\n",
       "                          min_5_1      min_20_1  \n",
       "2019-05-23 18:58:56  13282.525145  12927.209154  \n",
       "2019-05-23 19:18:56  13282.525145  12927.209154  \n",
       "2019-05-23 19:38:56  14034.462672  12927.209154  \n",
       "2019-05-23 19:58:56  14034.462672  12927.209154  \n",
       "2019-05-23 20:18:56  14159.665723  12927.209154  \n",
       "\n",
       "[5 rows x 40 columns]"
      ]
     },
     "execution_count": 105,
     "metadata": {},
     "output_type": "execute_result"
    }
   ],
   "source": [
    "X_train_selec = X_train.loc[:, best_features]\n",
    "X_train_selec.head()"
   ]
  },
  {
   "cell_type": "code",
   "execution_count": 106,
   "metadata": {},
   "outputs": [
    {
     "data": {
      "text/plain": [
       "1969"
      ]
     },
     "execution_count": 106,
     "metadata": {},
     "output_type": "execute_result"
    }
   ],
   "source": [
    "X_train_selec  = X_train_selec.loc[:,~X_train_selec.columns.duplicated()]\n",
    "X_train_selec.head()\n",
    "len(X_train_selec)"
   ]
  },
  {
   "cell_type": "code",
   "execution_count": 107,
   "metadata": {},
   "outputs": [
    {
     "data": {
      "text/html": [
       "<div>\n",
       "<style scoped>\n",
       "    .dataframe tbody tr th:only-of-type {\n",
       "        vertical-align: middle;\n",
       "    }\n",
       "\n",
       "    .dataframe tbody tr th {\n",
       "        vertical-align: top;\n",
       "    }\n",
       "\n",
       "    .dataframe thead th {\n",
       "        text-align: right;\n",
       "    }\n",
       "</style>\n",
       "<table border=\"1\" class=\"dataframe\">\n",
       "  <thead>\n",
       "    <tr style=\"text-align: right;\">\n",
       "      <th></th>\n",
       "      <th>VALUE</th>\n",
       "    </tr>\n",
       "  </thead>\n",
       "  <tbody>\n",
       "    <tr>\n",
       "      <th>2019-05-23 18:58:56</th>\n",
       "      <td>14159.665723</td>\n",
       "    </tr>\n",
       "    <tr>\n",
       "      <th>2019-05-23 19:18:56</th>\n",
       "      <td>14713.720290</td>\n",
       "    </tr>\n",
       "    <tr>\n",
       "      <th>2019-05-23 19:38:56</th>\n",
       "      <td>14798.446840</td>\n",
       "    </tr>\n",
       "    <tr>\n",
       "      <th>2019-05-23 19:58:56</th>\n",
       "      <td>16045.816484</td>\n",
       "    </tr>\n",
       "    <tr>\n",
       "      <th>2019-05-23 20:18:56</th>\n",
       "      <td>16808.527429</td>\n",
       "    </tr>\n",
       "    <tr>\n",
       "      <th>...</th>\n",
       "      <td>...</td>\n",
       "    </tr>\n",
       "    <tr>\n",
       "      <th>2019-06-20 01:38:56</th>\n",
       "      <td>15023.758423</td>\n",
       "    </tr>\n",
       "    <tr>\n",
       "      <th>2019-06-20 01:58:56</th>\n",
       "      <td>14055.267909</td>\n",
       "    </tr>\n",
       "    <tr>\n",
       "      <th>2019-06-20 02:18:56</th>\n",
       "      <td>12310.995014</td>\n",
       "    </tr>\n",
       "    <tr>\n",
       "      <th>2019-06-20 02:38:56</th>\n",
       "      <td>13511.603233</td>\n",
       "    </tr>\n",
       "    <tr>\n",
       "      <th>2019-06-20 02:58:56</th>\n",
       "      <td>12374.071389</td>\n",
       "    </tr>\n",
       "  </tbody>\n",
       "</table>\n",
       "<p>1969 rows × 1 columns</p>\n",
       "</div>"
      ],
      "text/plain": [
       "                            VALUE\n",
       "2019-05-23 18:58:56  14159.665723\n",
       "2019-05-23 19:18:56  14713.720290\n",
       "2019-05-23 19:38:56  14798.446840\n",
       "2019-05-23 19:58:56  16045.816484\n",
       "2019-05-23 20:18:56  16808.527429\n",
       "...                           ...\n",
       "2019-06-20 01:38:56  15023.758423\n",
       "2019-06-20 01:58:56  14055.267909\n",
       "2019-06-20 02:18:56  12310.995014\n",
       "2019-06-20 02:38:56  13511.603233\n",
       "2019-06-20 02:58:56  12374.071389\n",
       "\n",
       "[1969 rows x 1 columns]"
      ]
     },
     "execution_count": 107,
     "metadata": {},
     "output_type": "execute_result"
    }
   ],
   "source": [
    "y_train.loc[X_train.index[0]:]"
   ]
  },
  {
   "cell_type": "code",
   "execution_count": 108,
   "metadata": {},
   "outputs": [
    {
     "data": {
      "text/html": [
       "<div>\n",
       "<style scoped>\n",
       "    .dataframe tbody tr th:only-of-type {\n",
       "        vertical-align: middle;\n",
       "    }\n",
       "\n",
       "    .dataframe tbody tr th {\n",
       "        vertical-align: top;\n",
       "    }\n",
       "\n",
       "    .dataframe thead th {\n",
       "        text-align: right;\n",
       "    }\n",
       "</style>\n",
       "<table border=\"1\" class=\"dataframe\">\n",
       "  <thead>\n",
       "    <tr style=\"text-align: right;\">\n",
       "      <th></th>\n",
       "      <th>lag_200</th>\n",
       "      <th>lag_199</th>\n",
       "      <th>lag_198</th>\n",
       "      <th>lag_197</th>\n",
       "      <th>lag_196</th>\n",
       "      <th>lag_195</th>\n",
       "      <th>lag_194</th>\n",
       "      <th>lag_193</th>\n",
       "      <th>lag_192</th>\n",
       "      <th>lag_191</th>\n",
       "      <th>...</th>\n",
       "      <th>minute_51</th>\n",
       "      <th>minute_52</th>\n",
       "      <th>minute_53</th>\n",
       "      <th>minute_54</th>\n",
       "      <th>minute_55</th>\n",
       "      <th>minute_56</th>\n",
       "      <th>minute_57</th>\n",
       "      <th>minute_58</th>\n",
       "      <th>minute_59</th>\n",
       "      <th>minute_60</th>\n",
       "    </tr>\n",
       "  </thead>\n",
       "  <tbody>\n",
       "    <tr>\n",
       "      <th>2019-05-23 18:58:56</th>\n",
       "      <td>14473.360</td>\n",
       "      <td>15377.900</td>\n",
       "      <td>15206.684</td>\n",
       "      <td>15505.47</td>\n",
       "      <td>15426.56</td>\n",
       "      <td>15986.16</td>\n",
       "      <td>15359.86</td>\n",
       "      <td>13551.32</td>\n",
       "      <td>13535.84</td>\n",
       "      <td>14710.45</td>\n",
       "      <td>...</td>\n",
       "      <td>0.0</td>\n",
       "      <td>0.0</td>\n",
       "      <td>0.0</td>\n",
       "      <td>0.0</td>\n",
       "      <td>0.0</td>\n",
       "      <td>0.0</td>\n",
       "      <td>0.0</td>\n",
       "      <td>1.0</td>\n",
       "      <td>0.0</td>\n",
       "      <td>0.0</td>\n",
       "    </tr>\n",
       "    <tr>\n",
       "      <th>2019-05-23 19:18:56</th>\n",
       "      <td>15377.900</td>\n",
       "      <td>15206.684</td>\n",
       "      <td>15505.470</td>\n",
       "      <td>15426.56</td>\n",
       "      <td>15986.16</td>\n",
       "      <td>15359.86</td>\n",
       "      <td>13551.32</td>\n",
       "      <td>13535.84</td>\n",
       "      <td>14710.45</td>\n",
       "      <td>15158.27</td>\n",
       "      <td>...</td>\n",
       "      <td>0.0</td>\n",
       "      <td>0.0</td>\n",
       "      <td>0.0</td>\n",
       "      <td>0.0</td>\n",
       "      <td>0.0</td>\n",
       "      <td>0.0</td>\n",
       "      <td>0.0</td>\n",
       "      <td>0.0</td>\n",
       "      <td>0.0</td>\n",
       "      <td>0.0</td>\n",
       "    </tr>\n",
       "    <tr>\n",
       "      <th>2019-05-23 19:38:56</th>\n",
       "      <td>15206.684</td>\n",
       "      <td>15505.470</td>\n",
       "      <td>15426.560</td>\n",
       "      <td>15986.16</td>\n",
       "      <td>15359.86</td>\n",
       "      <td>13551.32</td>\n",
       "      <td>13535.84</td>\n",
       "      <td>14710.45</td>\n",
       "      <td>15158.27</td>\n",
       "      <td>15632.64</td>\n",
       "      <td>...</td>\n",
       "      <td>0.0</td>\n",
       "      <td>0.0</td>\n",
       "      <td>0.0</td>\n",
       "      <td>0.0</td>\n",
       "      <td>0.0</td>\n",
       "      <td>0.0</td>\n",
       "      <td>0.0</td>\n",
       "      <td>0.0</td>\n",
       "      <td>0.0</td>\n",
       "      <td>0.0</td>\n",
       "    </tr>\n",
       "    <tr>\n",
       "      <th>2019-05-23 19:58:56</th>\n",
       "      <td>15505.470</td>\n",
       "      <td>15426.560</td>\n",
       "      <td>15986.160</td>\n",
       "      <td>15359.86</td>\n",
       "      <td>13551.32</td>\n",
       "      <td>13535.84</td>\n",
       "      <td>14710.45</td>\n",
       "      <td>15158.27</td>\n",
       "      <td>15632.64</td>\n",
       "      <td>15238.12</td>\n",
       "      <td>...</td>\n",
       "      <td>0.0</td>\n",
       "      <td>0.0</td>\n",
       "      <td>0.0</td>\n",
       "      <td>0.0</td>\n",
       "      <td>0.0</td>\n",
       "      <td>0.0</td>\n",
       "      <td>0.0</td>\n",
       "      <td>1.0</td>\n",
       "      <td>0.0</td>\n",
       "      <td>0.0</td>\n",
       "    </tr>\n",
       "    <tr>\n",
       "      <th>2019-05-23 20:18:56</th>\n",
       "      <td>15426.560</td>\n",
       "      <td>15986.160</td>\n",
       "      <td>15359.860</td>\n",
       "      <td>13551.32</td>\n",
       "      <td>13535.84</td>\n",
       "      <td>14710.45</td>\n",
       "      <td>15158.27</td>\n",
       "      <td>15632.64</td>\n",
       "      <td>15238.12</td>\n",
       "      <td>15492.05</td>\n",
       "      <td>...</td>\n",
       "      <td>0.0</td>\n",
       "      <td>0.0</td>\n",
       "      <td>0.0</td>\n",
       "      <td>0.0</td>\n",
       "      <td>0.0</td>\n",
       "      <td>0.0</td>\n",
       "      <td>0.0</td>\n",
       "      <td>0.0</td>\n",
       "      <td>0.0</td>\n",
       "      <td>0.0</td>\n",
       "    </tr>\n",
       "  </tbody>\n",
       "</table>\n",
       "<p>5 rows × 2780 columns</p>\n",
       "</div>"
      ],
      "text/plain": [
       "                       lag_200    lag_199    lag_198   lag_197   lag_196  \\\n",
       "2019-05-23 18:58:56  14473.360  15377.900  15206.684  15505.47  15426.56   \n",
       "2019-05-23 19:18:56  15377.900  15206.684  15505.470  15426.56  15986.16   \n",
       "2019-05-23 19:38:56  15206.684  15505.470  15426.560  15986.16  15359.86   \n",
       "2019-05-23 19:58:56  15505.470  15426.560  15986.160  15359.86  13551.32   \n",
       "2019-05-23 20:18:56  15426.560  15986.160  15359.860  13551.32  13535.84   \n",
       "\n",
       "                      lag_195   lag_194   lag_193   lag_192   lag_191  ...  \\\n",
       "2019-05-23 18:58:56  15986.16  15359.86  13551.32  13535.84  14710.45  ...   \n",
       "2019-05-23 19:18:56  15359.86  13551.32  13535.84  14710.45  15158.27  ...   \n",
       "2019-05-23 19:38:56  13551.32  13535.84  14710.45  15158.27  15632.64  ...   \n",
       "2019-05-23 19:58:56  13535.84  14710.45  15158.27  15632.64  15238.12  ...   \n",
       "2019-05-23 20:18:56  14710.45  15158.27  15632.64  15238.12  15492.05  ...   \n",
       "\n",
       "                     minute_51  minute_52  minute_53  minute_54  minute_55  \\\n",
       "2019-05-23 18:58:56        0.0        0.0        0.0        0.0        0.0   \n",
       "2019-05-23 19:18:56        0.0        0.0        0.0        0.0        0.0   \n",
       "2019-05-23 19:38:56        0.0        0.0        0.0        0.0        0.0   \n",
       "2019-05-23 19:58:56        0.0        0.0        0.0        0.0        0.0   \n",
       "2019-05-23 20:18:56        0.0        0.0        0.0        0.0        0.0   \n",
       "\n",
       "                     minute_56  minute_57  minute_58  minute_59  minute_60  \n",
       "2019-05-23 18:58:56        0.0        0.0        1.0        0.0        0.0  \n",
       "2019-05-23 19:18:56        0.0        0.0        0.0        0.0        0.0  \n",
       "2019-05-23 19:38:56        0.0        0.0        0.0        0.0        0.0  \n",
       "2019-05-23 19:58:56        0.0        0.0        1.0        0.0        0.0  \n",
       "2019-05-23 20:18:56        0.0        0.0        0.0        0.0        0.0  \n",
       "\n",
       "[5 rows x 2780 columns]"
      ]
     },
     "execution_count": 108,
     "metadata": {},
     "output_type": "execute_result"
    }
   ],
   "source": [
    "X_train.head()"
   ]
  },
  {
   "cell_type": "code",
   "execution_count": 26,
   "metadata": {},
   "outputs": [
    {
     "name": "stdout",
     "output_type": "stream",
     "text": [
      "CPU times: user 2.32 s, sys: 91.1 ms, total: 2.41 s\n",
      "Wall time: 631 ms\n"
     ]
    },
    {
     "data": {
      "text/plain": [
       "LGBMRegressor()"
      ]
     },
     "execution_count": 26,
     "metadata": {},
     "output_type": "execute_result"
    }
   ],
   "source": [
    "regressor = lgb.LGBMRegressor()\n",
    "%time regressor.fit(X_train_selec, y_horizon.values.ravel())"
   ]
  },
  {
   "cell_type": "code",
   "execution_count": 177,
   "metadata": {},
   "outputs": [],
   "source": [
    "np.warnings.filterwarnings('default', category=np.VisibleDeprecationWarning)   \n",
    "\n",
    "pred_manual = recursive_forecast_np(y_train, model4, window_length=window_length, feature_names=best_features, rolling_window=rolling_window, n_steps=points)\n",
    "#print('RMSE loss: %.2f' % (mean_squared_error(y_test, pred_manual, squared=False)))"
   ]
  },
  {
   "cell_type": "code",
   "execution_count": 178,
   "metadata": {},
   "outputs": [
    {
     "data": {
      "application/vnd.plotly.v1+json": {
       "config": {
        "plotlyServerURL": "https://plot.ly"
       },
       "data": [
        {
         "mode": "lines+markers",
         "name": "Test",
         "type": "scatter",
         "x": [
          "2019-06-20T03:18:56",
          "2019-06-20T03:38:56",
          "2019-06-20T03:58:56",
          "2019-06-20T04:18:56",
          "2019-06-20T04:38:56",
          "2019-06-20T04:58:56",
          "2019-06-20T05:18:56",
          "2019-06-20T05:38:56",
          "2019-06-20T05:58:56",
          "2019-06-20T06:18:56",
          "2019-06-20T06:38:56",
          "2019-06-20T06:58:56",
          "2019-06-20T07:18:56",
          "2019-06-20T07:38:56",
          "2019-06-20T07:58:56",
          "2019-06-20T08:18:56",
          "2019-06-20T08:38:56",
          "2019-06-20T08:58:56",
          "2019-06-20T09:18:56",
          "2019-06-20T09:38:56",
          "2019-06-20T09:58:56",
          "2019-06-20T10:18:56",
          "2019-06-20T10:38:56",
          "2019-06-20T10:58:56",
          "2019-06-20T11:18:56",
          "2019-06-20T11:38:56",
          "2019-06-20T11:58:56",
          "2019-06-20T12:18:56",
          "2019-06-20T12:38:56",
          "2019-06-20T12:58:56",
          "2019-06-20T13:18:56",
          "2019-06-20T13:38:56",
          "2019-06-20T13:58:56",
          "2019-06-20T14:18:56",
          "2019-06-20T14:38:56",
          "2019-06-20T14:58:56",
          "2019-06-20T15:18:56",
          "2019-06-20T15:38:56",
          "2019-06-20T15:58:56",
          "2019-06-20T16:18:56",
          "2019-06-20T16:38:56",
          "2019-06-20T16:58:56",
          "2019-06-20T17:18:56",
          "2019-06-20T17:38:56",
          "2019-06-20T17:58:56",
          "2019-06-20T18:18:56",
          "2019-06-20T18:38:56",
          "2019-06-20T18:58:56",
          "2019-06-20T19:18:56",
          "2019-06-20T19:38:56",
          "2019-06-20T19:58:56",
          "2019-06-20T20:18:56",
          "2019-06-20T20:38:56",
          "2019-06-20T20:58:56",
          "2019-06-20T21:18:56",
          "2019-06-20T21:38:56",
          "2019-06-20T21:58:56",
          "2019-06-20T22:18:56",
          "2019-06-20T22:38:56",
          "2019-06-20T22:58:56",
          "2019-06-20T23:18:56",
          "2019-06-20T23:38:56",
          "2019-06-20T23:58:56",
          "2019-06-21T00:18:56",
          "2019-06-21T00:38:56",
          "2019-06-21T00:58:56",
          "2019-06-21T01:18:56",
          "2019-06-21T01:38:56",
          "2019-06-21T01:58:56",
          "2019-06-21T02:18:56",
          "2019-06-21T02:38:56",
          "2019-06-21T02:58:56",
          "2019-06-21T03:18:56",
          "2019-06-21T03:38:56",
          "2019-06-21T03:58:56",
          "2019-06-21T04:18:56",
          "2019-06-21T04:38:56",
          "2019-06-21T04:58:56",
          "2019-06-21T05:18:56",
          "2019-06-21T05:38:56",
          "2019-06-21T05:58:56",
          "2019-06-21T06:18:56",
          "2019-06-21T06:38:56",
          "2019-06-21T06:58:56",
          "2019-06-21T07:18:56",
          "2019-06-21T07:38:56",
          "2019-06-21T07:58:56",
          "2019-06-21T08:18:56",
          "2019-06-21T08:38:56",
          "2019-06-21T08:58:56",
          "2019-06-21T09:18:56",
          "2019-06-21T09:38:56",
          "2019-06-21T09:58:56",
          "2019-06-21T10:18:56",
          "2019-06-21T10:38:56",
          "2019-06-21T10:58:56",
          "2019-06-21T11:18:56",
          "2019-06-21T11:38:56",
          "2019-06-21T11:58:56",
          "2019-06-21T12:18:56"
         ],
         "y": [
          13652.855843958836,
          15486.44075,
          15484.171380083479,
          13245.802435781592,
          13569.01204867291,
          15356.776542721518,
          14950.775435264512,
          13661.866794409072,
          15387.563131121235,
          15694.965332497202,
          15549.371986202174,
          15262.84702402902,
          16005.069713779454,
          13597.90401719668,
          13708.388234800062,
          13636.150608312257,
          13755.034290681328,
          14522.592546840971,
          14314.032110130833,
          13910.557509268625,
          13532.34994687228,
          15240.05989434924,
          15822.782239203865,
          13075.171052943879,
          13416.743454903743,
          14541.912827916298,
          15230.05552090926,
          14034.881891638925,
          13158.462979897604,
          13931.279468567709,
          13529.807030672033,
          14118.825815664712,
          14089.172653225807,
          15519.260930069704,
          13902.936941331085,
          15136.749094783067,
          15467.94914004647,
          16729.69140906234,
          14585.408575011314,
          13323.860111758631,
          13750.579773383608,
          13062.45936219837,
          13761.277551653733,
          15069.144079932317,
          12984.927742416077,
          14773.991585987042,
          14645.121313350992,
          13900.625862198802,
          15017.89214463881,
          15918.81106388834,
          16042.664169372158,
          13843.407427043667,
          14392.8694839074,
          13673.240896394364,
          15914.978656356661,
          13097.885917164393,
          13320.687243251317,
          15087.865098134598,
          14904.283759873619,
          15490.82312075716,
          14854.748037561807,
          14202.185919010317,
          14722.783435336707,
          16049.080467741936,
          14272.375935483871,
          14202.744782258065,
          14086.848839334947,
          14204.733648,
          14419.500925233548,
          14575.443199733867,
          14179.477529885935,
          15338.562642597368,
          15048.840225505686,
          15471.48848431062,
          15069.896013805415,
          15606.833709378065,
          15726.972616954303,
          13576.115289968342,
          14400.981193007363,
          15395.035265712646,
          13528.363162635842,
          15781.178410353248,
          15657.292951191006,
          14530.920139992422,
          15352.590974032522,
          13488.54257082643,
          14505.898585713765,
          15161.878476259782,
          16246.75653513096,
          15530.113583481127,
          13706.988604023905,
          16485.673000266182,
          14655.299997006,
          14456.234743901436,
          13602.976947378414,
          15431.54052680969,
          15208.254438920467,
          15624.955899660774,
          15033.420019446494,
          15540.915293363765
         ]
        },
        {
         "line": {
          "color": "green"
         },
         "name": "Pred",
         "type": "scatter",
         "x": [
          "2019-06-20T03:18:56",
          "2019-06-20T03:38:56",
          "2019-06-20T03:58:56",
          "2019-06-20T04:18:56",
          "2019-06-20T04:38:56",
          "2019-06-20T04:58:56",
          "2019-06-20T05:18:56",
          "2019-06-20T05:38:56",
          "2019-06-20T05:58:56",
          "2019-06-20T06:18:56",
          "2019-06-20T06:38:56",
          "2019-06-20T06:58:56",
          "2019-06-20T07:18:56",
          "2019-06-20T07:38:56",
          "2019-06-20T07:58:56",
          "2019-06-20T08:18:56",
          "2019-06-20T08:38:56",
          "2019-06-20T08:58:56",
          "2019-06-20T09:18:56",
          "2019-06-20T09:38:56",
          "2019-06-20T09:58:56",
          "2019-06-20T10:18:56",
          "2019-06-20T10:38:56",
          "2019-06-20T10:58:56",
          "2019-06-20T11:18:56",
          "2019-06-20T11:38:56",
          "2019-06-20T11:58:56",
          "2019-06-20T12:18:56",
          "2019-06-20T12:38:56",
          "2019-06-20T12:58:56",
          "2019-06-20T13:18:56",
          "2019-06-20T13:38:56",
          "2019-06-20T13:58:56",
          "2019-06-20T14:18:56",
          "2019-06-20T14:38:56",
          "2019-06-20T14:58:56",
          "2019-06-20T15:18:56",
          "2019-06-20T15:38:56",
          "2019-06-20T15:58:56",
          "2019-06-20T16:18:56",
          "2019-06-20T16:38:56",
          "2019-06-20T16:58:56",
          "2019-06-20T17:18:56",
          "2019-06-20T17:38:56",
          "2019-06-20T17:58:56",
          "2019-06-20T18:18:56",
          "2019-06-20T18:38:56",
          "2019-06-20T18:58:56",
          "2019-06-20T19:18:56",
          "2019-06-20T19:38:56",
          "2019-06-20T19:58:56",
          "2019-06-20T20:18:56",
          "2019-06-20T20:38:56",
          "2019-06-20T20:58:56",
          "2019-06-20T21:18:56",
          "2019-06-20T21:38:56",
          "2019-06-20T21:58:56",
          "2019-06-20T22:18:56",
          "2019-06-20T22:38:56",
          "2019-06-20T22:58:56",
          "2019-06-20T23:18:56",
          "2019-06-20T23:38:56",
          "2019-06-20T23:58:56",
          "2019-06-21T00:18:56",
          "2019-06-21T00:38:56",
          "2019-06-21T00:58:56",
          "2019-06-21T01:18:56",
          "2019-06-21T01:38:56",
          "2019-06-21T01:58:56",
          "2019-06-21T02:18:56",
          "2019-06-21T02:38:56",
          "2019-06-21T02:58:56",
          "2019-06-21T03:18:56",
          "2019-06-21T03:38:56",
          "2019-06-21T03:58:56",
          "2019-06-21T04:18:56",
          "2019-06-21T04:38:56",
          "2019-06-21T04:58:56",
          "2019-06-21T05:18:56",
          "2019-06-21T05:38:56",
          "2019-06-21T05:58:56",
          "2019-06-21T06:18:56",
          "2019-06-21T06:38:56",
          "2019-06-21T06:58:56",
          "2019-06-21T07:18:56",
          "2019-06-21T07:38:56",
          "2019-06-21T07:58:56",
          "2019-06-21T08:18:56",
          "2019-06-21T08:38:56",
          "2019-06-21T08:58:56",
          "2019-06-21T09:18:56",
          "2019-06-21T09:38:56",
          "2019-06-21T09:58:56",
          "2019-06-21T10:18:56",
          "2019-06-21T10:38:56",
          "2019-06-21T10:58:56",
          "2019-06-21T11:18:56",
          "2019-06-21T11:38:56",
          "2019-06-21T11:58:56",
          "2019-06-21T12:18:56"
         ],
         "y": [
          15065.2275390625,
          15080.353515625,
          15101.9169921875,
          15027.4501953125,
          15044.0400390625,
          14999.201171875,
          15004.5107421875,
          15089.197265625,
          15045.5185546875,
          15002.6025390625,
          15041.162109375,
          14997.693359375,
          15026.083984375,
          15086.52734375,
          14992.8623046875,
          15054.7939453125,
          15111.810546875,
          15098.7919921875,
          14973.3603515625,
          14951.4306640625,
          15053.0556640625,
          15011.9287109375,
          14993.2236328125,
          14974.6162109375,
          15000.083984375,
          14987.4560546875,
          15033.224609375,
          15022.6884765625,
          14957.220703125,
          14976.447265625,
          14925.23046875,
          14968.9765625,
          15038.1689453125,
          15050.3115234375,
          14948.08984375,
          14948.22265625,
          14959.177734375,
          15037.587890625,
          14920.2685546875,
          14983.1318359375,
          15050.4267578125,
          14995.5,
          15017.701171875,
          14969.8837890625,
          14914.416015625,
          14956.9501953125,
          14984.4951171875,
          14971.2744140625,
          14935.2060546875,
          14962.8349609375,
          14938.0830078125,
          15052.546875,
          15052.6796875,
          15039.02734375,
          15029.9677734375,
          15044.5947265625,
          14956.4912109375,
          14980.3798828125,
          15051.2734375,
          14940.0927734375,
          14987.8056640625,
          15065.1826171875,
          14984.892578125,
          14999.2626953125,
          14985.5078125,
          15002.8828125,
          15006.6220703125,
          14967.2138671875,
          14992.87109375,
          14956.6708984375,
          14959.4765625,
          15019.3037109375,
          14974.7734375,
          15003.169921875,
          14990.7666015625,
          14954.240234375,
          15036.5625,
          15012.8095703125,
          14968.974609375,
          14959.677734375,
          14958.5771484375,
          14972.7529296875,
          14976.9423828125,
          14938.1650390625,
          15005.3583984375,
          14960.646484375,
          14975.419921875,
          15010.2138671875,
          14953.171875,
          15063.4951171875,
          14952.181640625,
          14935.6533203125,
          14971.548828125,
          14932.927734375,
          14939.6162109375,
          14956.251953125,
          14961.6943359375,
          14939.1572265625,
          14916.5498046875,
          14914.5927734375
         ]
        }
       ],
       "layout": {
        "template": {
         "data": {
          "bar": [
           {
            "error_x": {
             "color": "#2a3f5f"
            },
            "error_y": {
             "color": "#2a3f5f"
            },
            "marker": {
             "line": {
              "color": "#E5ECF6",
              "width": 0.5
             }
            },
            "type": "bar"
           }
          ],
          "barpolar": [
           {
            "marker": {
             "line": {
              "color": "#E5ECF6",
              "width": 0.5
             }
            },
            "type": "barpolar"
           }
          ],
          "carpet": [
           {
            "aaxis": {
             "endlinecolor": "#2a3f5f",
             "gridcolor": "white",
             "linecolor": "white",
             "minorgridcolor": "white",
             "startlinecolor": "#2a3f5f"
            },
            "baxis": {
             "endlinecolor": "#2a3f5f",
             "gridcolor": "white",
             "linecolor": "white",
             "minorgridcolor": "white",
             "startlinecolor": "#2a3f5f"
            },
            "type": "carpet"
           }
          ],
          "choropleth": [
           {
            "colorbar": {
             "outlinewidth": 0,
             "ticks": ""
            },
            "type": "choropleth"
           }
          ],
          "contour": [
           {
            "colorbar": {
             "outlinewidth": 0,
             "ticks": ""
            },
            "colorscale": [
             [
              0,
              "#0d0887"
             ],
             [
              0.1111111111111111,
              "#46039f"
             ],
             [
              0.2222222222222222,
              "#7201a8"
             ],
             [
              0.3333333333333333,
              "#9c179e"
             ],
             [
              0.4444444444444444,
              "#bd3786"
             ],
             [
              0.5555555555555556,
              "#d8576b"
             ],
             [
              0.6666666666666666,
              "#ed7953"
             ],
             [
              0.7777777777777778,
              "#fb9f3a"
             ],
             [
              0.8888888888888888,
              "#fdca26"
             ],
             [
              1,
              "#f0f921"
             ]
            ],
            "type": "contour"
           }
          ],
          "contourcarpet": [
           {
            "colorbar": {
             "outlinewidth": 0,
             "ticks": ""
            },
            "type": "contourcarpet"
           }
          ],
          "heatmap": [
           {
            "colorbar": {
             "outlinewidth": 0,
             "ticks": ""
            },
            "colorscale": [
             [
              0,
              "#0d0887"
             ],
             [
              0.1111111111111111,
              "#46039f"
             ],
             [
              0.2222222222222222,
              "#7201a8"
             ],
             [
              0.3333333333333333,
              "#9c179e"
             ],
             [
              0.4444444444444444,
              "#bd3786"
             ],
             [
              0.5555555555555556,
              "#d8576b"
             ],
             [
              0.6666666666666666,
              "#ed7953"
             ],
             [
              0.7777777777777778,
              "#fb9f3a"
             ],
             [
              0.8888888888888888,
              "#fdca26"
             ],
             [
              1,
              "#f0f921"
             ]
            ],
            "type": "heatmap"
           }
          ],
          "heatmapgl": [
           {
            "colorbar": {
             "outlinewidth": 0,
             "ticks": ""
            },
            "colorscale": [
             [
              0,
              "#0d0887"
             ],
             [
              0.1111111111111111,
              "#46039f"
             ],
             [
              0.2222222222222222,
              "#7201a8"
             ],
             [
              0.3333333333333333,
              "#9c179e"
             ],
             [
              0.4444444444444444,
              "#bd3786"
             ],
             [
              0.5555555555555556,
              "#d8576b"
             ],
             [
              0.6666666666666666,
              "#ed7953"
             ],
             [
              0.7777777777777778,
              "#fb9f3a"
             ],
             [
              0.8888888888888888,
              "#fdca26"
             ],
             [
              1,
              "#f0f921"
             ]
            ],
            "type": "heatmapgl"
           }
          ],
          "histogram": [
           {
            "marker": {
             "colorbar": {
              "outlinewidth": 0,
              "ticks": ""
             }
            },
            "type": "histogram"
           }
          ],
          "histogram2d": [
           {
            "colorbar": {
             "outlinewidth": 0,
             "ticks": ""
            },
            "colorscale": [
             [
              0,
              "#0d0887"
             ],
             [
              0.1111111111111111,
              "#46039f"
             ],
             [
              0.2222222222222222,
              "#7201a8"
             ],
             [
              0.3333333333333333,
              "#9c179e"
             ],
             [
              0.4444444444444444,
              "#bd3786"
             ],
             [
              0.5555555555555556,
              "#d8576b"
             ],
             [
              0.6666666666666666,
              "#ed7953"
             ],
             [
              0.7777777777777778,
              "#fb9f3a"
             ],
             [
              0.8888888888888888,
              "#fdca26"
             ],
             [
              1,
              "#f0f921"
             ]
            ],
            "type": "histogram2d"
           }
          ],
          "histogram2dcontour": [
           {
            "colorbar": {
             "outlinewidth": 0,
             "ticks": ""
            },
            "colorscale": [
             [
              0,
              "#0d0887"
             ],
             [
              0.1111111111111111,
              "#46039f"
             ],
             [
              0.2222222222222222,
              "#7201a8"
             ],
             [
              0.3333333333333333,
              "#9c179e"
             ],
             [
              0.4444444444444444,
              "#bd3786"
             ],
             [
              0.5555555555555556,
              "#d8576b"
             ],
             [
              0.6666666666666666,
              "#ed7953"
             ],
             [
              0.7777777777777778,
              "#fb9f3a"
             ],
             [
              0.8888888888888888,
              "#fdca26"
             ],
             [
              1,
              "#f0f921"
             ]
            ],
            "type": "histogram2dcontour"
           }
          ],
          "mesh3d": [
           {
            "colorbar": {
             "outlinewidth": 0,
             "ticks": ""
            },
            "type": "mesh3d"
           }
          ],
          "parcoords": [
           {
            "line": {
             "colorbar": {
              "outlinewidth": 0,
              "ticks": ""
             }
            },
            "type": "parcoords"
           }
          ],
          "pie": [
           {
            "automargin": true,
            "type": "pie"
           }
          ],
          "scatter": [
           {
            "marker": {
             "colorbar": {
              "outlinewidth": 0,
              "ticks": ""
             }
            },
            "type": "scatter"
           }
          ],
          "scatter3d": [
           {
            "line": {
             "colorbar": {
              "outlinewidth": 0,
              "ticks": ""
             }
            },
            "marker": {
             "colorbar": {
              "outlinewidth": 0,
              "ticks": ""
             }
            },
            "type": "scatter3d"
           }
          ],
          "scattercarpet": [
           {
            "marker": {
             "colorbar": {
              "outlinewidth": 0,
              "ticks": ""
             }
            },
            "type": "scattercarpet"
           }
          ],
          "scattergeo": [
           {
            "marker": {
             "colorbar": {
              "outlinewidth": 0,
              "ticks": ""
             }
            },
            "type": "scattergeo"
           }
          ],
          "scattergl": [
           {
            "marker": {
             "colorbar": {
              "outlinewidth": 0,
              "ticks": ""
             }
            },
            "type": "scattergl"
           }
          ],
          "scattermapbox": [
           {
            "marker": {
             "colorbar": {
              "outlinewidth": 0,
              "ticks": ""
             }
            },
            "type": "scattermapbox"
           }
          ],
          "scatterpolar": [
           {
            "marker": {
             "colorbar": {
              "outlinewidth": 0,
              "ticks": ""
             }
            },
            "type": "scatterpolar"
           }
          ],
          "scatterpolargl": [
           {
            "marker": {
             "colorbar": {
              "outlinewidth": 0,
              "ticks": ""
             }
            },
            "type": "scatterpolargl"
           }
          ],
          "scatterternary": [
           {
            "marker": {
             "colorbar": {
              "outlinewidth": 0,
              "ticks": ""
             }
            },
            "type": "scatterternary"
           }
          ],
          "surface": [
           {
            "colorbar": {
             "outlinewidth": 0,
             "ticks": ""
            },
            "colorscale": [
             [
              0,
              "#0d0887"
             ],
             [
              0.1111111111111111,
              "#46039f"
             ],
             [
              0.2222222222222222,
              "#7201a8"
             ],
             [
              0.3333333333333333,
              "#9c179e"
             ],
             [
              0.4444444444444444,
              "#bd3786"
             ],
             [
              0.5555555555555556,
              "#d8576b"
             ],
             [
              0.6666666666666666,
              "#ed7953"
             ],
             [
              0.7777777777777778,
              "#fb9f3a"
             ],
             [
              0.8888888888888888,
              "#fdca26"
             ],
             [
              1,
              "#f0f921"
             ]
            ],
            "type": "surface"
           }
          ],
          "table": [
           {
            "cells": {
             "fill": {
              "color": "#EBF0F8"
             },
             "line": {
              "color": "white"
             }
            },
            "header": {
             "fill": {
              "color": "#C8D4E3"
             },
             "line": {
              "color": "white"
             }
            },
            "type": "table"
           }
          ]
         },
         "layout": {
          "annotationdefaults": {
           "arrowcolor": "#2a3f5f",
           "arrowhead": 0,
           "arrowwidth": 1
          },
          "autotypenumbers": "strict",
          "coloraxis": {
           "colorbar": {
            "outlinewidth": 0,
            "ticks": ""
           }
          },
          "colorscale": {
           "diverging": [
            [
             0,
             "#8e0152"
            ],
            [
             0.1,
             "#c51b7d"
            ],
            [
             0.2,
             "#de77ae"
            ],
            [
             0.3,
             "#f1b6da"
            ],
            [
             0.4,
             "#fde0ef"
            ],
            [
             0.5,
             "#f7f7f7"
            ],
            [
             0.6,
             "#e6f5d0"
            ],
            [
             0.7,
             "#b8e186"
            ],
            [
             0.8,
             "#7fbc41"
            ],
            [
             0.9,
             "#4d9221"
            ],
            [
             1,
             "#276419"
            ]
           ],
           "sequential": [
            [
             0,
             "#0d0887"
            ],
            [
             0.1111111111111111,
             "#46039f"
            ],
            [
             0.2222222222222222,
             "#7201a8"
            ],
            [
             0.3333333333333333,
             "#9c179e"
            ],
            [
             0.4444444444444444,
             "#bd3786"
            ],
            [
             0.5555555555555556,
             "#d8576b"
            ],
            [
             0.6666666666666666,
             "#ed7953"
            ],
            [
             0.7777777777777778,
             "#fb9f3a"
            ],
            [
             0.8888888888888888,
             "#fdca26"
            ],
            [
             1,
             "#f0f921"
            ]
           ],
           "sequentialminus": [
            [
             0,
             "#0d0887"
            ],
            [
             0.1111111111111111,
             "#46039f"
            ],
            [
             0.2222222222222222,
             "#7201a8"
            ],
            [
             0.3333333333333333,
             "#9c179e"
            ],
            [
             0.4444444444444444,
             "#bd3786"
            ],
            [
             0.5555555555555556,
             "#d8576b"
            ],
            [
             0.6666666666666666,
             "#ed7953"
            ],
            [
             0.7777777777777778,
             "#fb9f3a"
            ],
            [
             0.8888888888888888,
             "#fdca26"
            ],
            [
             1,
             "#f0f921"
            ]
           ]
          },
          "colorway": [
           "#636efa",
           "#EF553B",
           "#00cc96",
           "#ab63fa",
           "#FFA15A",
           "#19d3f3",
           "#FF6692",
           "#B6E880",
           "#FF97FF",
           "#FECB52"
          ],
          "font": {
           "color": "#2a3f5f"
          },
          "geo": {
           "bgcolor": "white",
           "lakecolor": "white",
           "landcolor": "#E5ECF6",
           "showlakes": true,
           "showland": true,
           "subunitcolor": "white"
          },
          "hoverlabel": {
           "align": "left"
          },
          "hovermode": "closest",
          "mapbox": {
           "style": "light"
          },
          "paper_bgcolor": "white",
          "plot_bgcolor": "#E5ECF6",
          "polar": {
           "angularaxis": {
            "gridcolor": "white",
            "linecolor": "white",
            "ticks": ""
           },
           "bgcolor": "#E5ECF6",
           "radialaxis": {
            "gridcolor": "white",
            "linecolor": "white",
            "ticks": ""
           }
          },
          "scene": {
           "xaxis": {
            "backgroundcolor": "#E5ECF6",
            "gridcolor": "white",
            "gridwidth": 2,
            "linecolor": "white",
            "showbackground": true,
            "ticks": "",
            "zerolinecolor": "white"
           },
           "yaxis": {
            "backgroundcolor": "#E5ECF6",
            "gridcolor": "white",
            "gridwidth": 2,
            "linecolor": "white",
            "showbackground": true,
            "ticks": "",
            "zerolinecolor": "white"
           },
           "zaxis": {
            "backgroundcolor": "#E5ECF6",
            "gridcolor": "white",
            "gridwidth": 2,
            "linecolor": "white",
            "showbackground": true,
            "ticks": "",
            "zerolinecolor": "white"
           }
          },
          "shapedefaults": {
           "line": {
            "color": "#2a3f5f"
           }
          },
          "ternary": {
           "aaxis": {
            "gridcolor": "white",
            "linecolor": "white",
            "ticks": ""
           },
           "baxis": {
            "gridcolor": "white",
            "linecolor": "white",
            "ticks": ""
           },
           "bgcolor": "#E5ECF6",
           "caxis": {
            "gridcolor": "white",
            "linecolor": "white",
            "ticks": ""
           }
          },
          "title": {
           "x": 0.05
          },
          "xaxis": {
           "automargin": true,
           "gridcolor": "white",
           "linecolor": "white",
           "ticks": "",
           "title": {
            "standoff": 15
           },
           "zerolinecolor": "white",
           "zerolinewidth": 2
          },
          "yaxis": {
           "automargin": true,
           "gridcolor": "white",
           "linecolor": "white",
           "ticks": "",
           "title": {
            "standoff": 15
           },
           "zerolinecolor": "white",
           "zerolinewidth": 2
          }
         }
        }
       }
      },
      "text/html": [
       "<div>                            <div id=\"8bf87226-e04b-4fbd-9b87-c8c6a4b18599\" class=\"plotly-graph-div\" style=\"height:525px; width:100%;\"></div>            <script type=\"text/javascript\">                require([\"plotly\"], function(Plotly) {                    window.PLOTLYENV=window.PLOTLYENV || {};                                    if (document.getElementById(\"8bf87226-e04b-4fbd-9b87-c8c6a4b18599\")) {                    Plotly.newPlot(                        \"8bf87226-e04b-4fbd-9b87-c8c6a4b18599\",                        [{\"mode\": \"lines+markers\", \"name\": \"Test\", \"type\": \"scatter\", \"x\": [\"2019-06-20T03:18:56\", \"2019-06-20T03:38:56\", \"2019-06-20T03:58:56\", \"2019-06-20T04:18:56\", \"2019-06-20T04:38:56\", \"2019-06-20T04:58:56\", \"2019-06-20T05:18:56\", \"2019-06-20T05:38:56\", \"2019-06-20T05:58:56\", \"2019-06-20T06:18:56\", \"2019-06-20T06:38:56\", \"2019-06-20T06:58:56\", \"2019-06-20T07:18:56\", \"2019-06-20T07:38:56\", \"2019-06-20T07:58:56\", \"2019-06-20T08:18:56\", \"2019-06-20T08:38:56\", \"2019-06-20T08:58:56\", \"2019-06-20T09:18:56\", \"2019-06-20T09:38:56\", \"2019-06-20T09:58:56\", \"2019-06-20T10:18:56\", \"2019-06-20T10:38:56\", \"2019-06-20T10:58:56\", \"2019-06-20T11:18:56\", \"2019-06-20T11:38:56\", \"2019-06-20T11:58:56\", \"2019-06-20T12:18:56\", \"2019-06-20T12:38:56\", \"2019-06-20T12:58:56\", \"2019-06-20T13:18:56\", \"2019-06-20T13:38:56\", \"2019-06-20T13:58:56\", \"2019-06-20T14:18:56\", \"2019-06-20T14:38:56\", \"2019-06-20T14:58:56\", \"2019-06-20T15:18:56\", \"2019-06-20T15:38:56\", \"2019-06-20T15:58:56\", \"2019-06-20T16:18:56\", \"2019-06-20T16:38:56\", \"2019-06-20T16:58:56\", \"2019-06-20T17:18:56\", \"2019-06-20T17:38:56\", \"2019-06-20T17:58:56\", \"2019-06-20T18:18:56\", \"2019-06-20T18:38:56\", \"2019-06-20T18:58:56\", \"2019-06-20T19:18:56\", \"2019-06-20T19:38:56\", \"2019-06-20T19:58:56\", \"2019-06-20T20:18:56\", \"2019-06-20T20:38:56\", \"2019-06-20T20:58:56\", \"2019-06-20T21:18:56\", \"2019-06-20T21:38:56\", \"2019-06-20T21:58:56\", \"2019-06-20T22:18:56\", \"2019-06-20T22:38:56\", \"2019-06-20T22:58:56\", \"2019-06-20T23:18:56\", \"2019-06-20T23:38:56\", \"2019-06-20T23:58:56\", \"2019-06-21T00:18:56\", \"2019-06-21T00:38:56\", \"2019-06-21T00:58:56\", \"2019-06-21T01:18:56\", \"2019-06-21T01:38:56\", \"2019-06-21T01:58:56\", \"2019-06-21T02:18:56\", \"2019-06-21T02:38:56\", \"2019-06-21T02:58:56\", \"2019-06-21T03:18:56\", \"2019-06-21T03:38:56\", \"2019-06-21T03:58:56\", \"2019-06-21T04:18:56\", \"2019-06-21T04:38:56\", \"2019-06-21T04:58:56\", \"2019-06-21T05:18:56\", \"2019-06-21T05:38:56\", \"2019-06-21T05:58:56\", \"2019-06-21T06:18:56\", \"2019-06-21T06:38:56\", \"2019-06-21T06:58:56\", \"2019-06-21T07:18:56\", \"2019-06-21T07:38:56\", \"2019-06-21T07:58:56\", \"2019-06-21T08:18:56\", \"2019-06-21T08:38:56\", \"2019-06-21T08:58:56\", \"2019-06-21T09:18:56\", \"2019-06-21T09:38:56\", \"2019-06-21T09:58:56\", \"2019-06-21T10:18:56\", \"2019-06-21T10:38:56\", \"2019-06-21T10:58:56\", \"2019-06-21T11:18:56\", \"2019-06-21T11:38:56\", \"2019-06-21T11:58:56\", \"2019-06-21T12:18:56\"], \"y\": [13652.855843958836, 15486.44075, 15484.171380083479, 13245.802435781592, 13569.01204867291, 15356.776542721518, 14950.775435264512, 13661.866794409072, 15387.563131121235, 15694.965332497202, 15549.371986202174, 15262.84702402902, 16005.069713779454, 13597.90401719668, 13708.388234800062, 13636.150608312257, 13755.034290681328, 14522.592546840971, 14314.032110130833, 13910.557509268625, 13532.34994687228, 15240.05989434924, 15822.782239203865, 13075.171052943879, 13416.743454903743, 14541.912827916298, 15230.05552090926, 14034.881891638925, 13158.462979897604, 13931.279468567709, 13529.807030672033, 14118.825815664712, 14089.172653225807, 15519.260930069704, 13902.936941331085, 15136.749094783067, 15467.94914004647, 16729.69140906234, 14585.408575011314, 13323.860111758631, 13750.579773383608, 13062.45936219837, 13761.277551653733, 15069.144079932317, 12984.927742416077, 14773.991585987042, 14645.121313350992, 13900.625862198802, 15017.89214463881, 15918.81106388834, 16042.664169372158, 13843.407427043667, 14392.8694839074, 13673.240896394364, 15914.978656356661, 13097.885917164393, 13320.687243251317, 15087.865098134598, 14904.283759873619, 15490.82312075716, 14854.748037561807, 14202.185919010317, 14722.783435336707, 16049.080467741936, 14272.375935483871, 14202.744782258065, 14086.848839334947, 14204.733648, 14419.500925233548, 14575.443199733867, 14179.477529885935, 15338.562642597368, 15048.840225505686, 15471.48848431062, 15069.896013805415, 15606.833709378065, 15726.972616954303, 13576.115289968342, 14400.981193007363, 15395.035265712646, 13528.363162635842, 15781.178410353248, 15657.292951191006, 14530.920139992422, 15352.590974032522, 13488.54257082643, 14505.898585713765, 15161.878476259782, 16246.75653513096, 15530.113583481127, 13706.988604023905, 16485.673000266182, 14655.299997006, 14456.234743901436, 13602.976947378414, 15431.54052680969, 15208.254438920467, 15624.955899660774, 15033.420019446494, 15540.915293363765]}, {\"line\": {\"color\": \"green\"}, \"name\": \"Pred\", \"type\": \"scatter\", \"x\": [\"2019-06-20T03:18:56\", \"2019-06-20T03:38:56\", \"2019-06-20T03:58:56\", \"2019-06-20T04:18:56\", \"2019-06-20T04:38:56\", \"2019-06-20T04:58:56\", \"2019-06-20T05:18:56\", \"2019-06-20T05:38:56\", \"2019-06-20T05:58:56\", \"2019-06-20T06:18:56\", \"2019-06-20T06:38:56\", \"2019-06-20T06:58:56\", \"2019-06-20T07:18:56\", \"2019-06-20T07:38:56\", \"2019-06-20T07:58:56\", \"2019-06-20T08:18:56\", \"2019-06-20T08:38:56\", \"2019-06-20T08:58:56\", \"2019-06-20T09:18:56\", \"2019-06-20T09:38:56\", \"2019-06-20T09:58:56\", \"2019-06-20T10:18:56\", \"2019-06-20T10:38:56\", \"2019-06-20T10:58:56\", \"2019-06-20T11:18:56\", \"2019-06-20T11:38:56\", \"2019-06-20T11:58:56\", \"2019-06-20T12:18:56\", \"2019-06-20T12:38:56\", \"2019-06-20T12:58:56\", \"2019-06-20T13:18:56\", \"2019-06-20T13:38:56\", \"2019-06-20T13:58:56\", \"2019-06-20T14:18:56\", \"2019-06-20T14:38:56\", \"2019-06-20T14:58:56\", \"2019-06-20T15:18:56\", \"2019-06-20T15:38:56\", \"2019-06-20T15:58:56\", \"2019-06-20T16:18:56\", \"2019-06-20T16:38:56\", \"2019-06-20T16:58:56\", \"2019-06-20T17:18:56\", \"2019-06-20T17:38:56\", \"2019-06-20T17:58:56\", \"2019-06-20T18:18:56\", \"2019-06-20T18:38:56\", \"2019-06-20T18:58:56\", \"2019-06-20T19:18:56\", \"2019-06-20T19:38:56\", \"2019-06-20T19:58:56\", \"2019-06-20T20:18:56\", \"2019-06-20T20:38:56\", \"2019-06-20T20:58:56\", \"2019-06-20T21:18:56\", \"2019-06-20T21:38:56\", \"2019-06-20T21:58:56\", \"2019-06-20T22:18:56\", \"2019-06-20T22:38:56\", \"2019-06-20T22:58:56\", \"2019-06-20T23:18:56\", \"2019-06-20T23:38:56\", \"2019-06-20T23:58:56\", \"2019-06-21T00:18:56\", \"2019-06-21T00:38:56\", \"2019-06-21T00:58:56\", \"2019-06-21T01:18:56\", \"2019-06-21T01:38:56\", \"2019-06-21T01:58:56\", \"2019-06-21T02:18:56\", \"2019-06-21T02:38:56\", \"2019-06-21T02:58:56\", \"2019-06-21T03:18:56\", \"2019-06-21T03:38:56\", \"2019-06-21T03:58:56\", \"2019-06-21T04:18:56\", \"2019-06-21T04:38:56\", \"2019-06-21T04:58:56\", \"2019-06-21T05:18:56\", \"2019-06-21T05:38:56\", \"2019-06-21T05:58:56\", \"2019-06-21T06:18:56\", \"2019-06-21T06:38:56\", \"2019-06-21T06:58:56\", \"2019-06-21T07:18:56\", \"2019-06-21T07:38:56\", \"2019-06-21T07:58:56\", \"2019-06-21T08:18:56\", \"2019-06-21T08:38:56\", \"2019-06-21T08:58:56\", \"2019-06-21T09:18:56\", \"2019-06-21T09:38:56\", \"2019-06-21T09:58:56\", \"2019-06-21T10:18:56\", \"2019-06-21T10:38:56\", \"2019-06-21T10:58:56\", \"2019-06-21T11:18:56\", \"2019-06-21T11:38:56\", \"2019-06-21T11:58:56\", \"2019-06-21T12:18:56\"], \"y\": [15065.2275390625, 15080.353515625, 15101.9169921875, 15027.4501953125, 15044.0400390625, 14999.201171875, 15004.5107421875, 15089.197265625, 15045.5185546875, 15002.6025390625, 15041.162109375, 14997.693359375, 15026.083984375, 15086.52734375, 14992.8623046875, 15054.7939453125, 15111.810546875, 15098.7919921875, 14973.3603515625, 14951.4306640625, 15053.0556640625, 15011.9287109375, 14993.2236328125, 14974.6162109375, 15000.083984375, 14987.4560546875, 15033.224609375, 15022.6884765625, 14957.220703125, 14976.447265625, 14925.23046875, 14968.9765625, 15038.1689453125, 15050.3115234375, 14948.08984375, 14948.22265625, 14959.177734375, 15037.587890625, 14920.2685546875, 14983.1318359375, 15050.4267578125, 14995.5, 15017.701171875, 14969.8837890625, 14914.416015625, 14956.9501953125, 14984.4951171875, 14971.2744140625, 14935.2060546875, 14962.8349609375, 14938.0830078125, 15052.546875, 15052.6796875, 15039.02734375, 15029.9677734375, 15044.5947265625, 14956.4912109375, 14980.3798828125, 15051.2734375, 14940.0927734375, 14987.8056640625, 15065.1826171875, 14984.892578125, 14999.2626953125, 14985.5078125, 15002.8828125, 15006.6220703125, 14967.2138671875, 14992.87109375, 14956.6708984375, 14959.4765625, 15019.3037109375, 14974.7734375, 15003.169921875, 14990.7666015625, 14954.240234375, 15036.5625, 15012.8095703125, 14968.974609375, 14959.677734375, 14958.5771484375, 14972.7529296875, 14976.9423828125, 14938.1650390625, 15005.3583984375, 14960.646484375, 14975.419921875, 15010.2138671875, 14953.171875, 15063.4951171875, 14952.181640625, 14935.6533203125, 14971.548828125, 14932.927734375, 14939.6162109375, 14956.251953125, 14961.6943359375, 14939.1572265625, 14916.5498046875, 14914.5927734375]}],                        {\"template\": {\"data\": {\"bar\": [{\"error_x\": {\"color\": \"#2a3f5f\"}, \"error_y\": {\"color\": \"#2a3f5f\"}, \"marker\": {\"line\": {\"color\": \"#E5ECF6\", \"width\": 0.5}}, \"type\": \"bar\"}], \"barpolar\": [{\"marker\": {\"line\": {\"color\": \"#E5ECF6\", \"width\": 0.5}}, \"type\": \"barpolar\"}], \"carpet\": [{\"aaxis\": {\"endlinecolor\": \"#2a3f5f\", \"gridcolor\": \"white\", \"linecolor\": \"white\", \"minorgridcolor\": \"white\", \"startlinecolor\": \"#2a3f5f\"}, \"baxis\": {\"endlinecolor\": \"#2a3f5f\", \"gridcolor\": \"white\", \"linecolor\": \"white\", \"minorgridcolor\": \"white\", \"startlinecolor\": \"#2a3f5f\"}, \"type\": \"carpet\"}], \"choropleth\": [{\"colorbar\": {\"outlinewidth\": 0, \"ticks\": \"\"}, \"type\": \"choropleth\"}], \"contour\": [{\"colorbar\": {\"outlinewidth\": 0, \"ticks\": \"\"}, \"colorscale\": [[0.0, \"#0d0887\"], [0.1111111111111111, \"#46039f\"], [0.2222222222222222, \"#7201a8\"], [0.3333333333333333, \"#9c179e\"], [0.4444444444444444, \"#bd3786\"], [0.5555555555555556, \"#d8576b\"], [0.6666666666666666, \"#ed7953\"], [0.7777777777777778, \"#fb9f3a\"], [0.8888888888888888, \"#fdca26\"], [1.0, \"#f0f921\"]], \"type\": \"contour\"}], \"contourcarpet\": [{\"colorbar\": {\"outlinewidth\": 0, \"ticks\": \"\"}, \"type\": \"contourcarpet\"}], \"heatmap\": [{\"colorbar\": {\"outlinewidth\": 0, \"ticks\": \"\"}, \"colorscale\": [[0.0, \"#0d0887\"], [0.1111111111111111, \"#46039f\"], [0.2222222222222222, \"#7201a8\"], [0.3333333333333333, \"#9c179e\"], [0.4444444444444444, \"#bd3786\"], [0.5555555555555556, \"#d8576b\"], [0.6666666666666666, \"#ed7953\"], [0.7777777777777778, \"#fb9f3a\"], [0.8888888888888888, \"#fdca26\"], [1.0, \"#f0f921\"]], \"type\": \"heatmap\"}], \"heatmapgl\": [{\"colorbar\": {\"outlinewidth\": 0, \"ticks\": \"\"}, \"colorscale\": [[0.0, \"#0d0887\"], [0.1111111111111111, \"#46039f\"], [0.2222222222222222, \"#7201a8\"], [0.3333333333333333, \"#9c179e\"], [0.4444444444444444, \"#bd3786\"], [0.5555555555555556, \"#d8576b\"], [0.6666666666666666, \"#ed7953\"], [0.7777777777777778, \"#fb9f3a\"], [0.8888888888888888, \"#fdca26\"], [1.0, \"#f0f921\"]], \"type\": \"heatmapgl\"}], \"histogram\": [{\"marker\": {\"colorbar\": {\"outlinewidth\": 0, \"ticks\": \"\"}}, \"type\": \"histogram\"}], \"histogram2d\": [{\"colorbar\": {\"outlinewidth\": 0, \"ticks\": \"\"}, \"colorscale\": [[0.0, \"#0d0887\"], [0.1111111111111111, \"#46039f\"], [0.2222222222222222, \"#7201a8\"], [0.3333333333333333, \"#9c179e\"], [0.4444444444444444, \"#bd3786\"], [0.5555555555555556, \"#d8576b\"], [0.6666666666666666, \"#ed7953\"], [0.7777777777777778, \"#fb9f3a\"], [0.8888888888888888, \"#fdca26\"], [1.0, \"#f0f921\"]], \"type\": \"histogram2d\"}], \"histogram2dcontour\": [{\"colorbar\": {\"outlinewidth\": 0, \"ticks\": \"\"}, \"colorscale\": [[0.0, \"#0d0887\"], [0.1111111111111111, \"#46039f\"], [0.2222222222222222, \"#7201a8\"], [0.3333333333333333, \"#9c179e\"], [0.4444444444444444, \"#bd3786\"], [0.5555555555555556, \"#d8576b\"], [0.6666666666666666, \"#ed7953\"], [0.7777777777777778, \"#fb9f3a\"], [0.8888888888888888, \"#fdca26\"], [1.0, \"#f0f921\"]], \"type\": \"histogram2dcontour\"}], \"mesh3d\": [{\"colorbar\": {\"outlinewidth\": 0, \"ticks\": \"\"}, \"type\": \"mesh3d\"}], \"parcoords\": [{\"line\": {\"colorbar\": {\"outlinewidth\": 0, \"ticks\": \"\"}}, \"type\": \"parcoords\"}], \"pie\": [{\"automargin\": true, \"type\": \"pie\"}], \"scatter\": [{\"marker\": {\"colorbar\": {\"outlinewidth\": 0, \"ticks\": \"\"}}, \"type\": \"scatter\"}], \"scatter3d\": [{\"line\": {\"colorbar\": {\"outlinewidth\": 0, \"ticks\": \"\"}}, \"marker\": {\"colorbar\": {\"outlinewidth\": 0, \"ticks\": \"\"}}, \"type\": \"scatter3d\"}], \"scattercarpet\": [{\"marker\": {\"colorbar\": {\"outlinewidth\": 0, \"ticks\": \"\"}}, \"type\": \"scattercarpet\"}], \"scattergeo\": [{\"marker\": {\"colorbar\": {\"outlinewidth\": 0, \"ticks\": \"\"}}, \"type\": \"scattergeo\"}], \"scattergl\": [{\"marker\": {\"colorbar\": {\"outlinewidth\": 0, \"ticks\": \"\"}}, \"type\": \"scattergl\"}], \"scattermapbox\": [{\"marker\": {\"colorbar\": {\"outlinewidth\": 0, \"ticks\": \"\"}}, \"type\": \"scattermapbox\"}], \"scatterpolar\": [{\"marker\": {\"colorbar\": {\"outlinewidth\": 0, \"ticks\": \"\"}}, \"type\": \"scatterpolar\"}], \"scatterpolargl\": [{\"marker\": {\"colorbar\": {\"outlinewidth\": 0, \"ticks\": \"\"}}, \"type\": \"scatterpolargl\"}], \"scatterternary\": [{\"marker\": {\"colorbar\": {\"outlinewidth\": 0, \"ticks\": \"\"}}, \"type\": \"scatterternary\"}], \"surface\": [{\"colorbar\": {\"outlinewidth\": 0, \"ticks\": \"\"}, \"colorscale\": [[0.0, \"#0d0887\"], [0.1111111111111111, \"#46039f\"], [0.2222222222222222, \"#7201a8\"], [0.3333333333333333, \"#9c179e\"], [0.4444444444444444, \"#bd3786\"], [0.5555555555555556, \"#d8576b\"], [0.6666666666666666, \"#ed7953\"], [0.7777777777777778, \"#fb9f3a\"], [0.8888888888888888, \"#fdca26\"], [1.0, \"#f0f921\"]], \"type\": \"surface\"}], \"table\": [{\"cells\": {\"fill\": {\"color\": \"#EBF0F8\"}, \"line\": {\"color\": \"white\"}}, \"header\": {\"fill\": {\"color\": \"#C8D4E3\"}, \"line\": {\"color\": \"white\"}}, \"type\": \"table\"}]}, \"layout\": {\"annotationdefaults\": {\"arrowcolor\": \"#2a3f5f\", \"arrowhead\": 0, \"arrowwidth\": 1}, \"autotypenumbers\": \"strict\", \"coloraxis\": {\"colorbar\": {\"outlinewidth\": 0, \"ticks\": \"\"}}, \"colorscale\": {\"diverging\": [[0, \"#8e0152\"], [0.1, \"#c51b7d\"], [0.2, \"#de77ae\"], [0.3, \"#f1b6da\"], [0.4, \"#fde0ef\"], [0.5, \"#f7f7f7\"], [0.6, \"#e6f5d0\"], [0.7, \"#b8e186\"], [0.8, \"#7fbc41\"], [0.9, \"#4d9221\"], [1, \"#276419\"]], \"sequential\": [[0.0, \"#0d0887\"], [0.1111111111111111, \"#46039f\"], [0.2222222222222222, \"#7201a8\"], [0.3333333333333333, \"#9c179e\"], [0.4444444444444444, \"#bd3786\"], [0.5555555555555556, \"#d8576b\"], [0.6666666666666666, \"#ed7953\"], [0.7777777777777778, \"#fb9f3a\"], [0.8888888888888888, \"#fdca26\"], [1.0, \"#f0f921\"]], \"sequentialminus\": [[0.0, \"#0d0887\"], [0.1111111111111111, \"#46039f\"], [0.2222222222222222, \"#7201a8\"], [0.3333333333333333, \"#9c179e\"], [0.4444444444444444, \"#bd3786\"], [0.5555555555555556, \"#d8576b\"], [0.6666666666666666, \"#ed7953\"], [0.7777777777777778, \"#fb9f3a\"], [0.8888888888888888, \"#fdca26\"], [1.0, \"#f0f921\"]]}, \"colorway\": [\"#636efa\", \"#EF553B\", \"#00cc96\", \"#ab63fa\", \"#FFA15A\", \"#19d3f3\", \"#FF6692\", \"#B6E880\", \"#FF97FF\", \"#FECB52\"], \"font\": {\"color\": \"#2a3f5f\"}, \"geo\": {\"bgcolor\": \"white\", \"lakecolor\": \"white\", \"landcolor\": \"#E5ECF6\", \"showlakes\": true, \"showland\": true, \"subunitcolor\": \"white\"}, \"hoverlabel\": {\"align\": \"left\"}, \"hovermode\": \"closest\", \"mapbox\": {\"style\": \"light\"}, \"paper_bgcolor\": \"white\", \"plot_bgcolor\": \"#E5ECF6\", \"polar\": {\"angularaxis\": {\"gridcolor\": \"white\", \"linecolor\": \"white\", \"ticks\": \"\"}, \"bgcolor\": \"#E5ECF6\", \"radialaxis\": {\"gridcolor\": \"white\", \"linecolor\": \"white\", \"ticks\": \"\"}}, \"scene\": {\"xaxis\": {\"backgroundcolor\": \"#E5ECF6\", \"gridcolor\": \"white\", \"gridwidth\": 2, \"linecolor\": \"white\", \"showbackground\": true, \"ticks\": \"\", \"zerolinecolor\": \"white\"}, \"yaxis\": {\"backgroundcolor\": \"#E5ECF6\", \"gridcolor\": \"white\", \"gridwidth\": 2, \"linecolor\": \"white\", \"showbackground\": true, \"ticks\": \"\", \"zerolinecolor\": \"white\"}, \"zaxis\": {\"backgroundcolor\": \"#E5ECF6\", \"gridcolor\": \"white\", \"gridwidth\": 2, \"linecolor\": \"white\", \"showbackground\": true, \"ticks\": \"\", \"zerolinecolor\": \"white\"}}, \"shapedefaults\": {\"line\": {\"color\": \"#2a3f5f\"}}, \"ternary\": {\"aaxis\": {\"gridcolor\": \"white\", \"linecolor\": \"white\", \"ticks\": \"\"}, \"baxis\": {\"gridcolor\": \"white\", \"linecolor\": \"white\", \"ticks\": \"\"}, \"bgcolor\": \"#E5ECF6\", \"caxis\": {\"gridcolor\": \"white\", \"linecolor\": \"white\", \"ticks\": \"\"}}, \"title\": {\"x\": 0.05}, \"xaxis\": {\"automargin\": true, \"gridcolor\": \"white\", \"linecolor\": \"white\", \"ticks\": \"\", \"title\": {\"standoff\": 15}, \"zerolinecolor\": \"white\", \"zerolinewidth\": 2}, \"yaxis\": {\"automargin\": true, \"gridcolor\": \"white\", \"linecolor\": \"white\", \"ticks\": \"\", \"title\": {\"standoff\": 15}, \"zerolinecolor\": \"white\", \"zerolinewidth\": 2}}}},                        {\"responsive\": true}                    ).then(function(){\n",
       "                            \n",
       "var gd = document.getElementById('8bf87226-e04b-4fbd-9b87-c8c6a4b18599');\n",
       "var x = new MutationObserver(function (mutations, observer) {{\n",
       "        var display = window.getComputedStyle(gd).display;\n",
       "        if (!display || display === 'none') {{\n",
       "            console.log([gd, 'removed!']);\n",
       "            Plotly.purge(gd);\n",
       "            observer.disconnect();\n",
       "        }}\n",
       "}});\n",
       "\n",
       "// Listen for the removal of the full notebook cells\n",
       "var notebookContainer = gd.closest('#notebook-container');\n",
       "if (notebookContainer) {{\n",
       "    x.observe(notebookContainer, {childList: true});\n",
       "}}\n",
       "\n",
       "// Listen for the clearing of the current output cell\n",
       "var outputEl = gd.closest('.output');\n",
       "if (outputEl) {{\n",
       "    x.observe(outputEl, {childList: true});\n",
       "}}\n",
       "\n",
       "                        })                };                });            </script>        </div>"
      ]
     },
     "metadata": {},
     "output_type": "display_data"
    }
   ],
   "source": [
    "fig = go.Figure()                                                          ## Plot\n",
    "# fig.add_trace(\n",
    "#     go.Scatter(x=list(y_train.index), y=list(y_train.iloc[:,0]),mode='lines+markers',name = \"Train\"))\n",
    "fig.add_trace(\n",
    "    go.Scatter(x=list(y_test.index), y=list(y_test.iloc[:,0]), mode='lines+markers', name = \"Test\"))\n",
    "fig.add_trace(\n",
    "    go.Scatter(x=list(y_test.index), y=list(pred_manual), line=go.scatter.Line(color=\"green\"), name = \"Pred\"))\n",
    "fig.show()"
   ]
  },
  {
   "cell_type": "markdown",
   "metadata": {},
   "source": [
    "----"
   ]
  },
  {
   "cell_type": "code",
   "execution_count": 29,
   "metadata": {},
   "outputs": [],
   "source": [
    "def check_well(y, X, window_length, feature_names, n_steps, rolling_window=[]):                ## Funcion para tests de si se han creado correctamente los elementos del modelo \n",
    "    target_range = pd.date_range(X.index[0], periods=n_steps, freq=freq)\n",
    "    names = [i.split('_')[0] for i in feature_names]\n",
    "    max_rol = max(rolling_window, default=1)\n",
    "    lags = list(y.iloc[:window_length+max_rol-1,0])\n",
    "    for i in range(n_steps):\n",
    "        train = create_features(feature_names, lags, target_range[i])\n",
    "        train = [round(num, 2) for num in train]\n",
    "        r = [round(num, 2) for num in list(X.iloc[i,:])]\n",
    "        if not r == train:\n",
    "            print('Not all features have been created correctly')\n",
    "            return\n",
    "        lags.pop(0)\n",
    "        lags.append(float(y.iloc[window_length+max_rol-1+i,:]))\n",
    "    print('All features have been created correctly')\n",
    "    return "
   ]
  },
  {
   "cell_type": "code",
   "execution_count": 30,
   "metadata": {},
   "outputs": [
    {
     "name": "stdout",
     "output_type": "stream",
     "text": [
      "All features have been created correctly\n"
     ]
    }
   ],
   "source": [
    "check_well(y_train, X_train_selec, window_length, best_features, points, rolling_window)"
   ]
  },
  {
   "cell_type": "markdown",
   "metadata": {},
   "source": [
    "------"
   ]
  },
  {
   "cell_type": "code",
   "execution_count": 31,
   "metadata": {},
   "outputs": [],
   "source": [
    "from keras.models import Sequential\n",
    "from keras.layers import Dense\n",
    "from keras.layers import LSTM\n",
    "from keras.layers import Conv1D\n",
    "from keras.layers import Flatten\n",
    "from keras.layers import MaxPooling1D\n",
    "from sklearn.preprocessing import MinMaxScaler\n",
    "from sklearn.metrics import mean_squared_error\n",
    "import tensorflow as tf"
   ]
  },
  {
   "cell_type": "code",
   "execution_count": 32,
   "metadata": {},
   "outputs": [],
   "source": [
    "scaler = MinMaxScaler(feature_range=(0, 1))\n",
    "X_train_selec = scaler.fit_transform(X_train_selec)"
   ]
  },
  {
   "cell_type": "code",
   "execution_count": 33,
   "metadata": {},
   "outputs": [
    {
     "data": {
      "text/plain": [
       "array([[0.64650895, 0.68044373, 0.69488713, ..., 0.61837784, 0.58064743,\n",
       "        0.68873814],\n",
       "       [0.68044373, 0.67148148, 0.65007931, ..., 0.54208088, 0.58064743,\n",
       "        0.68873814],\n",
       "       [0.67148148, 0.73503836, 0.67891955, ..., 0.54208088, 0.69651562,\n",
       "        0.68873814],\n",
       "       ...,\n",
       "       [0.684519  , 0.8557538 , 0.71021236, ..., 0.44549065, 0.69972156,\n",
       "        0.7167788 ],\n",
       "       [0.8557538 , 0.73936608, 0.55945901, ..., 0.44549065, 0.43094158,\n",
       "        0.56438161],\n",
       "       [0.73936608, 0.80621835, 0.46599035, ..., 0.49465865, 0.43094158,\n",
       "        0.56438161]])"
      ]
     },
     "execution_count": 33,
     "metadata": {},
     "output_type": "execute_result"
    }
   ],
   "source": [
    "X_train_selec[-5000:]"
   ]
  },
  {
   "cell_type": "code",
   "execution_count": 34,
   "metadata": {},
   "outputs": [
    {
     "name": "stdout",
     "output_type": "stream",
     "text": [
      "Epoch 1/100\n",
      "50/50 [==============================] - 12s 69ms/step - loss: 214565945.7255 - mean_absolute_percentage_error: 100.0000 - val_loss: 217611616.0000 - val_mean_absolute_percentage_error: 100.0000\n",
      "Epoch 2/100\n",
      "50/50 [==============================] - 2s 40ms/step - loss: 214087811.1373 - mean_absolute_percentage_error: 100.0000 - val_loss: 217611616.0000 - val_mean_absolute_percentage_error: 100.0000\n",
      "Epoch 3/100\n",
      "50/50 [==============================] - 2s 38ms/step - loss: 214185843.7647 - mean_absolute_percentage_error: 100.0000 - val_loss: 217611616.0000 - val_mean_absolute_percentage_error: 100.0000\n",
      "Epoch 4/100\n",
      "50/50 [==============================] - 2s 49ms/step - loss: 214712885.6471 - mean_absolute_percentage_error: 100.0000 - val_loss: 217611616.0000 - val_mean_absolute_percentage_error: 100.0000\n",
      "Epoch 5/100\n",
      "50/50 [==============================] - 3s 60ms/step - loss: 216309989.3333 - mean_absolute_percentage_error: 100.0000 - val_loss: 217611616.0000 - val_mean_absolute_percentage_error: 100.0000\n",
      "Epoch 6/100\n",
      "50/50 [==============================] - 2s 40ms/step - loss: 213838716.5490 - mean_absolute_percentage_error: 100.0000 - val_loss: 217611616.0000 - val_mean_absolute_percentage_error: 100.0000\n",
      "Epoch 7/100\n",
      "50/50 [==============================] - 2s 37ms/step - loss: 213443392.6275 - mean_absolute_percentage_error: 100.0000 - val_loss: 217611616.0000 - val_mean_absolute_percentage_error: 100.0000\n",
      "Epoch 8/100\n",
      "50/50 [==============================] - 2s 37ms/step - loss: 214598653.1765 - mean_absolute_percentage_error: 100.0000 - val_loss: 217611616.0000 - val_mean_absolute_percentage_error: 100.0000\n",
      "Epoch 9/100\n",
      "50/50 [==============================] - 2s 37ms/step - loss: 215519915.2941 - mean_absolute_percentage_error: 100.0000 - val_loss: 217611616.0000 - val_mean_absolute_percentage_error: 100.0000\n",
      "Epoch 10/100\n",
      "50/50 [==============================] - 2s 37ms/step - loss: 215487197.1765 - mean_absolute_percentage_error: 100.0000 - val_loss: 217611616.0000 - val_mean_absolute_percentage_error: 100.0000\n",
      "Epoch 11/100\n",
      "50/50 [==============================] - 2s 37ms/step - loss: 213970766.4314 - mean_absolute_percentage_error: 100.0000 - val_loss: 217611616.0000 - val_mean_absolute_percentage_error: 100.0000\n",
      "Epoch 12/100\n",
      "50/50 [==============================] - 2s 38ms/step - loss: 214445660.2353 - mean_absolute_percentage_error: 100.0000 - val_loss: 217611616.0000 - val_mean_absolute_percentage_error: 100.0000\n",
      "Epoch 13/100\n",
      "50/50 [==============================] - 2s 38ms/step - loss: 214876490.0392 - mean_absolute_percentage_error: 100.0000 - val_loss: 217611616.0000 - val_mean_absolute_percentage_error: 100.0000\n",
      "Epoch 14/100\n",
      "50/50 [==============================] - 2s 37ms/step - loss: 213783108.7059 - mean_absolute_percentage_error: 100.0000 - val_loss: 217611616.0000 - val_mean_absolute_percentage_error: 100.0000\n",
      "Epoch 15/100\n",
      "50/50 [==============================] - 2s 37ms/step - loss: 213279321.7255 - mean_absolute_percentage_error: 100.0000 - val_loss: 217611616.0000 - val_mean_absolute_percentage_error: 100.0000\n",
      "Epoch 16/100\n",
      "50/50 [==============================] - 2s 38ms/step - loss: 214635033.7255 - mean_absolute_percentage_error: 100.0000 - val_loss: 217611616.0000 - val_mean_absolute_percentage_error: 100.0000\n",
      "Epoch 17/100\n",
      "50/50 [==============================] - 2s 38ms/step - loss: 214970736.6275 - mean_absolute_percentage_error: 100.0000 - val_loss: 217611616.0000 - val_mean_absolute_percentage_error: 100.0000\n",
      "Epoch 18/100\n",
      "50/50 [==============================] - 2s 37ms/step - loss: 214706500.7059 - mean_absolute_percentage_error: 100.0000 - val_loss: 217611616.0000 - val_mean_absolute_percentage_error: 100.0000\n",
      "Epoch 19/100\n",
      "50/50 [==============================] - 2s 37ms/step - loss: 215416641.2549 - mean_absolute_percentage_error: 100.0000 - val_loss: 217611616.0000 - val_mean_absolute_percentage_error: 100.0000\n",
      "Epoch 20/100\n",
      "50/50 [==============================] - 2s 37ms/step - loss: 214461461.6471 - mean_absolute_percentage_error: 100.0000 - val_loss: 217611616.0000 - val_mean_absolute_percentage_error: 100.0000\n",
      "Epoch 21/100\n",
      "50/50 [==============================] - 2s 36ms/step - loss: 214924951.8431 - mean_absolute_percentage_error: 100.0000 - val_loss: 217611616.0000 - val_mean_absolute_percentage_error: 100.0000\n",
      "Epoch 22/100\n",
      "50/50 [==============================] - 2s 37ms/step - loss: 215005180.2353 - mean_absolute_percentage_error: 100.0000 - val_loss: 217611616.0000 - val_mean_absolute_percentage_error: 100.0000\n",
      "Epoch 23/100\n",
      "50/50 [==============================] - 2s 37ms/step - loss: 214748412.2353 - mean_absolute_percentage_error: 100.0000 - val_loss: 217611616.0000 - val_mean_absolute_percentage_error: 100.0000\n",
      "Epoch 24/100\n",
      "50/50 [==============================] - 2s 39ms/step - loss: 216159827.1373 - mean_absolute_percentage_error: 100.0000 - val_loss: 217611616.0000 - val_mean_absolute_percentage_error: 100.0000\n",
      "Epoch 25/100\n",
      "50/50 [==============================] - 2s 37ms/step - loss: 214876704.3137 - mean_absolute_percentage_error: 100.0000 - val_loss: 217611616.0000 - val_mean_absolute_percentage_error: 100.0000\n",
      "Epoch 26/100\n",
      "50/50 [==============================] - 2s 37ms/step - loss: 214064230.5882 - mean_absolute_percentage_error: 100.0000 - val_loss: 217611616.0000 - val_mean_absolute_percentage_error: 100.0000\n",
      "Epoch 27/100\n",
      "50/50 [==============================] - 2s 47ms/step - loss: 213964786.8235 - mean_absolute_percentage_error: 100.0000 - val_loss: 217611616.0000 - val_mean_absolute_percentage_error: 100.0000\n",
      "Epoch 28/100\n",
      "50/50 [==============================] - 2s 37ms/step - loss: 215315452.5490 - mean_absolute_percentage_error: 100.0000 - val_loss: 217611616.0000 - val_mean_absolute_percentage_error: 100.0000\n",
      "Epoch 29/100\n",
      "50/50 [==============================] - 2s 37ms/step - loss: 215556228.3922 - mean_absolute_percentage_error: 100.0000 - val_loss: 217611616.0000 - val_mean_absolute_percentage_error: 100.0000\n",
      "Epoch 30/100\n",
      "50/50 [==============================] - 2s 37ms/step - loss: 214278149.6471 - mean_absolute_percentage_error: 100.0000 - val_loss: 217611616.0000 - val_mean_absolute_percentage_error: 100.0000\n",
      "Epoch 31/100\n",
      "50/50 [==============================] - 2s 38ms/step - loss: 215904752.0000 - mean_absolute_percentage_error: 100.0000 - val_loss: 217611616.0000 - val_mean_absolute_percentage_error: 100.0000\n",
      "Epoch 32/100\n",
      "50/50 [==============================] - 2s 37ms/step - loss: 214187194.0392 - mean_absolute_percentage_error: 100.0000 - val_loss: 217611616.0000 - val_mean_absolute_percentage_error: 100.0000\n",
      "Epoch 33/100\n",
      "50/50 [==============================] - 2s 38ms/step - loss: 213884145.8824 - mean_absolute_percentage_error: 100.0000 - val_loss: 217611616.0000 - val_mean_absolute_percentage_error: 100.0000\n",
      "Epoch 34/100\n",
      "50/50 [==============================] - 2s 36ms/step - loss: 215256879.0588 - mean_absolute_percentage_error: 100.0000 - val_loss: 217611616.0000 - val_mean_absolute_percentage_error: 100.0000\n",
      "Epoch 35/100\n",
      "50/50 [==============================] - 2s 38ms/step - loss: 215558509.4902 - mean_absolute_percentage_error: 100.0000 - val_loss: 217611616.0000 - val_mean_absolute_percentage_error: 100.0000\n",
      "Epoch 36/100\n",
      "50/50 [==============================] - 2s 37ms/step - loss: 215409808.6275 - mean_absolute_percentage_error: 100.0000 - val_loss: 217611616.0000 - val_mean_absolute_percentage_error: 100.0000\n",
      "Epoch 37/100\n",
      "50/50 [==============================] - 2s 37ms/step - loss: 214922526.4314 - mean_absolute_percentage_error: 100.0000 - val_loss: 217611616.0000 - val_mean_absolute_percentage_error: 100.0000\n",
      "Epoch 38/100\n",
      "50/50 [==============================] - 2s 41ms/step - loss: 214406444.5490 - mean_absolute_percentage_error: 100.0000 - val_loss: 217611616.0000 - val_mean_absolute_percentage_error: 100.0000\n",
      "Epoch 39/100\n",
      "50/50 [==============================] - 2s 37ms/step - loss: 214199374.7451 - mean_absolute_percentage_error: 100.0000 - val_loss: 217611616.0000 - val_mean_absolute_percentage_error: 100.0000\n",
      "Epoch 40/100\n",
      "50/50 [==============================] - 2s 37ms/step - loss: 213433380.7059 - mean_absolute_percentage_error: 100.0000 - val_loss: 217611616.0000 - val_mean_absolute_percentage_error: 100.0000\n"
     ]
    },
    {
     "name": "stdout",
     "output_type": "stream",
     "text": [
      "Epoch 41/100\n",
      "50/50 [==============================] - 2s 37ms/step - loss: 215623466.3529 - mean_absolute_percentage_error: 100.0000 - val_loss: 217611616.0000 - val_mean_absolute_percentage_error: 100.0000\n",
      "Epoch 42/100\n",
      "50/50 [==============================] - 2s 36ms/step - loss: 214079904.9412 - mean_absolute_percentage_error: 100.0000 - val_loss: 217611616.0000 - val_mean_absolute_percentage_error: 100.0000\n",
      "Epoch 43/100\n",
      "50/50 [==============================] - 2s 36ms/step - loss: 214304630.2745 - mean_absolute_percentage_error: 100.0000 - val_loss: 217611616.0000 - val_mean_absolute_percentage_error: 100.0000\n",
      "Epoch 44/100\n",
      "50/50 [==============================] - 2s 37ms/step - loss: 216429274.6667 - mean_absolute_percentage_error: 100.0000 - val_loss: 217611616.0000 - val_mean_absolute_percentage_error: 100.0000\n",
      "Epoch 45/100\n",
      "50/50 [==============================] - 2s 37ms/step - loss: 215295889.5686 - mean_absolute_percentage_error: 100.0000 - val_loss: 217611616.0000 - val_mean_absolute_percentage_error: 100.0000\n",
      "Epoch 46/100\n",
      "50/50 [==============================] - 2s 38ms/step - loss: 214223624.7843 - mean_absolute_percentage_error: 100.0000 - val_loss: 217611616.0000 - val_mean_absolute_percentage_error: 100.0000\n",
      "Epoch 47/100\n",
      "50/50 [==============================] - 2s 36ms/step - loss: 215125124.7059 - mean_absolute_percentage_error: 100.0000 - val_loss: 217611616.0000 - val_mean_absolute_percentage_error: 100.0000\n",
      "Epoch 48/100\n",
      "50/50 [==============================] - 2s 37ms/step - loss: 214349061.3333 - mean_absolute_percentage_error: 100.0000 - val_loss: 217611616.0000 - val_mean_absolute_percentage_error: 100.0000\n",
      "Epoch 49/100\n",
      "50/50 [==============================] - 2s 36ms/step - loss: 215204185.4118 - mean_absolute_percentage_error: 100.0000 - val_loss: 217611616.0000 - val_mean_absolute_percentage_error: 100.0000\n",
      "Epoch 50/100\n",
      "50/50 [==============================] - 2s 36ms/step - loss: 214754510.4314 - mean_absolute_percentage_error: 100.0000 - val_loss: 217611616.0000 - val_mean_absolute_percentage_error: 100.0000\n",
      "Epoch 51/100\n",
      "50/50 [==============================] - 2s 36ms/step - loss: 214576749.8039 - mean_absolute_percentage_error: 100.0000 - val_loss: 217611616.0000 - val_mean_absolute_percentage_error: 100.0000\n",
      "Epoch 52/100\n",
      "50/50 [==============================] - 2s 37ms/step - loss: 215040597.3333 - mean_absolute_percentage_error: 100.0000 - val_loss: 217611616.0000 - val_mean_absolute_percentage_error: 100.0000\n",
      "Epoch 53/100\n",
      "50/50 [==============================] - 2s 37ms/step - loss: 214143541.6471 - mean_absolute_percentage_error: 100.0000 - val_loss: 217611616.0000 - val_mean_absolute_percentage_error: 100.0000\n",
      "Epoch 54/100\n",
      "50/50 [==============================] - 2s 37ms/step - loss: 214296433.8824 - mean_absolute_percentage_error: 100.0000 - val_loss: 217611616.0000 - val_mean_absolute_percentage_error: 100.0000\n",
      "Epoch 55/100\n",
      "50/50 [==============================] - 2s 36ms/step - loss: 214038005.9608 - mean_absolute_percentage_error: 100.0000 - val_loss: 217611616.0000 - val_mean_absolute_percentage_error: 100.0000\n",
      "Epoch 56/100\n",
      "50/50 [==============================] - 2s 38ms/step - loss: 214668287.6863 - mean_absolute_percentage_error: 100.0000 - val_loss: 217611616.0000 - val_mean_absolute_percentage_error: 100.0000\n",
      "Epoch 57/100\n",
      "50/50 [==============================] - 2s 37ms/step - loss: 215146488.7843 - mean_absolute_percentage_error: 100.0000 - val_loss: 217611616.0000 - val_mean_absolute_percentage_error: 100.0000\n",
      "Epoch 58/100\n",
      "50/50 [==============================] - 2s 37ms/step - loss: 214205791.3725 - mean_absolute_percentage_error: 100.0000 - val_loss: 217611616.0000 - val_mean_absolute_percentage_error: 100.0000\n",
      "Epoch 59/100\n",
      "50/50 [==============================] - 2s 36ms/step - loss: 213176473.0980 - mean_absolute_percentage_error: 100.0000 - val_loss: 217611616.0000 - val_mean_absolute_percentage_error: 100.0000\n",
      "Epoch 60/100\n",
      "50/50 [==============================] - 2s 37ms/step - loss: 214087796.3922 - mean_absolute_percentage_error: 100.0000 - val_loss: 217611616.0000 - val_mean_absolute_percentage_error: 100.0000\n",
      "Epoch 61/100\n",
      "50/50 [==============================] - 2s 37ms/step - loss: 212581875.4510 - mean_absolute_percentage_error: 100.0000 - val_loss: 217611616.0000 - val_mean_absolute_percentage_error: 100.0000\n",
      "Epoch 62/100\n",
      "50/50 [==============================] - 2s 36ms/step - loss: 214696887.8431 - mean_absolute_percentage_error: 100.0000 - val_loss: 217611616.0000 - val_mean_absolute_percentage_error: 100.0000\n",
      "Epoch 63/100\n",
      "50/50 [==============================] - 2s 37ms/step - loss: 215634185.4118 - mean_absolute_percentage_error: 100.0000 - val_loss: 217611616.0000 - val_mean_absolute_percentage_error: 100.0000\n",
      "Epoch 64/100\n",
      "50/50 [==============================] - 2s 37ms/step - loss: 214980416.9412 - mean_absolute_percentage_error: 100.0000 - val_loss: 217611616.0000 - val_mean_absolute_percentage_error: 100.0000\n",
      "Epoch 65/100\n",
      "50/50 [==============================] - 2s 37ms/step - loss: 214624227.1373 - mean_absolute_percentage_error: 100.0000 - val_loss: 217611616.0000 - val_mean_absolute_percentage_error: 100.0000\n",
      "Epoch 66/100\n",
      "50/50 [==============================] - 2s 36ms/step - loss: 214995522.5098 - mean_absolute_percentage_error: 100.0000 - val_loss: 217611616.0000 - val_mean_absolute_percentage_error: 100.0000\n",
      "Epoch 67/100\n",
      "50/50 [==============================] - 2s 37ms/step - loss: 212439580.5490 - mean_absolute_percentage_error: 100.0000 - val_loss: 217611616.0000 - val_mean_absolute_percentage_error: 100.0000\n",
      "Epoch 68/100\n",
      "50/50 [==============================] - 2s 37ms/step - loss: 215559958.5882 - mean_absolute_percentage_error: 100.0000 - val_loss: 217611616.0000 - val_mean_absolute_percentage_error: 100.0000\n",
      "Epoch 69/100\n",
      "50/50 [==============================] - 2s 44ms/step - loss: 215816101.0196 - mean_absolute_percentage_error: 100.0000 - val_loss: 217611616.0000 - val_mean_absolute_percentage_error: 100.0000\n",
      "Epoch 70/100\n",
      "50/50 [==============================] - 2s 38ms/step - loss: 214546594.1961 - mean_absolute_percentage_error: 100.0000 - val_loss: 217611616.0000 - val_mean_absolute_percentage_error: 100.0000\n",
      "Epoch 71/100\n",
      "50/50 [==============================] - 2s 37ms/step - loss: 215214024.4706 - mean_absolute_percentage_error: 100.0000 - val_loss: 217611616.0000 - val_mean_absolute_percentage_error: 100.0000\n",
      "Epoch 72/100\n",
      "50/50 [==============================] - 2s 37ms/step - loss: 214197324.2353 - mean_absolute_percentage_error: 100.0000 - val_loss: 217611616.0000 - val_mean_absolute_percentage_error: 100.0000\n",
      "Epoch 73/100\n",
      "50/50 [==============================] - 2s 37ms/step - loss: 214245570.5098 - mean_absolute_percentage_error: 100.0000 - val_loss: 217611616.0000 - val_mean_absolute_percentage_error: 100.0000\n",
      "Epoch 74/100\n",
      "50/50 [==============================] - 2s 37ms/step - loss: 215250984.4706 - mean_absolute_percentage_error: 100.0000 - val_loss: 217611616.0000 - val_mean_absolute_percentage_error: 100.0000\n",
      "Epoch 75/100\n",
      "50/50 [==============================] - 2s 37ms/step - loss: 215140108.8627 - mean_absolute_percentage_error: 100.0000 - val_loss: 217611616.0000 - val_mean_absolute_percentage_error: 100.0000\n",
      "Epoch 76/100\n",
      "50/50 [==============================] - 2s 37ms/step - loss: 213613192.4706 - mean_absolute_percentage_error: 100.0000 - val_loss: 217611616.0000 - val_mean_absolute_percentage_error: 100.0000\n",
      "Epoch 77/100\n",
      "50/50 [==============================] - 2s 36ms/step - loss: 214742817.5686 - mean_absolute_percentage_error: 100.0000 - val_loss: 217611616.0000 - val_mean_absolute_percentage_error: 100.0000\n",
      "Epoch 78/100\n",
      "50/50 [==============================] - 2s 37ms/step - loss: 214213847.2157 - mean_absolute_percentage_error: 100.0000 - val_loss: 217611616.0000 - val_mean_absolute_percentage_error: 100.0000\n",
      "Epoch 79/100\n",
      "50/50 [==============================] - 2s 37ms/step - loss: 214644660.0784 - mean_absolute_percentage_error: 100.0000 - val_loss: 217611616.0000 - val_mean_absolute_percentage_error: 100.0000\n",
      "Epoch 80/100\n"
     ]
    },
    {
     "name": "stdout",
     "output_type": "stream",
     "text": [
      "50/50 [==============================] - 2s 37ms/step - loss: 214122244.7059 - mean_absolute_percentage_error: 100.0000 - val_loss: 217611616.0000 - val_mean_absolute_percentage_error: 100.0000\n",
      "Epoch 81/100\n",
      "50/50 [==============================] - 2s 40ms/step - loss: 214298784.9412 - mean_absolute_percentage_error: 100.0000 - val_loss: 217611616.0000 - val_mean_absolute_percentage_error: 100.0000\n",
      "Epoch 82/100\n",
      "50/50 [==============================] - 2s 36ms/step - loss: 214680171.9216 - mean_absolute_percentage_error: 100.0000 - val_loss: 217611616.0000 - val_mean_absolute_percentage_error: 100.0000\n",
      "Epoch 83/100\n",
      "50/50 [==============================] - 2s 36ms/step - loss: 215474539.9216 - mean_absolute_percentage_error: 100.0000 - val_loss: 217611616.0000 - val_mean_absolute_percentage_error: 100.0000\n",
      "Epoch 84/100\n",
      "50/50 [==============================] - 2s 36ms/step - loss: 214592476.2353 - mean_absolute_percentage_error: 100.0000 - val_loss: 217611616.0000 - val_mean_absolute_percentage_error: 100.0000\n",
      "Epoch 85/100\n",
      "50/50 [==============================] - 2s 37ms/step - loss: 213277969.5686 - mean_absolute_percentage_error: 100.0000 - val_loss: 217611616.0000 - val_mean_absolute_percentage_error: 100.0000\n",
      "Epoch 86/100\n",
      "50/50 [==============================] - 2s 37ms/step - loss: 214218398.1176 - mean_absolute_percentage_error: 100.0000 - val_loss: 217611616.0000 - val_mean_absolute_percentage_error: 100.0000\n",
      "Epoch 87/100\n",
      "50/50 [==============================] - 2s 37ms/step - loss: 214517901.1765 - mean_absolute_percentage_error: 100.0000 - val_loss: 217611616.0000 - val_mean_absolute_percentage_error: 100.0000\n",
      "Epoch 88/100\n",
      "50/50 [==============================] - 2s 37ms/step - loss: 215383837.4902 - mean_absolute_percentage_error: 100.0000 - val_loss: 217611616.0000 - val_mean_absolute_percentage_error: 100.0000\n",
      "Epoch 89/100\n",
      "50/50 [==============================] - 2s 38ms/step - loss: 214332689.2549 - mean_absolute_percentage_error: 100.0000 - val_loss: 217611616.0000 - val_mean_absolute_percentage_error: 100.0000\n",
      "Epoch 90/100\n",
      "50/50 [==============================] - 2s 37ms/step - loss: 215506411.9216 - mean_absolute_percentage_error: 100.0000 - val_loss: 217611616.0000 - val_mean_absolute_percentage_error: 100.0000\n",
      "Epoch 91/100\n",
      "50/50 [==============================] - 2s 40ms/step - loss: 214394665.4118 - mean_absolute_percentage_error: 100.0000 - val_loss: 217611616.0000 - val_mean_absolute_percentage_error: 100.0000\n",
      "Epoch 92/100\n",
      "50/50 [==============================] - 2s 37ms/step - loss: 214315801.7255 - mean_absolute_percentage_error: 100.0000 - val_loss: 217611616.0000 - val_mean_absolute_percentage_error: 100.0000\n",
      "Epoch 93/100\n",
      "50/50 [==============================] - 2s 37ms/step - loss: 214640451.1373 - mean_absolute_percentage_error: 100.0000 - val_loss: 217611616.0000 - val_mean_absolute_percentage_error: 100.0000\n",
      "Epoch 94/100\n",
      "50/50 [==============================] - 2s 37ms/step - loss: 215078197.0196 - mean_absolute_percentage_error: 100.0000 - val_loss: 217611616.0000 - val_mean_absolute_percentage_error: 100.0000\n",
      "Epoch 95/100\n",
      "50/50 [==============================] - 2s 37ms/step - loss: 214226307.4510 - mean_absolute_percentage_error: 100.0000 - val_loss: 217611616.0000 - val_mean_absolute_percentage_error: 100.0000\n",
      "Epoch 96/100\n",
      "50/50 [==============================] - 2s 36ms/step - loss: 214005752.7843 - mean_absolute_percentage_error: 100.0000 - val_loss: 217611616.0000 - val_mean_absolute_percentage_error: 100.0000\n",
      "Epoch 97/100\n",
      "50/50 [==============================] - 2s 37ms/step - loss: 213968550.9020 - mean_absolute_percentage_error: 100.0000 - val_loss: 217611616.0000 - val_mean_absolute_percentage_error: 100.0000\n",
      "Epoch 98/100\n",
      "50/50 [==============================] - 2s 37ms/step - loss: 214067998.4314 - mean_absolute_percentage_error: 100.0000 - val_loss: 217611616.0000 - val_mean_absolute_percentage_error: 100.0000\n",
      "Epoch 99/100\n",
      "50/50 [==============================] - 3s 52ms/step - loss: 215717555.7647 - mean_absolute_percentage_error: 100.0000 - val_loss: 217611616.0000 - val_mean_absolute_percentage_error: 100.0000\n",
      "Epoch 100/100\n",
      "50/50 [==============================] - 2s 37ms/step - loss: 214846591.6863 - mean_absolute_percentage_error: 100.0000 - val_loss: 217611616.0000 - val_mean_absolute_percentage_error: 100.0000\n"
     ]
    }
   ],
   "source": [
    "y_train = y_train.loc[X_train.index[0]:]\n",
    "y_train = y_train.to_numpy().reshape(-1, 1, 1)\n",
    "X_train_selec = X_train_selec.reshape(-1,1,40)\n",
    "model = Sequential()\n",
    "model.add(LSTM(256, activation='relu', input_shape=(1,40),  return_sequences=True))\n",
    "model.add(LSTM(256, activation='relu', return_sequences=True))\n",
    "model.add(LSTM(256, activation='relu', return_sequences=True))\n",
    "model.add(LSTM(256, activation='relu', return_sequences=True))\n",
    "model.add(LSTM(256, activation='relu', return_sequences=True))\n",
    "model.add(LSTM(256, activation='relu', return_sequences=True))\n",
    "model.add(LSTM(256, activation='relu', return_sequences=True))\n",
    "\n",
    "model.add(Dense(1, activation = 'relu'))\n",
    "model.compile(loss='mse', optimizer='adam', metrics = tf.keras.metrics.MeanAbsolutePercentageError())\n",
    "hist = model.fit(X_train_selec[-2200:-200], y_train[-2200:-200], epochs=100, batch_size=32, verbose=1, validation_split=0.1)\n",
    "\n",
    "xtest = X_train_selec[-200:]\n",
    "ytest = y_train[-200:]"
   ]
  },
  {
   "cell_type": "code",
   "execution_count": 35,
   "metadata": {},
   "outputs": [],
   "source": [
    "import matplotlib.pyplot as plt"
   ]
  },
  {
   "cell_type": "code",
   "execution_count": 36,
   "metadata": {},
   "outputs": [
    {
     "data": {
      "text/plain": [
       "[<matplotlib.lines.Line2D at 0x7fbe35e0ccd0>]"
      ]
     },
     "execution_count": 36,
     "metadata": {},
     "output_type": "execute_result"
    },
    {
     "data": {
      "image/png": "[encoded data removed]",
      "text/plain": [
       "<Figure size 432x288 with 1 Axes>"
      ]
     },
     "metadata": {
      "needs_background": "light"
     },
     "output_type": "display_data"
    }
   ],
   "source": [
    "pred = model.predict(xtest)\n",
    "plt.plot(pred.flatten())\n",
    "plt.plot(ytest.flatten(), color = 'g')"
   ]
  },
  {
   "cell_type": "code",
   "execution_count": 37,
   "metadata": {},
   "outputs": [
    {
     "data": {
      "text/plain": [
       "199636098.75746322"
      ]
     },
     "execution_count": 37,
     "metadata": {},
     "output_type": "execute_result"
    }
   ],
   "source": [
    "mse = (np.square(ytest.flatten() - pred.flatten())).mean(axis=0)\n",
    "mse"
   ]
  },
  {
   "cell_type": "markdown",
   "metadata": {},
   "source": [
    "-------"
   ]
  },
  {
   "cell_type": "code",
   "execution_count": 38,
   "metadata": {},
   "outputs": [
    {
     "name": "stdout",
     "output_type": "stream",
     "text": [
      "Epoch 1/100\n",
      "94/94 [==============================] - 10s 34ms/step - loss: 99.5937 - mean_absolute_percentage_error: 99.5937 - val_loss: 98.8680 - val_mean_absolute_percentage_error: 98.8680\n",
      "Epoch 2/100\n",
      "94/94 [==============================] - 3s 28ms/step - loss: 92.7492 - mean_absolute_percentage_error: 92.7492 - val_loss: 88.3296 - val_mean_absolute_percentage_error: 88.3296\n",
      "Epoch 3/100\n",
      "94/94 [==============================] - 2s 25ms/step - loss: 67.9530 - mean_absolute_percentage_error: 67.9530 - val_loss: 56.9272 - val_mean_absolute_percentage_error: 56.9272\n",
      "Epoch 4/100\n",
      "94/94 [==============================] - 2s 25ms/step - loss: 18.2406 - mean_absolute_percentage_error: 18.2406 - val_loss: 29.6899 - val_mean_absolute_percentage_error: 29.6899\n",
      "Epoch 5/100\n",
      "94/94 [==============================] - 2s 25ms/step - loss: 6.7061 - mean_absolute_percentage_error: 6.7061 - val_loss: 23.3414 - val_mean_absolute_percentage_error: 23.3414\n",
      "Epoch 6/100\n",
      "94/94 [==============================] - 2s 24ms/step - loss: 6.4729 - mean_absolute_percentage_error: 6.4729 - val_loss: 16.7722 - val_mean_absolute_percentage_error: 16.7722\n",
      "Epoch 7/100\n",
      "94/94 [==============================] - 2s 25ms/step - loss: 6.4423 - mean_absolute_percentage_error: 6.4423 - val_loss: 11.9724 - val_mean_absolute_percentage_error: 11.9724\n",
      "Epoch 8/100\n",
      "94/94 [==============================] - 2s 26ms/step - loss: 6.3276 - mean_absolute_percentage_error: 6.3276 - val_loss: 11.5697 - val_mean_absolute_percentage_error: 11.5697\n",
      "Epoch 9/100\n",
      "94/94 [==============================] - 3s 33ms/step - loss: 6.3938 - mean_absolute_percentage_error: 6.3938 - val_loss: 9.6567 - val_mean_absolute_percentage_error: 9.6567\n",
      "Epoch 10/100\n",
      "94/94 [==============================] - 2s 25ms/step - loss: 6.3947 - mean_absolute_percentage_error: 6.3947 - val_loss: 8.5696 - val_mean_absolute_percentage_error: 8.5696\n",
      "Epoch 11/100\n",
      "94/94 [==============================] - 2s 25ms/step - loss: 6.2870 - mean_absolute_percentage_error: 6.2870 - val_loss: 7.5799 - val_mean_absolute_percentage_error: 7.5799\n",
      "Epoch 12/100\n",
      "94/94 [==============================] - 2s 24ms/step - loss: 6.1312 - mean_absolute_percentage_error: 6.1312 - val_loss: 7.2147 - val_mean_absolute_percentage_error: 7.2147\n",
      "Epoch 13/100\n",
      "94/94 [==============================] - 2s 25ms/step - loss: 6.2230 - mean_absolute_percentage_error: 6.2230 - val_loss: 6.7900 - val_mean_absolute_percentage_error: 6.7900\n",
      "Epoch 14/100\n",
      "94/94 [==============================] - 2s 25ms/step - loss: 6.0491 - mean_absolute_percentage_error: 6.0491 - val_loss: 6.2280 - val_mean_absolute_percentage_error: 6.2280\n",
      "Epoch 15/100\n",
      "94/94 [==============================] - 2s 25ms/step - loss: 6.0066 - mean_absolute_percentage_error: 6.0066 - val_loss: 6.4638 - val_mean_absolute_percentage_error: 6.4638\n",
      "Epoch 16/100\n",
      "94/94 [==============================] - 2s 24ms/step - loss: 6.1495 - mean_absolute_percentage_error: 6.1495 - val_loss: 7.1602 - val_mean_absolute_percentage_error: 7.1602\n",
      "Epoch 17/100\n",
      "94/94 [==============================] - 2s 25ms/step - loss: 5.9407 - mean_absolute_percentage_error: 5.9407 - val_loss: 6.4795 - val_mean_absolute_percentage_error: 6.4795\n",
      "Epoch 18/100\n",
      "94/94 [==============================] - 2s 25ms/step - loss: 6.2094 - mean_absolute_percentage_error: 6.2094 - val_loss: 6.3368 - val_mean_absolute_percentage_error: 6.3368\n",
      "Epoch 19/100\n",
      "94/94 [==============================] - 2s 24ms/step - loss: 6.1083 - mean_absolute_percentage_error: 6.1083 - val_loss: 6.6094 - val_mean_absolute_percentage_error: 6.6094\n",
      "Epoch 20/100\n",
      "94/94 [==============================] - 2s 25ms/step - loss: 5.8212 - mean_absolute_percentage_error: 5.8212 - val_loss: 6.1576 - val_mean_absolute_percentage_error: 6.1576\n",
      "Epoch 21/100\n",
      "94/94 [==============================] - 3s 27ms/step - loss: 6.0782 - mean_absolute_percentage_error: 6.0782 - val_loss: 6.2807 - val_mean_absolute_percentage_error: 6.2807\n",
      "Epoch 22/100\n",
      "94/94 [==============================] - 2s 25ms/step - loss: 5.6465 - mean_absolute_percentage_error: 5.6465 - val_loss: 6.2389 - val_mean_absolute_percentage_error: 6.2389\n",
      "Epoch 23/100\n",
      "94/94 [==============================] - 3s 33ms/step - loss: 5.6643 - mean_absolute_percentage_error: 5.6643 - val_loss: 6.4865 - val_mean_absolute_percentage_error: 6.4865\n",
      "Epoch 24/100\n",
      "94/94 [==============================] - 3s 28ms/step - loss: 5.8479 - mean_absolute_percentage_error: 5.8479 - val_loss: 6.1049 - val_mean_absolute_percentage_error: 6.1049\n",
      "Epoch 25/100\n",
      "94/94 [==============================] - 2s 25ms/step - loss: 5.8345 - mean_absolute_percentage_error: 5.8345 - val_loss: 6.2193 - val_mean_absolute_percentage_error: 6.2193\n",
      "Epoch 26/100\n",
      "94/94 [==============================] - 2s 25ms/step - loss: 5.8973 - mean_absolute_percentage_error: 5.8973 - val_loss: 7.1474 - val_mean_absolute_percentage_error: 7.1474\n",
      "Epoch 27/100\n",
      "94/94 [==============================] - 2s 25ms/step - loss: 6.0518 - mean_absolute_percentage_error: 6.0518 - val_loss: 6.1950 - val_mean_absolute_percentage_error: 6.1950\n",
      "Epoch 28/100\n",
      "94/94 [==============================] - 2s 25ms/step - loss: 5.7452 - mean_absolute_percentage_error: 5.7452 - val_loss: 5.8525 - val_mean_absolute_percentage_error: 5.8525\n",
      "Epoch 29/100\n",
      "94/94 [==============================] - 2s 26ms/step - loss: 5.9962 - mean_absolute_percentage_error: 5.9962 - val_loss: 5.6121 - val_mean_absolute_percentage_error: 5.6121\n",
      "Epoch 30/100\n",
      "94/94 [==============================] - 3s 27ms/step - loss: 5.5944 - mean_absolute_percentage_error: 5.5944 - val_loss: 6.0528 - val_mean_absolute_percentage_error: 6.0528\n",
      "Epoch 31/100\n",
      "94/94 [==============================] - 2s 26ms/step - loss: 5.7412 - mean_absolute_percentage_error: 5.7412 - val_loss: 5.8223 - val_mean_absolute_percentage_error: 5.8223\n",
      "Epoch 32/100\n",
      "94/94 [==============================] - 2s 25ms/step - loss: 6.0265 - mean_absolute_percentage_error: 6.0265 - val_loss: 5.9766 - val_mean_absolute_percentage_error: 5.9766\n",
      "Epoch 33/100\n",
      "94/94 [==============================] - 2s 25ms/step - loss: 5.7193 - mean_absolute_percentage_error: 5.7193 - val_loss: 5.8484 - val_mean_absolute_percentage_error: 5.8484\n",
      "Epoch 34/100\n",
      "94/94 [==============================] - 2s 25ms/step - loss: 5.6868 - mean_absolute_percentage_error: 5.6868 - val_loss: 5.9956 - val_mean_absolute_percentage_error: 5.9956\n",
      "Epoch 35/100\n",
      "94/94 [==============================] - 3s 28ms/step - loss: 5.8512 - mean_absolute_percentage_error: 5.8512 - val_loss: 6.0875 - val_mean_absolute_percentage_error: 6.0875\n",
      "Epoch 36/100\n",
      "94/94 [==============================] - 2s 26ms/step - loss: 5.7129 - mean_absolute_percentage_error: 5.7129 - val_loss: 5.8401 - val_mean_absolute_percentage_error: 5.8401\n",
      "Epoch 37/100\n",
      "94/94 [==============================] - 2s 24ms/step - loss: 5.7295 - mean_absolute_percentage_error: 5.7295 - val_loss: 5.8275 - val_mean_absolute_percentage_error: 5.8275\n",
      "Epoch 38/100\n",
      "94/94 [==============================] - 2s 25ms/step - loss: 5.6572 - mean_absolute_percentage_error: 5.6572 - val_loss: 5.6136 - val_mean_absolute_percentage_error: 5.6136\n",
      "Epoch 39/100\n",
      "94/94 [==============================] - 2s 25ms/step - loss: 5.6761 - mean_absolute_percentage_error: 5.6761 - val_loss: 6.0027 - val_mean_absolute_percentage_error: 6.0027\n",
      "Epoch 40/100\n",
      "94/94 [==============================] - 2s 25ms/step - loss: 5.9716 - mean_absolute_percentage_error: 5.9716 - val_loss: 5.8314 - val_mean_absolute_percentage_error: 5.8314\n",
      "Epoch 41/100\n",
      "94/94 [==============================] - 2s 25ms/step - loss: 5.6833 - mean_absolute_percentage_error: 5.6833 - val_loss: 5.6622 - val_mean_absolute_percentage_error: 5.6622\n",
      "Epoch 42/100\n",
      "94/94 [==============================] - 2s 25ms/step - loss: 5.6323 - mean_absolute_percentage_error: 5.6323 - val_loss: 5.6841 - val_mean_absolute_percentage_error: 5.6841\n",
      "Epoch 43/100\n",
      "94/94 [==============================] - 2s 25ms/step - loss: 5.5893 - mean_absolute_percentage_error: 5.5893 - val_loss: 5.7496 - val_mean_absolute_percentage_error: 5.7496\n",
      "Epoch 44/100\n",
      "94/94 [==============================] - 2s 25ms/step - loss: 5.7885 - mean_absolute_percentage_error: 5.7885 - val_loss: 5.6968 - val_mean_absolute_percentage_error: 5.6968\n"
     ]
    },
    {
     "name": "stdout",
     "output_type": "stream",
     "text": [
      "Epoch 45/100\n",
      "94/94 [==============================] - 2s 24ms/step - loss: 5.5638 - mean_absolute_percentage_error: 5.5638 - val_loss: 5.5687 - val_mean_absolute_percentage_error: 5.5687\n",
      "Epoch 46/100\n",
      "94/94 [==============================] - 2s 24ms/step - loss: 5.6865 - mean_absolute_percentage_error: 5.6865 - val_loss: 5.6055 - val_mean_absolute_percentage_error: 5.6055\n",
      "Epoch 47/100\n",
      "94/94 [==============================] - 2s 26ms/step - loss: 5.6439 - mean_absolute_percentage_error: 5.6439 - val_loss: 5.7333 - val_mean_absolute_percentage_error: 5.7333\n",
      "Epoch 48/100\n",
      "94/94 [==============================] - 2s 26ms/step - loss: 6.0432 - mean_absolute_percentage_error: 6.0432 - val_loss: 5.6916 - val_mean_absolute_percentage_error: 5.6916\n",
      "Epoch 49/100\n",
      "94/94 [==============================] - 2s 25ms/step - loss: 5.5879 - mean_absolute_percentage_error: 5.5879 - val_loss: 5.7173 - val_mean_absolute_percentage_error: 5.7173\n",
      "Epoch 50/100\n",
      "94/94 [==============================] - 2s 24ms/step - loss: 5.6605 - mean_absolute_percentage_error: 5.6605 - val_loss: 5.8521 - val_mean_absolute_percentage_error: 5.8521\n",
      "Epoch 51/100\n",
      "94/94 [==============================] - 2s 25ms/step - loss: 5.8066 - mean_absolute_percentage_error: 5.8066 - val_loss: 6.1401 - val_mean_absolute_percentage_error: 6.1401\n",
      "Epoch 52/100\n",
      "94/94 [==============================] - 2s 25ms/step - loss: 5.7626 - mean_absolute_percentage_error: 5.7626 - val_loss: 5.6544 - val_mean_absolute_percentage_error: 5.6544\n",
      "Epoch 53/100\n",
      "94/94 [==============================] - 2s 24ms/step - loss: 5.5028 - mean_absolute_percentage_error: 5.5028 - val_loss: 5.5703 - val_mean_absolute_percentage_error: 5.5703\n",
      "Epoch 54/100\n",
      "94/94 [==============================] - 2s 24ms/step - loss: 5.4883 - mean_absolute_percentage_error: 5.4883 - val_loss: 5.6624 - val_mean_absolute_percentage_error: 5.6624\n",
      "Epoch 55/100\n",
      "94/94 [==============================] - 2s 25ms/step - loss: 5.5621 - mean_absolute_percentage_error: 5.5621 - val_loss: 5.6401 - val_mean_absolute_percentage_error: 5.6401\n",
      "Epoch 56/100\n",
      "94/94 [==============================] - 2s 24ms/step - loss: 5.6253 - mean_absolute_percentage_error: 5.6253 - val_loss: 5.6444 - val_mean_absolute_percentage_error: 5.6444\n",
      "Epoch 57/100\n",
      "94/94 [==============================] - 2s 24ms/step - loss: 5.5555 - mean_absolute_percentage_error: 5.5555 - val_loss: 5.5940 - val_mean_absolute_percentage_error: 5.5940\n",
      "Epoch 58/100\n",
      "94/94 [==============================] - 2s 24ms/step - loss: 5.4425 - mean_absolute_percentage_error: 5.4425 - val_loss: 5.6695 - val_mean_absolute_percentage_error: 5.6695\n",
      "Epoch 59/100\n",
      "94/94 [==============================] - 2s 25ms/step - loss: 5.6928 - mean_absolute_percentage_error: 5.6928 - val_loss: 5.7022 - val_mean_absolute_percentage_error: 5.7022\n",
      "Epoch 60/100\n",
      "94/94 [==============================] - 2s 25ms/step - loss: 5.3762 - mean_absolute_percentage_error: 5.3762 - val_loss: 5.6518 - val_mean_absolute_percentage_error: 5.6518\n",
      "Epoch 61/100\n",
      "94/94 [==============================] - 2s 25ms/step - loss: 5.3005 - mean_absolute_percentage_error: 5.3005 - val_loss: 5.6418 - val_mean_absolute_percentage_error: 5.6418\n",
      "Epoch 62/100\n",
      "94/94 [==============================] - 2s 25ms/step - loss: 5.5758 - mean_absolute_percentage_error: 5.5758 - val_loss: 5.5988 - val_mean_absolute_percentage_error: 5.5988\n",
      "Epoch 63/100\n",
      "94/94 [==============================] - 2s 24ms/step - loss: 5.5620 - mean_absolute_percentage_error: 5.5620 - val_loss: 5.8867 - val_mean_absolute_percentage_error: 5.8867\n",
      "Epoch 64/100\n",
      "94/94 [==============================] - 2s 25ms/step - loss: 5.3614 - mean_absolute_percentage_error: 5.3614 - val_loss: 5.7179 - val_mean_absolute_percentage_error: 5.7179\n",
      "Epoch 65/100\n",
      "94/94 [==============================] - 2s 25ms/step - loss: 5.6421 - mean_absolute_percentage_error: 5.6421 - val_loss: 5.6067 - val_mean_absolute_percentage_error: 5.6067\n",
      "Epoch 66/100\n",
      "94/94 [==============================] - 2s 25ms/step - loss: 5.4631 - mean_absolute_percentage_error: 5.4631 - val_loss: 5.5783 - val_mean_absolute_percentage_error: 5.5783\n",
      "Epoch 67/100\n",
      "94/94 [==============================] - 2s 25ms/step - loss: 5.6386 - mean_absolute_percentage_error: 5.6386 - val_loss: 5.6630 - val_mean_absolute_percentage_error: 5.6630\n",
      "Epoch 68/100\n",
      "94/94 [==============================] - 2s 25ms/step - loss: 5.2841 - mean_absolute_percentage_error: 5.2841 - val_loss: 5.6678 - val_mean_absolute_percentage_error: 5.6678\n",
      "Epoch 69/100\n",
      "94/94 [==============================] - 2s 24ms/step - loss: 5.4824 - mean_absolute_percentage_error: 5.4824 - val_loss: 5.5854 - val_mean_absolute_percentage_error: 5.5854\n",
      "Epoch 70/100\n",
      "94/94 [==============================] - 2s 25ms/step - loss: 5.3727 - mean_absolute_percentage_error: 5.3727 - val_loss: 5.7254 - val_mean_absolute_percentage_error: 5.7254\n",
      "Epoch 71/100\n",
      "94/94 [==============================] - 2s 25ms/step - loss: 5.4856 - mean_absolute_percentage_error: 5.4856 - val_loss: 5.7428 - val_mean_absolute_percentage_error: 5.7428\n",
      "Epoch 72/100\n",
      "94/94 [==============================] - 3s 28ms/step - loss: 5.5358 - mean_absolute_percentage_error: 5.5358 - val_loss: 5.7429 - val_mean_absolute_percentage_error: 5.7429\n",
      "Epoch 73/100\n",
      "94/94 [==============================] - 2s 25ms/step - loss: 5.5113 - mean_absolute_percentage_error: 5.5113 - val_loss: 5.6949 - val_mean_absolute_percentage_error: 5.6949\n",
      "Epoch 74/100\n",
      "94/94 [==============================] - 2s 25ms/step - loss: 5.5026 - mean_absolute_percentage_error: 5.5026 - val_loss: 5.7357 - val_mean_absolute_percentage_error: 5.7357\n",
      "Epoch 75/100\n",
      "94/94 [==============================] - 2s 25ms/step - loss: 5.5337 - mean_absolute_percentage_error: 5.5337 - val_loss: 5.6077 - val_mean_absolute_percentage_error: 5.6077\n",
      "Epoch 76/100\n",
      "94/94 [==============================] - 2s 25ms/step - loss: 5.3215 - mean_absolute_percentage_error: 5.3215 - val_loss: 5.5880 - val_mean_absolute_percentage_error: 5.5880\n",
      "Epoch 77/100\n",
      "94/94 [==============================] - 2s 25ms/step - loss: 5.3691 - mean_absolute_percentage_error: 5.3691 - val_loss: 5.6603 - val_mean_absolute_percentage_error: 5.6603\n",
      "Epoch 78/100\n",
      "94/94 [==============================] - 2s 26ms/step - loss: 5.3987 - mean_absolute_percentage_error: 5.3987 - val_loss: 5.5627 - val_mean_absolute_percentage_error: 5.5627\n",
      "Epoch 79/100\n",
      "94/94 [==============================] - 2s 25ms/step - loss: 5.1591 - mean_absolute_percentage_error: 5.1591 - val_loss: 5.8885 - val_mean_absolute_percentage_error: 5.8885\n",
      "Epoch 80/100\n",
      "94/94 [==============================] - 2s 24ms/step - loss: 5.3054 - mean_absolute_percentage_error: 5.3054 - val_loss: 5.5866 - val_mean_absolute_percentage_error: 5.5866\n",
      "Epoch 81/100\n",
      "94/94 [==============================] - 2s 25ms/step - loss: 5.4958 - mean_absolute_percentage_error: 5.4958 - val_loss: 5.5632 - val_mean_absolute_percentage_error: 5.5632\n",
      "Epoch 82/100\n",
      "94/94 [==============================] - 2s 25ms/step - loss: 5.0216 - mean_absolute_percentage_error: 5.0216 - val_loss: 5.6884 - val_mean_absolute_percentage_error: 5.6884\n",
      "Epoch 83/100\n",
      "94/94 [==============================] - 2s 25ms/step - loss: 5.2638 - mean_absolute_percentage_error: 5.2638 - val_loss: 5.6752 - val_mean_absolute_percentage_error: 5.6752\n",
      "Epoch 84/100\n",
      "94/94 [==============================] - 2s 25ms/step - loss: 5.3431 - mean_absolute_percentage_error: 5.3431 - val_loss: 5.7946 - val_mean_absolute_percentage_error: 5.7946\n",
      "Epoch 85/100\n",
      "94/94 [==============================] - 2s 25ms/step - loss: 5.2423 - mean_absolute_percentage_error: 5.2423 - val_loss: 6.0904 - val_mean_absolute_percentage_error: 6.0904\n",
      "Epoch 86/100\n",
      "94/94 [==============================] - 2s 25ms/step - loss: 5.4591 - mean_absolute_percentage_error: 5.4591 - val_loss: 5.7863 - val_mean_absolute_percentage_error: 5.7863\n",
      "Epoch 87/100\n",
      "94/94 [==============================] - 2s 25ms/step - loss: 5.5144 - mean_absolute_percentage_error: 5.5144 - val_loss: 5.7769 - val_mean_absolute_percentage_error: 5.7769\n",
      "Epoch 88/100\n",
      "94/94 [==============================] - 2s 25ms/step - loss: 5.3225 - mean_absolute_percentage_error: 5.3225 - val_loss: 5.7745 - val_mean_absolute_percentage_error: 5.7745\n"
     ]
    },
    {
     "name": "stdout",
     "output_type": "stream",
     "text": [
      "Epoch 89/100\n",
      "94/94 [==============================] - 2s 24ms/step - loss: 5.4283 - mean_absolute_percentage_error: 5.4283 - val_loss: 5.7667 - val_mean_absolute_percentage_error: 5.7667\n",
      "Epoch 90/100\n",
      "94/94 [==============================] - 2s 25ms/step - loss: 5.2230 - mean_absolute_percentage_error: 5.2230 - val_loss: 5.9860 - val_mean_absolute_percentage_error: 5.9860\n",
      "Epoch 91/100\n",
      "94/94 [==============================] - 2s 25ms/step - loss: 5.3440 - mean_absolute_percentage_error: 5.3440 - val_loss: 5.7931 - val_mean_absolute_percentage_error: 5.7931\n",
      "Epoch 92/100\n",
      "94/94 [==============================] - 2s 25ms/step - loss: 5.4639 - mean_absolute_percentage_error: 5.4639 - val_loss: 5.7226 - val_mean_absolute_percentage_error: 5.7226\n",
      "Epoch 93/100\n",
      "94/94 [==============================] - 3s 28ms/step - loss: 5.3296 - mean_absolute_percentage_error: 5.3296 - val_loss: 5.6463 - val_mean_absolute_percentage_error: 5.6463\n",
      "Epoch 94/100\n",
      "94/94 [==============================] - 2s 24ms/step - loss: 5.1750 - mean_absolute_percentage_error: 5.1750 - val_loss: 5.7266 - val_mean_absolute_percentage_error: 5.7266\n",
      "Epoch 95/100\n",
      "94/94 [==============================] - 2s 24ms/step - loss: 5.4292 - mean_absolute_percentage_error: 5.4292 - val_loss: 5.7175 - val_mean_absolute_percentage_error: 5.7175\n",
      "Epoch 96/100\n",
      "94/94 [==============================] - 2s 24ms/step - loss: 5.2078 - mean_absolute_percentage_error: 5.2078 - val_loss: 5.7185 - val_mean_absolute_percentage_error: 5.7185\n",
      "Epoch 97/100\n",
      "94/94 [==============================] - 2s 24ms/step - loss: 5.2543 - mean_absolute_percentage_error: 5.2543 - val_loss: 5.6679 - val_mean_absolute_percentage_error: 5.6679\n",
      "Epoch 98/100\n",
      "94/94 [==============================] - 2s 25ms/step - loss: 5.2463 - mean_absolute_percentage_error: 5.2463 - val_loss: 5.6922 - val_mean_absolute_percentage_error: 5.6922\n",
      "Epoch 99/100\n",
      "94/94 [==============================] - 2s 25ms/step - loss: 5.2339 - mean_absolute_percentage_error: 5.2339 - val_loss: 5.8191 - val_mean_absolute_percentage_error: 5.8191\n",
      "Epoch 100/100\n",
      "94/94 [==============================] - 2s 25ms/step - loss: 5.1887 - mean_absolute_percentage_error: 5.1887 - val_loss: 5.5697 - val_mean_absolute_percentage_error: 5.5697\n"
     ]
    }
   ],
   "source": [
    "from tcn import TCN, tcn_full_summary\n",
    "\n",
    "tcn_layer = TCN(input_shape=(1,40))\n",
    "\n",
    "\n",
    "model2 = Sequential()\n",
    "model2.add(TCN(input_shape=(1,40),  return_sequences=True, use_batch_norm=True, activation = 'relu', padding = 'causal', dropout_rate = 0.3))\n",
    "model2.add(LSTM(256, activation='relu', return_sequences=True))\n",
    "model2.add(Dense(1, activation = 'relu'))\n",
    "\n",
    "model2.compile(loss='mape', optimizer='adam', metrics = tf.keras.metrics.MeanAbsolutePercentageError())\n",
    "hist2 = model2.fit(X_train_selec[-3200:-300], y_train[-3200:-300], epochs=100, batch_size=16, verbose=1, validation_split=0.1)\n",
    "\n",
    "xtest = X_train_selec[-300:]\n",
    "ytest = y_train[-300:]\n",
    "\n",
    "### MODELO RAPIDO: CONVERGE EN CUATRO EPOCAS (12 s)"
   ]
  },
  {
   "cell_type": "code",
   "execution_count": 39,
   "metadata": {},
   "outputs": [
    {
     "data": {
      "text/plain": [
       "[<matplotlib.lines.Line2D at 0x7fbe0f6fc1c0>]"
      ]
     },
     "execution_count": 39,
     "metadata": {},
     "output_type": "execute_result"
    },
    {
     "data": {
      "image/png": "[encoded data removed]",
      "text/plain": [
       "<Figure size 432x288 with 1 Axes>"
      ]
     },
     "metadata": {
      "needs_background": "light"
     },
     "output_type": "display_data"
    }
   ],
   "source": [
    "pred2 = model2.predict(xtest)\n",
    "plt.plot(pred2.flatten())\n",
    "plt.plot(ytest.flatten())"
   ]
  },
  {
   "cell_type": "code",
   "execution_count": 40,
   "metadata": {},
   "outputs": [
    {
     "data": {
      "text/plain": [
       "<bound method Model.summary of <tensorflow.python.keras.engine.sequential.Sequential object at 0x7fbefc466580>>"
      ]
     },
     "execution_count": 40,
     "metadata": {},
     "output_type": "execute_result"
    }
   ],
   "source": [
    "model.summary"
   ]
  },
  {
   "cell_type": "markdown",
   "metadata": {},
   "source": [
    "-----"
   ]
  },
  {
   "cell_type": "code",
   "execution_count": 41,
   "metadata": {},
   "outputs": [
    {
     "name": "stdout",
     "output_type": "stream",
     "text": [
      "Epoch 1/100\n",
      "94/94 [==============================] - 15s 53ms/step - loss: 99.9858 - mean_absolute_percentage_error: 99.9858 - val_loss: 99.8950 - val_mean_absolute_percentage_error: 99.8950\n",
      "Epoch 2/100\n",
      "94/94 [==============================] - 4s 40ms/step - loss: 99.8360 - mean_absolute_percentage_error: 99.8360 - val_loss: 99.4959 - val_mean_absolute_percentage_error: 99.4959\n",
      "Epoch 3/100\n",
      "94/94 [==============================] - 4s 40ms/step - loss: 99.6346 - mean_absolute_percentage_error: 99.6346 - val_loss: 99.2712 - val_mean_absolute_percentage_error: 99.2712\n",
      "Epoch 4/100\n",
      "94/94 [==============================] - 4s 40ms/step - loss: 99.2832 - mean_absolute_percentage_error: 99.2832 - val_loss: 99.5462 - val_mean_absolute_percentage_error: 99.5462\n",
      "Epoch 5/100\n",
      "94/94 [==============================] - 4s 40ms/step - loss: 98.7950 - mean_absolute_percentage_error: 98.7950 - val_loss: 99.1162 - val_mean_absolute_percentage_error: 99.1162\n",
      "Epoch 6/100\n",
      "94/94 [==============================] - 4s 40ms/step - loss: 98.1805 - mean_absolute_percentage_error: 98.1805 - val_loss: 98.7423 - val_mean_absolute_percentage_error: 98.7423\n",
      "Epoch 7/100\n",
      "94/94 [==============================] - 4s 39ms/step - loss: 97.4613 - mean_absolute_percentage_error: 97.4613 - val_loss: 97.6129 - val_mean_absolute_percentage_error: 97.6129\n",
      "Epoch 8/100\n",
      "94/94 [==============================] - 4s 39ms/step - loss: 96.6034 - mean_absolute_percentage_error: 96.6034 - val_loss: 96.2882 - val_mean_absolute_percentage_error: 96.2882\n",
      "Epoch 9/100\n",
      "94/94 [==============================] - 4s 40ms/step - loss: 95.5916 - mean_absolute_percentage_error: 95.5916 - val_loss: 96.6480 - val_mean_absolute_percentage_error: 96.6480\n",
      "Epoch 10/100\n",
      "94/94 [==============================] - 4s 40ms/step - loss: 94.3568 - mean_absolute_percentage_error: 94.3568 - val_loss: 94.7461 - val_mean_absolute_percentage_error: 94.7461\n",
      "Epoch 11/100\n",
      "94/94 [==============================] - 4s 43ms/step - loss: 92.9789 - mean_absolute_percentage_error: 92.9789 - val_loss: 94.2091 - val_mean_absolute_percentage_error: 94.2091\n",
      "Epoch 12/100\n",
      "94/94 [==============================] - 4s 40ms/step - loss: 91.5138 - mean_absolute_percentage_error: 91.5138 - val_loss: 91.2273 - val_mean_absolute_percentage_error: 91.2273\n",
      "Epoch 13/100\n",
      "94/94 [==============================] - 4s 46ms/step - loss: 89.8705 - mean_absolute_percentage_error: 89.8705 - val_loss: 90.3088 - val_mean_absolute_percentage_error: 90.3088\n",
      "Epoch 14/100\n",
      "94/94 [==============================] - 4s 39ms/step - loss: 88.2061 - mean_absolute_percentage_error: 88.2061 - val_loss: 85.8755 - val_mean_absolute_percentage_error: 85.8755\n",
      "Epoch 15/100\n",
      "94/94 [==============================] - 4s 42ms/step - loss: 86.4421 - mean_absolute_percentage_error: 86.4421 - val_loss: 84.8317 - val_mean_absolute_percentage_error: 84.8317\n",
      "Epoch 16/100\n",
      "94/94 [==============================] - 4s 40ms/step - loss: 84.5531 - mean_absolute_percentage_error: 84.5531 - val_loss: 82.0477 - val_mean_absolute_percentage_error: 82.0477\n",
      "Epoch 17/100\n",
      "94/94 [==============================] - 4s 39ms/step - loss: 82.6181 - mean_absolute_percentage_error: 82.6181 - val_loss: 82.9745 - val_mean_absolute_percentage_error: 82.9745\n",
      "Epoch 18/100\n",
      "94/94 [==============================] - 4s 40ms/step - loss: 80.5030 - mean_absolute_percentage_error: 80.5030 - val_loss: 76.2758 - val_mean_absolute_percentage_error: 76.2758\n",
      "Epoch 19/100\n",
      "94/94 [==============================] - 4s 40ms/step - loss: 78.3453 - mean_absolute_percentage_error: 78.3453 - val_loss: 75.8477 - val_mean_absolute_percentage_error: 75.8477\n",
      "Epoch 20/100\n",
      "94/94 [==============================] - 4s 40ms/step - loss: 76.1018 - mean_absolute_percentage_error: 76.1018 - val_loss: 74.1094 - val_mean_absolute_percentage_error: 74.1094\n",
      "Epoch 21/100\n",
      "94/94 [==============================] - 4s 40ms/step - loss: 73.6083 - mean_absolute_percentage_error: 73.6083 - val_loss: 69.6776 - val_mean_absolute_percentage_error: 69.6776\n",
      "Epoch 22/100\n",
      "94/94 [==============================] - 4s 41ms/step - loss: 71.4954 - mean_absolute_percentage_error: 71.4954 - val_loss: 68.2024 - val_mean_absolute_percentage_error: 68.2024\n",
      "Epoch 23/100\n",
      "94/94 [==============================] - 4s 40ms/step - loss: 68.9174 - mean_absolute_percentage_error: 68.9174 - val_loss: 77.1366 - val_mean_absolute_percentage_error: 77.1366\n",
      "Epoch 24/100\n",
      "94/94 [==============================] - 4s 40ms/step - loss: 66.0955 - mean_absolute_percentage_error: 66.0955 - val_loss: 82.9023 - val_mean_absolute_percentage_error: 82.9023\n",
      "Epoch 25/100\n",
      "94/94 [==============================] - 4s 40ms/step - loss: 63.7258 - mean_absolute_percentage_error: 63.7258 - val_loss: 74.1597 - val_mean_absolute_percentage_error: 74.1597\n",
      "Epoch 26/100\n",
      "94/94 [==============================] - 4s 40ms/step - loss: 60.5434 - mean_absolute_percentage_error: 60.5434 - val_loss: 67.2939 - val_mean_absolute_percentage_error: 67.2939\n",
      "Epoch 27/100\n",
      "94/94 [==============================] - 4s 44ms/step - loss: 57.7642 - mean_absolute_percentage_error: 57.7642 - val_loss: 67.8971 - val_mean_absolute_percentage_error: 67.8971\n",
      "Epoch 28/100\n",
      "94/94 [==============================] - 4s 40ms/step - loss: 54.9650 - mean_absolute_percentage_error: 54.9650 - val_loss: 65.7928 - val_mean_absolute_percentage_error: 65.7928\n",
      "Epoch 29/100\n",
      "94/94 [==============================] - 4s 40ms/step - loss: 51.7407 - mean_absolute_percentage_error: 51.7407 - val_loss: 57.0788 - val_mean_absolute_percentage_error: 57.0788\n",
      "Epoch 30/100\n",
      "94/94 [==============================] - 4s 40ms/step - loss: 48.9595 - mean_absolute_percentage_error: 48.9595 - val_loss: 61.3285 - val_mean_absolute_percentage_error: 61.3285\n",
      "Epoch 31/100\n",
      "94/94 [==============================] - 4s 40ms/step - loss: 45.8857 - mean_absolute_percentage_error: 45.8857 - val_loss: 50.8281 - val_mean_absolute_percentage_error: 50.8281\n",
      "Epoch 32/100\n",
      "94/94 [==============================] - 4s 40ms/step - loss: 42.8014 - mean_absolute_percentage_error: 42.8014 - val_loss: 45.5441 - val_mean_absolute_percentage_error: 45.5441\n",
      "Epoch 33/100\n",
      "94/94 [==============================] - 4s 40ms/step - loss: 39.2695 - mean_absolute_percentage_error: 39.2695 - val_loss: 44.5655 - val_mean_absolute_percentage_error: 44.5655\n",
      "Epoch 34/100\n",
      "94/94 [==============================] - 4s 40ms/step - loss: 36.0794 - mean_absolute_percentage_error: 36.0794 - val_loss: 41.6197 - val_mean_absolute_percentage_error: 41.6197\n",
      "Epoch 35/100\n",
      "94/94 [==============================] - 4s 40ms/step - loss: 32.7436 - mean_absolute_percentage_error: 32.7436 - val_loss: 33.0989 - val_mean_absolute_percentage_error: 33.0989\n",
      "Epoch 36/100\n",
      "94/94 [==============================] - 4s 40ms/step - loss: 29.8847 - mean_absolute_percentage_error: 29.8847 - val_loss: 40.4752 - val_mean_absolute_percentage_error: 40.4752\n",
      "Epoch 37/100\n",
      "94/94 [==============================] - 4s 40ms/step - loss: 27.0161 - mean_absolute_percentage_error: 27.0161 - val_loss: 34.5276 - val_mean_absolute_percentage_error: 34.5276\n",
      "Epoch 38/100\n",
      "94/94 [==============================] - 4s 40ms/step - loss: 23.8223 - mean_absolute_percentage_error: 23.8223 - val_loss: 34.5026 - val_mean_absolute_percentage_error: 34.5026\n",
      "Epoch 39/100\n",
      "94/94 [==============================] - 4s 40ms/step - loss: 21.2914 - mean_absolute_percentage_error: 21.2914 - val_loss: 26.5816 - val_mean_absolute_percentage_error: 26.5816\n",
      "Epoch 40/100\n",
      "94/94 [==============================] - 4s 40ms/step - loss: 18.8392 - mean_absolute_percentage_error: 18.8392 - val_loss: 15.5835 - val_mean_absolute_percentage_error: 15.5835\n",
      "Epoch 41/100\n",
      "94/94 [==============================] - 4s 40ms/step - loss: 16.5520 - mean_absolute_percentage_error: 16.5520 - val_loss: 13.1874 - val_mean_absolute_percentage_error: 13.1874\n",
      "Epoch 42/100\n",
      "94/94 [==============================] - 4s 41ms/step - loss: 14.2220 - mean_absolute_percentage_error: 14.2220 - val_loss: 10.0132 - val_mean_absolute_percentage_error: 10.0132\n",
      "Epoch 43/100\n",
      "94/94 [==============================] - 4s 42ms/step - loss: 12.5058 - mean_absolute_percentage_error: 12.5058 - val_loss: 11.9197 - val_mean_absolute_percentage_error: 11.9197\n"
     ]
    },
    {
     "name": "stdout",
     "output_type": "stream",
     "text": [
      "Epoch 44/100\n",
      "94/94 [==============================] - 4s 40ms/step - loss: 10.6535 - mean_absolute_percentage_error: 10.6535 - val_loss: 10.0563 - val_mean_absolute_percentage_error: 10.0563\n",
      "Epoch 45/100\n",
      "94/94 [==============================] - 4s 40ms/step - loss: 9.4916 - mean_absolute_percentage_error: 9.4916 - val_loss: 20.7698 - val_mean_absolute_percentage_error: 20.7698\n",
      "Epoch 46/100\n",
      "94/94 [==============================] - 4s 40ms/step - loss: 8.5062 - mean_absolute_percentage_error: 8.5062 - val_loss: 14.8726 - val_mean_absolute_percentage_error: 14.8726\n",
      "Epoch 47/100\n",
      "94/94 [==============================] - 4s 39ms/step - loss: 7.7825 - mean_absolute_percentage_error: 7.7825 - val_loss: 16.2976 - val_mean_absolute_percentage_error: 16.2976\n",
      "Epoch 48/100\n",
      "94/94 [==============================] - 4s 40ms/step - loss: 6.8882 - mean_absolute_percentage_error: 6.8882 - val_loss: 8.8472 - val_mean_absolute_percentage_error: 8.8472\n",
      "Epoch 49/100\n",
      "94/94 [==============================] - 4s 40ms/step - loss: 7.2556 - mean_absolute_percentage_error: 7.2556 - val_loss: 7.6569 - val_mean_absolute_percentage_error: 7.6569\n",
      "Epoch 50/100\n",
      "94/94 [==============================] - 4s 40ms/step - loss: 6.8550 - mean_absolute_percentage_error: 6.8550 - val_loss: 8.5139 - val_mean_absolute_percentage_error: 8.5139\n",
      "Epoch 51/100\n",
      "94/94 [==============================] - 4s 39ms/step - loss: 6.8463 - mean_absolute_percentage_error: 6.8463 - val_loss: 7.5152 - val_mean_absolute_percentage_error: 7.5152\n",
      "Epoch 52/100\n",
      "94/94 [==============================] - 4s 41ms/step - loss: 6.3867 - mean_absolute_percentage_error: 6.3867 - val_loss: 7.1896 - val_mean_absolute_percentage_error: 7.1896\n",
      "Epoch 53/100\n",
      "94/94 [==============================] - 4s 40ms/step - loss: 6.4933 - mean_absolute_percentage_error: 6.4933 - val_loss: 6.8530 - val_mean_absolute_percentage_error: 6.8530\n",
      "Epoch 54/100\n",
      "94/94 [==============================] - 4s 40ms/step - loss: 6.4185 - mean_absolute_percentage_error: 6.4185 - val_loss: 6.8861 - val_mean_absolute_percentage_error: 6.8861\n",
      "Epoch 55/100\n",
      "94/94 [==============================] - 4s 41ms/step - loss: 6.1576 - mean_absolute_percentage_error: 6.1576 - val_loss: 6.6700 - val_mean_absolute_percentage_error: 6.6700\n",
      "Epoch 56/100\n",
      "94/94 [==============================] - 4s 40ms/step - loss: 6.3239 - mean_absolute_percentage_error: 6.3239 - val_loss: 6.7324 - val_mean_absolute_percentage_error: 6.7324\n",
      "Epoch 57/100\n",
      "94/94 [==============================] - 4s 39ms/step - loss: 6.4113 - mean_absolute_percentage_error: 6.4113 - val_loss: 6.9802 - val_mean_absolute_percentage_error: 6.9802\n",
      "Epoch 58/100\n",
      "94/94 [==============================] - 4s 40ms/step - loss: 6.2480 - mean_absolute_percentage_error: 6.2480 - val_loss: 6.8622 - val_mean_absolute_percentage_error: 6.8622\n",
      "Epoch 59/100\n",
      "94/94 [==============================] - 4s 40ms/step - loss: 6.6128 - mean_absolute_percentage_error: 6.6128 - val_loss: 6.3236 - val_mean_absolute_percentage_error: 6.3236\n",
      "Epoch 60/100\n",
      "94/94 [==============================] - 4s 40ms/step - loss: 6.1123 - mean_absolute_percentage_error: 6.1123 - val_loss: 6.3781 - val_mean_absolute_percentage_error: 6.3781\n",
      "Epoch 61/100\n",
      "94/94 [==============================] - 4s 40ms/step - loss: 6.0573 - mean_absolute_percentage_error: 6.0573 - val_loss: 6.4199 - val_mean_absolute_percentage_error: 6.4199\n",
      "Epoch 62/100\n",
      "94/94 [==============================] - 4s 41ms/step - loss: 5.9744 - mean_absolute_percentage_error: 5.9744 - val_loss: 6.5855 - val_mean_absolute_percentage_error: 6.5855\n",
      "Epoch 63/100\n",
      "94/94 [==============================] - 4s 40ms/step - loss: 6.0854 - mean_absolute_percentage_error: 6.0854 - val_loss: 6.5121 - val_mean_absolute_percentage_error: 6.5121\n",
      "Epoch 64/100\n",
      "94/94 [==============================] - 4s 39ms/step - loss: 5.8902 - mean_absolute_percentage_error: 5.8902 - val_loss: 6.4343 - val_mean_absolute_percentage_error: 6.4343\n",
      "Epoch 65/100\n",
      "94/94 [==============================] - 4s 40ms/step - loss: 5.9815 - mean_absolute_percentage_error: 5.9815 - val_loss: 6.1802 - val_mean_absolute_percentage_error: 6.1802\n",
      "Epoch 66/100\n",
      "94/94 [==============================] - 4s 40ms/step - loss: 5.9479 - mean_absolute_percentage_error: 5.9479 - val_loss: 6.2959 - val_mean_absolute_percentage_error: 6.2959\n",
      "Epoch 67/100\n",
      "94/94 [==============================] - 4s 40ms/step - loss: 6.0908 - mean_absolute_percentage_error: 6.0908 - val_loss: 6.2968 - val_mean_absolute_percentage_error: 6.2968\n",
      "Epoch 68/100\n",
      "94/94 [==============================] - 4s 40ms/step - loss: 6.1069 - mean_absolute_percentage_error: 6.1069 - val_loss: 6.1416 - val_mean_absolute_percentage_error: 6.1416\n",
      "Epoch 69/100\n",
      "94/94 [==============================] - 4s 40ms/step - loss: 6.0269 - mean_absolute_percentage_error: 6.0269 - val_loss: 6.0485 - val_mean_absolute_percentage_error: 6.0485\n",
      "Epoch 70/100\n",
      "94/94 [==============================] - 4s 40ms/step - loss: 5.7394 - mean_absolute_percentage_error: 5.7394 - val_loss: 6.1876 - val_mean_absolute_percentage_error: 6.1876\n",
      "Epoch 71/100\n",
      "94/94 [==============================] - 4s 44ms/step - loss: 5.9567 - mean_absolute_percentage_error: 5.9567 - val_loss: 6.1983 - val_mean_absolute_percentage_error: 6.1983\n",
      "Epoch 72/100\n",
      "94/94 [==============================] - 4s 40ms/step - loss: 5.9345 - mean_absolute_percentage_error: 5.9345 - val_loss: 6.3995 - val_mean_absolute_percentage_error: 6.3995\n",
      "Epoch 73/100\n",
      "94/94 [==============================] - 4s 40ms/step - loss: 5.9111 - mean_absolute_percentage_error: 5.9111 - val_loss: 6.3137 - val_mean_absolute_percentage_error: 6.3137\n",
      "Epoch 74/100\n",
      "94/94 [==============================] - 4s 43ms/step - loss: 5.8972 - mean_absolute_percentage_error: 5.8972 - val_loss: 6.6233 - val_mean_absolute_percentage_error: 6.6233\n",
      "Epoch 75/100\n",
      "94/94 [==============================] - 4s 40ms/step - loss: 5.9928 - mean_absolute_percentage_error: 5.9928 - val_loss: 6.3153 - val_mean_absolute_percentage_error: 6.3153\n",
      "Epoch 76/100\n",
      "94/94 [==============================] - 4s 41ms/step - loss: 6.0421 - mean_absolute_percentage_error: 6.0421 - val_loss: 6.2519 - val_mean_absolute_percentage_error: 6.2519\n",
      "Epoch 77/100\n",
      "94/94 [==============================] - 4s 40ms/step - loss: 6.0850 - mean_absolute_percentage_error: 6.0850 - val_loss: 6.4050 - val_mean_absolute_percentage_error: 6.4050\n",
      "Epoch 78/100\n",
      "94/94 [==============================] - 4s 40ms/step - loss: 5.8977 - mean_absolute_percentage_error: 5.8977 - val_loss: 6.1806 - val_mean_absolute_percentage_error: 6.1806\n",
      "Epoch 79/100\n",
      "94/94 [==============================] - 4s 44ms/step - loss: 6.0328 - mean_absolute_percentage_error: 6.0328 - val_loss: 6.1620 - val_mean_absolute_percentage_error: 6.1620\n",
      "Epoch 80/100\n",
      "94/94 [==============================] - 4s 40ms/step - loss: 5.8186 - mean_absolute_percentage_error: 5.8186 - val_loss: 6.1202 - val_mean_absolute_percentage_error: 6.1202\n",
      "Epoch 81/100\n",
      "94/94 [==============================] - 4s 40ms/step - loss: 5.9063 - mean_absolute_percentage_error: 5.9063 - val_loss: 6.1178 - val_mean_absolute_percentage_error: 6.1178\n",
      "Epoch 82/100\n",
      "94/94 [==============================] - 4s 40ms/step - loss: 6.1725 - mean_absolute_percentage_error: 6.1725 - val_loss: 6.0806 - val_mean_absolute_percentage_error: 6.0806\n",
      "Epoch 83/100\n",
      "94/94 [==============================] - 4s 40ms/step - loss: 5.9535 - mean_absolute_percentage_error: 5.9535 - val_loss: 6.1067 - val_mean_absolute_percentage_error: 6.1067\n",
      "Epoch 84/100\n",
      "94/94 [==============================] - 4s 40ms/step - loss: 5.8591 - mean_absolute_percentage_error: 5.8591 - val_loss: 6.1464 - val_mean_absolute_percentage_error: 6.1464\n",
      "Epoch 85/100\n",
      "94/94 [==============================] - 4s 39ms/step - loss: 5.9896 - mean_absolute_percentage_error: 5.9896 - val_loss: 6.0311 - val_mean_absolute_percentage_error: 6.0311\n",
      "Epoch 86/100\n",
      "94/94 [==============================] - 4s 41ms/step - loss: 5.6399 - mean_absolute_percentage_error: 5.6399 - val_loss: 6.0585 - val_mean_absolute_percentage_error: 6.0585\n",
      "Epoch 87/100\n",
      "94/94 [==============================] - 4s 40ms/step - loss: 5.8141 - mean_absolute_percentage_error: 5.8141 - val_loss: 5.9241 - val_mean_absolute_percentage_error: 5.9241\n"
     ]
    },
    {
     "name": "stdout",
     "output_type": "stream",
     "text": [
      "Epoch 88/100\n",
      "94/94 [==============================] - 4s 40ms/step - loss: 5.9576 - mean_absolute_percentage_error: 5.9576 - val_loss: 6.1552 - val_mean_absolute_percentage_error: 6.1552\n",
      "Epoch 89/100\n",
      "94/94 [==============================] - 4s 40ms/step - loss: 5.8601 - mean_absolute_percentage_error: 5.8601 - val_loss: 6.1033 - val_mean_absolute_percentage_error: 6.1033\n",
      "Epoch 90/100\n",
      "94/94 [==============================] - 4s 40ms/step - loss: 5.8747 - mean_absolute_percentage_error: 5.8747 - val_loss: 6.2255 - val_mean_absolute_percentage_error: 6.2255\n",
      "Epoch 91/100\n",
      "94/94 [==============================] - 4s 40ms/step - loss: 5.6882 - mean_absolute_percentage_error: 5.6882 - val_loss: 6.0386 - val_mean_absolute_percentage_error: 6.0386\n",
      "Epoch 92/100\n",
      "94/94 [==============================] - 4s 39ms/step - loss: 5.7521 - mean_absolute_percentage_error: 5.7521 - val_loss: 5.9829 - val_mean_absolute_percentage_error: 5.9829\n",
      "Epoch 93/100\n",
      "94/94 [==============================] - 4s 39ms/step - loss: 5.8886 - mean_absolute_percentage_error: 5.8886 - val_loss: 5.8389 - val_mean_absolute_percentage_error: 5.8389\n",
      "Epoch 94/100\n",
      "94/94 [==============================] - 4s 46ms/step - loss: 5.9792 - mean_absolute_percentage_error: 5.9792 - val_loss: 6.2983 - val_mean_absolute_percentage_error: 6.2983\n",
      "Epoch 95/100\n",
      "94/94 [==============================] - 4s 39ms/step - loss: 5.8422 - mean_absolute_percentage_error: 5.8422 - val_loss: 5.9983 - val_mean_absolute_percentage_error: 5.9983\n",
      "Epoch 96/100\n",
      "94/94 [==============================] - 4s 39ms/step - loss: 5.7026 - mean_absolute_percentage_error: 5.7026 - val_loss: 5.9639 - val_mean_absolute_percentage_error: 5.9639\n",
      "Epoch 97/100\n",
      "94/94 [==============================] - 4s 40ms/step - loss: 5.8650 - mean_absolute_percentage_error: 5.8650 - val_loss: 5.9356 - val_mean_absolute_percentage_error: 5.9356\n",
      "Epoch 98/100\n",
      "94/94 [==============================] - 4s 39ms/step - loss: 5.7874 - mean_absolute_percentage_error: 5.7874 - val_loss: 5.8691 - val_mean_absolute_percentage_error: 5.8691\n",
      "Epoch 99/100\n",
      "94/94 [==============================] - 4s 39ms/step - loss: 5.9092 - mean_absolute_percentage_error: 5.9092 - val_loss: 5.8851 - val_mean_absolute_percentage_error: 5.8851\n",
      "Epoch 100/100\n",
      "94/94 [==============================] - 4s 40ms/step - loss: 5.7246 - mean_absolute_percentage_error: 5.7246 - val_loss: 5.9017 - val_mean_absolute_percentage_error: 5.9017\n"
     ]
    }
   ],
   "source": [
    "model3 = Sequential()\n",
    "model3.add(TCN(input_shape=(1,40),  return_sequences=True, use_batch_norm=True, activation = 'relu', padding = 'causal', dropout_rate = 0.3))\n",
    "model3.add(TCN(return_sequences=True, use_batch_norm=True, activation = 'relu', padding = 'causal', dropout_rate = 0.3))\n",
    "model3.add(Dense(1, activation = 'relu'))\n",
    "\n",
    "model3.compile(loss='mape', optimizer='adam', metrics = tf.keras.metrics.MeanAbsolutePercentageError())\n",
    "hist3 = model3.fit(X_train_selec[-3200:-300], y_train[-3200:-300], epochs=100, batch_size=16, verbose=1, validation_split=0.1)\n",
    "\n",
    "xtest = X_train_selec[-300:]\n",
    "ytest = y_train[-300:]\n"
   ]
  },
  {
   "cell_type": "code",
   "execution_count": 42,
   "metadata": {},
   "outputs": [
    {
     "name": "stdout",
     "output_type": "stream",
     "text": [
      "CPU times: user 1.62 s, sys: 64.8 ms, total: 1.68 s\n",
      "Wall time: 1.55 s\n"
     ]
    },
    {
     "data": {
      "text/plain": [
       "[<matplotlib.lines.Line2D at 0x7fbe0c931b50>]"
      ]
     },
     "execution_count": 42,
     "metadata": {},
     "output_type": "execute_result"
    },
    {
     "data": {
      "image/png": "[encoded data removed]",
      "text/plain": [
       "<Figure size 432x288 with 1 Axes>"
      ]
     },
     "metadata": {
      "needs_background": "light"
     },
     "output_type": "display_data"
    }
   ],
   "source": [
    "%time pred3 = model3.predict(xtest)\n",
    "plt.plot(pred3.flatten()[:100])\n",
    "plt.plot(ytest.flatten()[:100])"
   ]
  },
  {
   "cell_type": "markdown",
   "metadata": {},
   "source": [
    "----"
   ]
  },
  {
   "cell_type": "code",
   "execution_count": 44,
   "metadata": {},
   "outputs": [
    {
     "name": "stdout",
     "output_type": "stream",
     "text": [
      "Epoch 1/100\n",
      "94/94 [==============================] - 17s 59ms/step - loss: 99.9665 - mean_absolute_percentage_error: 99.9665 - val_loss: 99.9530 - val_mean_absolute_percentage_error: 99.9530\n",
      "Epoch 2/100\n",
      "94/94 [==============================] - 4s 43ms/step - loss: 99.8181 - mean_absolute_percentage_error: 99.8181 - val_loss: 99.8294 - val_mean_absolute_percentage_error: 99.8294\n",
      "Epoch 3/100\n",
      "94/94 [==============================] - 4s 43ms/step - loss: 99.6219 - mean_absolute_percentage_error: 99.6219 - val_loss: 99.6003 - val_mean_absolute_percentage_error: 99.6003\n",
      "Epoch 4/100\n",
      "94/94 [==============================] - 4s 44ms/step - loss: 99.3539 - mean_absolute_percentage_error: 99.3539 - val_loss: 99.3533 - val_mean_absolute_percentage_error: 99.3533\n",
      "Epoch 5/100\n",
      "94/94 [==============================] - 4s 43ms/step - loss: 98.9837 - mean_absolute_percentage_error: 98.9837 - val_loss: 99.0912 - val_mean_absolute_percentage_error: 99.0912\n",
      "Epoch 6/100\n",
      "94/94 [==============================] - 4s 44ms/step - loss: 98.4904 - mean_absolute_percentage_error: 98.4904 - val_loss: 97.8352 - val_mean_absolute_percentage_error: 97.8352\n",
      "Epoch 7/100\n",
      "94/94 [==============================] - 4s 43ms/step - loss: 97.8569 - mean_absolute_percentage_error: 97.8569 - val_loss: 98.0303 - val_mean_absolute_percentage_error: 98.0303\n",
      "Epoch 8/100\n",
      "94/94 [==============================] - 4s 43ms/step - loss: 97.0442 - mean_absolute_percentage_error: 97.0442 - val_loss: 98.9128 - val_mean_absolute_percentage_error: 98.9128\n",
      "Epoch 9/100\n",
      "94/94 [==============================] - 4s 44ms/step - loss: 95.9409 - mean_absolute_percentage_error: 95.9409 - val_loss: 99.1200 - val_mean_absolute_percentage_error: 99.1200\n",
      "Epoch 10/100\n",
      "94/94 [==============================] - 4s 43ms/step - loss: 94.6829 - mean_absolute_percentage_error: 94.6829 - val_loss: 95.1795 - val_mean_absolute_percentage_error: 95.1795\n",
      "Epoch 11/100\n",
      "94/94 [==============================] - 4s 43ms/step - loss: 93.3289 - mean_absolute_percentage_error: 93.3289 - val_loss: 99.9789 - val_mean_absolute_percentage_error: 99.9789\n",
      "Epoch 12/100\n",
      "94/94 [==============================] - 4s 45ms/step - loss: 91.8537 - mean_absolute_percentage_error: 91.8537 - val_loss: 99.6812 - val_mean_absolute_percentage_error: 99.6812\n",
      "Epoch 13/100\n",
      "94/94 [==============================] - 6s 61ms/step - loss: 90.2666 - mean_absolute_percentage_error: 90.2666 - val_loss: 99.0236 - val_mean_absolute_percentage_error: 99.0236\n",
      "Epoch 14/100\n",
      "94/94 [==============================] - 8s 81ms/step - loss: 88.5423 - mean_absolute_percentage_error: 88.5423 - val_loss: 95.6634 - val_mean_absolute_percentage_error: 95.6634\n",
      "Epoch 15/100\n",
      "94/94 [==============================] - 6s 69ms/step - loss: 86.7903 - mean_absolute_percentage_error: 86.7903 - val_loss: 95.0437 - val_mean_absolute_percentage_error: 95.0437\n",
      "Epoch 16/100\n",
      "94/94 [==============================] - 6s 68ms/step - loss: 84.8652 - mean_absolute_percentage_error: 84.8652 - val_loss: 81.0577 - val_mean_absolute_percentage_error: 81.0577\n",
      "Epoch 17/100\n",
      "94/94 [==============================] - 6s 64ms/step - loss: 82.9191 - mean_absolute_percentage_error: 82.9191 - val_loss: 87.0339 - val_mean_absolute_percentage_error: 87.0339\n",
      "Epoch 18/100\n",
      "94/94 [==============================] - 6s 66ms/step - loss: 80.9173 - mean_absolute_percentage_error: 80.9173 - val_loss: 75.7625 - val_mean_absolute_percentage_error: 75.7625\n",
      "Epoch 19/100\n",
      "94/94 [==============================] - 6s 62ms/step - loss: 78.9288 - mean_absolute_percentage_error: 78.9288 - val_loss: 70.6878 - val_mean_absolute_percentage_error: 70.6878\n",
      "Epoch 20/100\n",
      "94/94 [==============================] - 6s 61ms/step - loss: 76.3958 - mean_absolute_percentage_error: 76.3958 - val_loss: 99.6789 - val_mean_absolute_percentage_error: 99.6789\n",
      "Epoch 21/100\n",
      "94/94 [==============================] - 6s 60ms/step - loss: 74.0112 - mean_absolute_percentage_error: 74.0112 - val_loss: 99.8743 - val_mean_absolute_percentage_error: 99.8743\n",
      "Epoch 22/100\n",
      "94/94 [==============================] - 6s 60ms/step - loss: 71.6368 - mean_absolute_percentage_error: 71.6368 - val_loss: 84.9879 - val_mean_absolute_percentage_error: 84.9879\n",
      "Epoch 23/100\n",
      "94/94 [==============================] - 6s 61ms/step - loss: 69.2017 - mean_absolute_percentage_error: 69.2017 - val_loss: 95.6248 - val_mean_absolute_percentage_error: 95.6248\n",
      "Epoch 24/100\n",
      "94/94 [==============================] - 6s 61ms/step - loss: 66.5838 - mean_absolute_percentage_error: 66.5838 - val_loss: 76.0248 - val_mean_absolute_percentage_error: 76.0248\n",
      "Epoch 25/100\n",
      "94/94 [==============================] - 6s 62ms/step - loss: 63.8738 - mean_absolute_percentage_error: 63.8738 - val_loss: 71.0332 - val_mean_absolute_percentage_error: 71.0332\n",
      "Epoch 26/100\n",
      "94/94 [==============================] - 6s 63ms/step - loss: 61.2365 - mean_absolute_percentage_error: 61.2365 - val_loss: 63.0116 - val_mean_absolute_percentage_error: 63.0116\n",
      "Epoch 27/100\n",
      "94/94 [==============================] - 6s 61ms/step - loss: 58.2896 - mean_absolute_percentage_error: 58.2896 - val_loss: 61.4130 - val_mean_absolute_percentage_error: 61.4130\n",
      "Epoch 28/100\n",
      "94/94 [==============================] - 6s 63ms/step - loss: 55.3687 - mean_absolute_percentage_error: 55.3687 - val_loss: 58.2308 - val_mean_absolute_percentage_error: 58.2308\n",
      "Epoch 29/100\n",
      "94/94 [==============================] - 7s 76ms/step - loss: 52.1937 - mean_absolute_percentage_error: 52.1937 - val_loss: 74.3769 - val_mean_absolute_percentage_error: 74.3769\n",
      "Epoch 30/100\n",
      "94/94 [==============================] - 6s 62ms/step - loss: 48.9715 - mean_absolute_percentage_error: 48.9715 - val_loss: 68.2038 - val_mean_absolute_percentage_error: 68.2038\n",
      "Epoch 31/100\n",
      "94/94 [==============================] - 6s 60ms/step - loss: 45.9881 - mean_absolute_percentage_error: 45.9881 - val_loss: 48.2208 - val_mean_absolute_percentage_error: 48.2208\n",
      "Epoch 32/100\n",
      "94/94 [==============================] - 6s 61ms/step - loss: 42.7031 - mean_absolute_percentage_error: 42.7031 - val_loss: 71.6172 - val_mean_absolute_percentage_error: 71.6172\n",
      "Epoch 33/100\n",
      "94/94 [==============================] - 6s 61ms/step - loss: 39.5761 - mean_absolute_percentage_error: 39.5761 - val_loss: 44.3938 - val_mean_absolute_percentage_error: 44.3938\n",
      "Epoch 34/100\n",
      "94/94 [==============================] - 6s 62ms/step - loss: 35.9938 - mean_absolute_percentage_error: 35.9938 - val_loss: 33.5027 - val_mean_absolute_percentage_error: 33.5027\n",
      "Epoch 35/100\n",
      "94/94 [==============================] - 6s 62ms/step - loss: 33.3234 - mean_absolute_percentage_error: 33.3234 - val_loss: 93.9414 - val_mean_absolute_percentage_error: 93.9414\n",
      "Epoch 36/100\n",
      "94/94 [==============================] - 6s 67ms/step - loss: 30.2478 - mean_absolute_percentage_error: 30.2478 - val_loss: 19.2549 - val_mean_absolute_percentage_error: 19.2549\n",
      "Epoch 37/100\n",
      "94/94 [==============================] - 6s 63ms/step - loss: 27.4213 - mean_absolute_percentage_error: 27.4213 - val_loss: 30.6208 - val_mean_absolute_percentage_error: 30.6208\n",
      "Epoch 38/100\n",
      "94/94 [==============================] - 6s 61ms/step - loss: 24.8357 - mean_absolute_percentage_error: 24.8357 - val_loss: 22.5621 - val_mean_absolute_percentage_error: 22.5621\n",
      "Epoch 39/100\n",
      "94/94 [==============================] - 6s 64ms/step - loss: 22.6703 - mean_absolute_percentage_error: 22.6703 - val_loss: 18.2271 - val_mean_absolute_percentage_error: 18.2271\n",
      "Epoch 40/100\n",
      "94/94 [==============================] - 6s 61ms/step - loss: 20.9884 - mean_absolute_percentage_error: 20.9884 - val_loss: 15.6290 - val_mean_absolute_percentage_error: 15.6290\n",
      "Epoch 41/100\n",
      "94/94 [==============================] - 6s 61ms/step - loss: 19.1269 - mean_absolute_percentage_error: 19.1269 - val_loss: 70.5271 - val_mean_absolute_percentage_error: 70.5271\n",
      "Epoch 42/100\n",
      "94/94 [==============================] - 6s 60ms/step - loss: 18.2730 - mean_absolute_percentage_error: 18.2730 - val_loss: 44.5509 - val_mean_absolute_percentage_error: 44.5509\n",
      "Epoch 43/100\n",
      "94/94 [==============================] - 6s 66ms/step - loss: 18.0016 - mean_absolute_percentage_error: 18.0016 - val_loss: 33.4152 - val_mean_absolute_percentage_error: 33.4152\n"
     ]
    },
    {
     "name": "stdout",
     "output_type": "stream",
     "text": [
      "Epoch 44/100\n",
      "94/94 [==============================] - 9s 93ms/step - loss: 17.1485 - mean_absolute_percentage_error: 17.1485 - val_loss: 8.0064 - val_mean_absolute_percentage_error: 8.0064\n",
      "Epoch 45/100\n",
      "94/94 [==============================] - 9s 96ms/step - loss: 17.0212 - mean_absolute_percentage_error: 17.0212 - val_loss: 8.6970 - val_mean_absolute_percentage_error: 8.6970\n",
      "Epoch 46/100\n",
      "94/94 [==============================] - 6s 61ms/step - loss: 14.7898 - mean_absolute_percentage_error: 14.7898 - val_loss: 7.5003 - val_mean_absolute_percentage_error: 7.5003\n",
      "Epoch 47/100\n",
      "94/94 [==============================] - 4s 44ms/step - loss: 14.1328 - mean_absolute_percentage_error: 14.1328 - val_loss: 7.0014 - val_mean_absolute_percentage_error: 7.0014\n",
      "Epoch 48/100\n",
      "94/94 [==============================] - 4s 47ms/step - loss: 14.0512 - mean_absolute_percentage_error: 14.0512 - val_loss: 9.1377 - val_mean_absolute_percentage_error: 9.1377\n",
      "Epoch 49/100\n",
      "94/94 [==============================] - 4s 47ms/step - loss: 13.5141 - mean_absolute_percentage_error: 13.5141 - val_loss: 12.1340 - val_mean_absolute_percentage_error: 12.1340\n",
      "Epoch 50/100\n",
      "94/94 [==============================] - 5s 53ms/step - loss: 11.8698 - mean_absolute_percentage_error: 11.8698 - val_loss: 8.2199 - val_mean_absolute_percentage_error: 8.2199\n",
      "Epoch 51/100\n",
      "94/94 [==============================] - 4s 46ms/step - loss: 10.6791 - mean_absolute_percentage_error: 10.6791 - val_loss: 7.2234 - val_mean_absolute_percentage_error: 7.2234\n",
      "Epoch 52/100\n",
      "94/94 [==============================] - 4s 44ms/step - loss: 9.6964 - mean_absolute_percentage_error: 9.6964 - val_loss: 7.3113 - val_mean_absolute_percentage_error: 7.3113\n",
      "Epoch 53/100\n",
      "94/94 [==============================] - 4s 45ms/step - loss: 8.4623 - mean_absolute_percentage_error: 8.4623 - val_loss: 7.3078 - val_mean_absolute_percentage_error: 7.3078\n",
      "Epoch 54/100\n",
      "94/94 [==============================] - 4s 43ms/step - loss: 7.7021 - mean_absolute_percentage_error: 7.7021 - val_loss: 6.6186 - val_mean_absolute_percentage_error: 6.6186\n",
      "Epoch 55/100\n",
      "94/94 [==============================] - 5s 49ms/step - loss: 7.7850 - mean_absolute_percentage_error: 7.7850 - val_loss: 6.6422 - val_mean_absolute_percentage_error: 6.6422\n",
      "Epoch 56/100\n",
      "94/94 [==============================] - 5s 49ms/step - loss: 7.3792 - mean_absolute_percentage_error: 7.3792 - val_loss: 6.5285 - val_mean_absolute_percentage_error: 6.5285\n",
      "Epoch 57/100\n",
      "94/94 [==============================] - 5s 52ms/step - loss: 6.6384 - mean_absolute_percentage_error: 6.6384 - val_loss: 6.4721 - val_mean_absolute_percentage_error: 6.4721\n",
      "Epoch 58/100\n",
      "94/94 [==============================] - 5s 53ms/step - loss: 6.2768 - mean_absolute_percentage_error: 6.2768 - val_loss: 6.2516 - val_mean_absolute_percentage_error: 6.2516\n",
      "Epoch 59/100\n",
      "94/94 [==============================] - 5s 48ms/step - loss: 6.6703 - mean_absolute_percentage_error: 6.6703 - val_loss: 6.2484 - val_mean_absolute_percentage_error: 6.2484\n",
      "Epoch 60/100\n",
      "94/94 [==============================] - 5s 54ms/step - loss: 6.3194 - mean_absolute_percentage_error: 6.3194 - val_loss: 6.3473 - val_mean_absolute_percentage_error: 6.3473\n",
      "Epoch 61/100\n",
      "94/94 [==============================] - 5s 58ms/step - loss: 6.4326 - mean_absolute_percentage_error: 6.4326 - val_loss: 6.2423 - val_mean_absolute_percentage_error: 6.2423\n",
      "Epoch 62/100\n",
      "94/94 [==============================] - 4s 46ms/step - loss: 6.4104 - mean_absolute_percentage_error: 6.4104 - val_loss: 6.2441 - val_mean_absolute_percentage_error: 6.2441\n",
      "Epoch 63/100\n",
      "94/94 [==============================] - 4s 46ms/step - loss: 6.3738 - mean_absolute_percentage_error: 6.3738 - val_loss: 6.2469 - val_mean_absolute_percentage_error: 6.2469\n",
      "Epoch 64/100\n",
      "94/94 [==============================] - 4s 46ms/step - loss: 6.3713 - mean_absolute_percentage_error: 6.3713 - val_loss: 6.2289 - val_mean_absolute_percentage_error: 6.2289\n",
      "Epoch 65/100\n",
      "94/94 [==============================] - 4s 44ms/step - loss: 6.2714 - mean_absolute_percentage_error: 6.2714 - val_loss: 6.2331 - val_mean_absolute_percentage_error: 6.2331\n",
      "Epoch 66/100\n",
      "94/94 [==============================] - 4s 45ms/step - loss: 6.2389 - mean_absolute_percentage_error: 6.2389 - val_loss: 6.2587 - val_mean_absolute_percentage_error: 6.2587\n",
      "Epoch 67/100\n",
      "94/94 [==============================] - 4s 44ms/step - loss: 6.3614 - mean_absolute_percentage_error: 6.3614 - val_loss: 6.2108 - val_mean_absolute_percentage_error: 6.2108\n",
      "Epoch 68/100\n",
      "94/94 [==============================] - 4s 44ms/step - loss: 6.0553 - mean_absolute_percentage_error: 6.0553 - val_loss: 6.2286 - val_mean_absolute_percentage_error: 6.2286\n",
      "Epoch 69/100\n",
      "94/94 [==============================] - 4s 44ms/step - loss: 6.2093 - mean_absolute_percentage_error: 6.2093 - val_loss: 6.2520 - val_mean_absolute_percentage_error: 6.2520\n",
      "Epoch 70/100\n",
      "94/94 [==============================] - 5s 52ms/step - loss: 6.0754 - mean_absolute_percentage_error: 6.0754 - val_loss: 6.2269 - val_mean_absolute_percentage_error: 6.2269\n",
      "Epoch 71/100\n",
      "94/94 [==============================] - 4s 45ms/step - loss: 6.3533 - mean_absolute_percentage_error: 6.3533 - val_loss: 6.2055 - val_mean_absolute_percentage_error: 6.2055\n",
      "Epoch 72/100\n",
      "94/94 [==============================] - 4s 45ms/step - loss: 6.2478 - mean_absolute_percentage_error: 6.2478 - val_loss: 6.1641 - val_mean_absolute_percentage_error: 6.1641\n",
      "Epoch 73/100\n",
      "94/94 [==============================] - 4s 44ms/step - loss: 6.0416 - mean_absolute_percentage_error: 6.0416 - val_loss: 6.2060 - val_mean_absolute_percentage_error: 6.2060\n",
      "Epoch 74/100\n",
      "94/94 [==============================] - 4s 44ms/step - loss: 6.0105 - mean_absolute_percentage_error: 6.0105 - val_loss: 6.1476 - val_mean_absolute_percentage_error: 6.1476\n",
      "Epoch 75/100\n",
      "94/94 [==============================] - 4s 44ms/step - loss: 6.1781 - mean_absolute_percentage_error: 6.1781 - val_loss: 6.1659 - val_mean_absolute_percentage_error: 6.1659\n",
      "Epoch 76/100\n",
      "94/94 [==============================] - 4s 44ms/step - loss: 5.9644 - mean_absolute_percentage_error: 5.9644 - val_loss: 6.1825 - val_mean_absolute_percentage_error: 6.1825\n",
      "Epoch 77/100\n",
      "94/94 [==============================] - 4s 44ms/step - loss: 5.8827 - mean_absolute_percentage_error: 5.8827 - val_loss: 6.1878 - val_mean_absolute_percentage_error: 6.1878\n",
      "Epoch 78/100\n",
      "94/94 [==============================] - 5s 51ms/step - loss: 6.0292 - mean_absolute_percentage_error: 6.0292 - val_loss: 6.1354 - val_mean_absolute_percentage_error: 6.1354\n",
      "Epoch 79/100\n",
      "94/94 [==============================] - 5s 57ms/step - loss: 6.4070 - mean_absolute_percentage_error: 6.4070 - val_loss: 6.2116 - val_mean_absolute_percentage_error: 6.2116\n",
      "Epoch 80/100\n",
      "94/94 [==============================] - 5s 50ms/step - loss: 5.9858 - mean_absolute_percentage_error: 5.9858 - val_loss: 6.1448 - val_mean_absolute_percentage_error: 6.1448\n",
      "Epoch 81/100\n",
      "94/94 [==============================] - 4s 46ms/step - loss: 6.0683 - mean_absolute_percentage_error: 6.0683 - val_loss: 6.1697 - val_mean_absolute_percentage_error: 6.1697\n",
      "Epoch 82/100\n",
      "94/94 [==============================] - 5s 49ms/step - loss: 6.1493 - mean_absolute_percentage_error: 6.1493 - val_loss: 6.2029 - val_mean_absolute_percentage_error: 6.2029\n",
      "Epoch 83/100\n",
      "94/94 [==============================] - 5s 53ms/step - loss: 5.9684 - mean_absolute_percentage_error: 5.9684 - val_loss: 6.2011 - val_mean_absolute_percentage_error: 6.2011\n",
      "Epoch 84/100\n",
      "94/94 [==============================] - 5s 58ms/step - loss: 5.9840 - mean_absolute_percentage_error: 5.9840 - val_loss: 6.1602 - val_mean_absolute_percentage_error: 6.1602\n",
      "Epoch 85/100\n",
      "94/94 [==============================] - 5s 52ms/step - loss: 5.9341 - mean_absolute_percentage_error: 5.9341 - val_loss: 6.1561 - val_mean_absolute_percentage_error: 6.1561\n",
      "Epoch 86/100\n",
      "94/94 [==============================] - 4s 45ms/step - loss: 6.1824 - mean_absolute_percentage_error: 6.1824 - val_loss: 6.1961 - val_mean_absolute_percentage_error: 6.1961\n",
      "Epoch 87/100\n",
      "94/94 [==============================] - 4s 45ms/step - loss: 6.0055 - mean_absolute_percentage_error: 6.0055 - val_loss: 6.2454 - val_mean_absolute_percentage_error: 6.2454\n"
     ]
    },
    {
     "name": "stdout",
     "output_type": "stream",
     "text": [
      "Epoch 88/100\n",
      "94/94 [==============================] - 4s 45ms/step - loss: 5.7984 - mean_absolute_percentage_error: 5.7984 - val_loss: 6.2833 - val_mean_absolute_percentage_error: 6.2833\n",
      "Epoch 89/100\n",
      "94/94 [==============================] - 4s 45ms/step - loss: 5.8909 - mean_absolute_percentage_error: 5.8909 - val_loss: 6.2392 - val_mean_absolute_percentage_error: 6.2392\n",
      "Epoch 90/100\n",
      "94/94 [==============================] - 4s 44ms/step - loss: 5.6942 - mean_absolute_percentage_error: 5.6942 - val_loss: 6.1370 - val_mean_absolute_percentage_error: 6.1370\n",
      "Epoch 91/100\n",
      "94/94 [==============================] - 4s 44ms/step - loss: 5.8380 - mean_absolute_percentage_error: 5.8380 - val_loss: 6.1594 - val_mean_absolute_percentage_error: 6.1594\n",
      "Epoch 92/100\n",
      "94/94 [==============================] - 4s 44ms/step - loss: 5.9370 - mean_absolute_percentage_error: 5.9370 - val_loss: 6.2034 - val_mean_absolute_percentage_error: 6.2034\n",
      "Epoch 93/100\n",
      "94/94 [==============================] - 4s 44ms/step - loss: 5.9151 - mean_absolute_percentage_error: 5.9151 - val_loss: 6.2118 - val_mean_absolute_percentage_error: 6.2118\n",
      "Epoch 94/100\n",
      "94/94 [==============================] - 4s 46ms/step - loss: 6.0211 - mean_absolute_percentage_error: 6.0211 - val_loss: 6.2893 - val_mean_absolute_percentage_error: 6.2893\n",
      "Epoch 95/100\n",
      "94/94 [==============================] - 4s 44ms/step - loss: 5.6464 - mean_absolute_percentage_error: 5.6464 - val_loss: 6.2242 - val_mean_absolute_percentage_error: 6.2242\n",
      "Epoch 96/100\n",
      "94/94 [==============================] - 4s 44ms/step - loss: 6.3795 - mean_absolute_percentage_error: 6.3795 - val_loss: 6.2001 - val_mean_absolute_percentage_error: 6.2001\n",
      "Epoch 97/100\n",
      "94/94 [==============================] - 4s 45ms/step - loss: 5.9787 - mean_absolute_percentage_error: 5.9787 - val_loss: 6.1949 - val_mean_absolute_percentage_error: 6.1949\n",
      "Epoch 98/100\n",
      "94/94 [==============================] - 4s 45ms/step - loss: 5.9265 - mean_absolute_percentage_error: 5.9265 - val_loss: 6.1612 - val_mean_absolute_percentage_error: 6.1612\n",
      "Epoch 99/100\n",
      "94/94 [==============================] - 4s 44ms/step - loss: 5.8415 - mean_absolute_percentage_error: 5.8415 - val_loss: 6.1459 - val_mean_absolute_percentage_error: 6.1459\n",
      "Epoch 100/100\n",
      "94/94 [==============================] - 4s 43ms/step - loss: 5.8852 - mean_absolute_percentage_error: 5.8852 - val_loss: 6.1201 - val_mean_absolute_percentage_error: 6.1201\n"
     ]
    }
   ],
   "source": [
    "model4 = Sequential()\n",
    "model4.add(LSTM(256, activation='relu', input_shape=(1,40),  return_sequences=True))\n",
    "model4.add(TCN(return_sequences=True, use_batch_norm=True, activation = 'relu', padding = 'causal', dropout_rate = 0.3))\n",
    "model4.add(TCN(return_sequences=True, use_batch_norm=True, activation = 'relu', padding = 'causal', dropout_rate = 0.3))\n",
    "model4.add(Dense(1, activation = 'relu'))\n",
    "\n",
    "model4.compile(loss='mape', optimizer='adam', metrics = tf.keras.metrics.MeanAbsolutePercentageError())\n",
    "hist4 = model4.fit(X_train_selec[-3200:-300], y_train[-3200:-300], epochs=100, batch_size=16, verbose=1, validation_split=0.1)\n",
    "\n",
    "xtest = X_train_selec[-300:]\n",
    "ytest = y_train[-300:]\n"
   ]
  },
  {
   "cell_type": "code",
   "execution_count": 45,
   "metadata": {},
   "outputs": [
    {
     "data": {
      "text/plain": [
       "[<matplotlib.lines.Line2D at 0x7fbdf3428220>]"
      ]
     },
     "execution_count": 45,
     "metadata": {},
     "output_type": "execute_result"
    },
    {
     "data": {
      "image/png": "[encoded data removed]",
      "text/plain": [
       "<Figure size 432x288 with 1 Axes>"
      ]
     },
     "metadata": {
      "needs_background": "light"
     },
     "output_type": "display_data"
    }
   ],
   "source": [
    "pred3 = model3.predict(xtest)\n",
    "plt.plot(ytest.flatten()[:100])\n",
    "plt.plot(pred3.flatten()[:100])\n"
   ]
  },
  {
   "cell_type": "markdown",
   "metadata": {},
   "source": [
    "------"
   ]
  },
  {
   "cell_type": "code",
   "execution_count": 46,
   "metadata": {},
   "outputs": [],
   "source": [
    "import statsmodels.api as sm"
   ]
  },
  {
   "cell_type": "code",
   "execution_count": 47,
   "metadata": {},
   "outputs": [
    {
     "data": {
      "text/plain": [
       "array([[0.64650895, 0.68044373, 0.69488713, ..., 0.61837784, 0.58064743,\n",
       "        0.68873814],\n",
       "       [0.68044373, 0.67148148, 0.65007931, ..., 0.54208088, 0.58064743,\n",
       "        0.68873814],\n",
       "       [0.67148148, 0.73503836, 0.67891955, ..., 0.54208088, 0.69651562,\n",
       "        0.68873814],\n",
       "       ...,\n",
       "       [0.684519  , 0.8557538 , 0.71021236, ..., 0.44549065, 0.69972156,\n",
       "        0.7167788 ],\n",
       "       [0.8557538 , 0.73936608, 0.55945901, ..., 0.44549065, 0.43094158,\n",
       "        0.56438161],\n",
       "       [0.73936608, 0.80621835, 0.46599035, ..., 0.49465865, 0.43094158,\n",
       "        0.56438161]])"
      ]
     },
     "execution_count": 47,
     "metadata": {},
     "output_type": "execute_result"
    }
   ],
   "source": [
    "X_train_selec.squeeze()"
   ]
  },
  {
   "cell_type": "code",
   "execution_count": 48,
   "metadata": {},
   "outputs": [
    {
     "name": "stdout",
     "output_type": "stream",
     "text": [
      "CPU times: user 42.6 ms, sys: 92.8 ms, total: 135 ms\n",
      "Wall time: 34.3 ms\n"
     ]
    }
   ],
   "source": [
    "modelg = sm.GLM(y_train[-3200:-300].squeeze(), X_train_selec[-3200:-300].squeeze(), family=sm.families.Gaussian())\n",
    "%time glmfit = modelg.fit()"
   ]
  },
  {
   "cell_type": "code",
   "execution_count": 49,
   "metadata": {},
   "outputs": [
    {
     "name": "stdout",
     "output_type": "stream",
     "text": [
      "CPU times: user 6.3 ms, sys: 24.9 ms, total: 31.2 ms\n",
      "Wall time: 11.5 ms\n"
     ]
    },
    {
     "data": {
      "text/plain": [
       "[<matplotlib.lines.Line2D at 0x7fbdf255a250>]"
      ]
     },
     "execution_count": 49,
     "metadata": {},
     "output_type": "execute_result"
    },
    {
     "data": {
      "image/png": "[encoded data removed]",
      "text/plain": [
       "<Figure size 432x288 with 1 Axes>"
      ]
     },
     "metadata": {
      "needs_background": "light"
     },
     "output_type": "display_data"
    }
   ],
   "source": [
    "%time predg = glmfit.predict(xtest.squeeze())\n",
    "\n",
    "plt.plot(ytest.flatten()[:100])\n",
    "plt.plot(predg.flatten()[:100])"
   ]
  }
 ],
 "metadata": {
  "kernelspec": {
   "display_name": "Python 3",
   "language": "python",
   "name": "python3"
  },
  "language_info": {
   "codemirror_mode": {
    "name": "ipython",
    "version": 3
   },
   "file_extension": ".py",
   "mimetype": "text/x-python",
   "name": "python",
   "nbconvert_exporter": "python",
   "pygments_lexer": "ipython3",
   "version": "3.8.8"
  }
 },
 "nbformat": 4,
 "nbformat_minor": 4
}
