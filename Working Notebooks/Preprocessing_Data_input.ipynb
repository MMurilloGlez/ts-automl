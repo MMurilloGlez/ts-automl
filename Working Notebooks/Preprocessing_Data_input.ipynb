{
 "cells": [
  {
   "cell_type": "markdown",
   "id": "constant-joining",
   "metadata": {},
   "source": [
    "Docstring"
   ]
  },
  {
   "cell_type": "code",
   "execution_count": 1,
   "id": "missing-response",
   "metadata": {},
   "outputs": [
    {
     "data": {
      "text/plain": [
       "''"
      ]
     },
     "execution_count": 1,
     "metadata": {},
     "output_type": "execute_result"
    }
   ],
   "source": [
    "\"\"\"\"\"\""
   ]
  },
  {
   "cell_type": "markdown",
   "id": "pretty-defendant",
   "metadata": {},
   "source": [
    "Importamos librerias"
   ]
  },
  {
   "cell_type": "code",
   "execution_count": 2,
   "id": "invisible-characteristic",
   "metadata": {},
   "outputs": [],
   "source": [
    "import warnings\n",
    "from math import floor\n",
    "import pandas as pd\n",
    "import numpy as np"
   ]
  },
  {
   "cell_type": "markdown",
   "id": "built-bacteria",
   "metadata": {},
   "source": [
    "Lectura de datos en csv o en  excel"
   ]
  },
  {
   "cell_type": "code",
   "execution_count": 3,
   "id": "constitutional-deficit",
   "metadata": {},
   "outputs": [],
   "source": [
    "def read_data(filename, targetcol = 'VALUE', datecol = 'DATE', sep = ';', \n",
    "              decimal = ',', date_format = \"%d/%m/%Y %H:%M:%S.%f\", freq = '1T'):\n",
    "    \n",
    "    if filename[-3:] == 'csv' or filename[-3:] == 'txt':\n",
    "        file_ = pd.read_table(filename, sep = sep, decimal = decimal, parse_dates = False)\n",
    "        file_parsed = parsedates(file_, date_format = date_format, freq = freq, datecol = datecol)\n",
    "        \n",
    "    elif filename[-3:] == 'xls' or filename[-3:] == 'lsx':\n",
    "        file_ = pd.read_excel(filename, parse_dates = False)\n",
    "        file_parsed = parsedates(file_, date_format = date_format, freq = freq,datecol = datecol)\n",
    "        \n",
    "    else:\n",
    "        raise NotImplementedError(\"This file type is not supported\" )\n",
    "    \n",
    "    return(file_parsed[targetcol])\n",
    "\n",
    "    "
   ]
  },
  {
   "cell_type": "markdown",
   "id": "light-surfing",
   "metadata": {},
   "source": [
    "Leer y interpolar las time series para ver como van"
   ]
  },
  {
   "cell_type": "code",
   "execution_count": 4,
   "id": "active-workplace",
   "metadata": {},
   "outputs": [],
   "source": [
    "def parsedates(file_, date_format, freq, datecol):\n",
    "    freq = pd.to_timedelta(freq)\n",
    "    datetime_i = pd.to_datetime(file_[datecol], format = date_format)\n",
    "    print(type(datetime_i.iloc[-1]))\n",
    "    if freq < (datetime_i.iloc[1] - datetime_i.iloc[0]):\n",
    "        raise ValueError('Expected frequency is smaller than dataset information')\n",
    "        \n",
    "    file_.index = datetime_i\n",
    "    desired_index = pd.date_range(start = datetime_i.iloc[0], end = datetime_i.iloc[-1], freq = freq)\n",
    "    \n",
    "    file_int = file_.reindex(file_.index.union(desired_index)).interpolate(method = 'time').reindex(desired_index)\n",
    "    \n",
    "    return(file_int)"
   ]
  },
  {
   "cell_type": "markdown",
   "id": "legislative-gothic",
   "metadata": {},
   "source": [
    "---------"
   ]
  },
  {
   "cell_type": "markdown",
   "id": "derived-magic",
   "metadata": {},
   "source": [
    "Prueba Datos Michelin"
   ]
  },
  {
   "cell_type": "code",
   "execution_count": 5,
   "id": "mature-relation",
   "metadata": {},
   "outputs": [],
   "source": [
    "filename = 'NIVEL2_TOTAL_AIRE_INST_FILT.csv'\n",
    "freq = '5s'"
   ]
  },
  {
   "cell_type": "code",
   "execution_count": 6,
   "id": "fitted-tension",
   "metadata": {},
   "outputs": [
    {
     "name": "stdout",
     "output_type": "stream",
     "text": [
      "<class 'pandas._libs.tslibs.timestamps.Timestamp'>\n"
     ]
    }
   ],
   "source": [
    "data = read_data(filename, freq = freq)"
   ]
  },
  {
   "cell_type": "code",
   "execution_count": 7,
   "id": "wrapped-skirt",
   "metadata": {},
   "outputs": [
    {
     "name": "stdout",
     "output_type": "stream",
     "text": [
      "2019-05-20 17:58:56    13150.540000\n",
      "2019-05-20 17:59:01    13020.720000\n",
      "2019-05-20 17:59:06    13158.000000\n",
      "2019-05-20 17:59:11    13087.900000\n",
      "2019-05-20 17:59:16    12992.900000\n",
      "                           ...     \n",
      "2019-06-21 12:22:36    15497.010618\n",
      "2019-06-21 12:22:41    15301.722286\n",
      "2019-06-21 12:22:46    15161.933911\n",
      "2019-06-21 12:22:51    15113.357854\n",
      "2019-06-21 12:22:56    15499.252220\n",
      "Freq: 5S, Name: VALUE, Length: 548929, dtype: float64\n"
     ]
    }
   ],
   "source": [
    "print(data)"
   ]
  },
  {
   "cell_type": "code",
   "execution_count": 8,
   "id": "changed-narrative",
   "metadata": {},
   "outputs": [],
   "source": [
    "import matplotlib.pyplot as plt"
   ]
  },
  {
   "cell_type": "code",
   "execution_count": 9,
   "id": "emotional-insider",
   "metadata": {},
   "outputs": [
    {
     "data": {
      "text/plain": [
       "[<matplotlib.lines.Line2D at 0x7fb0d0731670>]"
      ]
     },
     "execution_count": 9,
     "metadata": {},
     "output_type": "execute_result"
    },
    {
     "data": {
      "image/png": "[encoded data removed]",
      "text/plain": [
       "<Figure size 432x288 with 1 Axes>"
      ]
     },
     "metadata": {
      "needs_background": "light"
     },
     "output_type": "display_data"
    }
   ],
   "source": [
    "plt.plot(data.iloc[floor(len(data)/1.01):len(data)])"
   ]
  },
  {
   "cell_type": "markdown",
   "id": "fabulous-strength",
   "metadata": {},
   "source": [
    "Prueba datos seat"
   ]
  },
  {
   "cell_type": "code",
   "execution_count": 10,
   "id": "literary-committee",
   "metadata": {},
   "outputs": [],
   "source": [
    "filename = 'Seat.csv'\n",
    "\n",
    "freq = '20T'"
   ]
  },
  {
   "cell_type": "code",
   "execution_count": 11,
   "id": "charitable-semester",
   "metadata": {},
   "outputs": [
    {
     "name": "stdout",
     "output_type": "stream",
     "text": [
      "<class 'pandas._libs.tslibs.timestamps.Timestamp'>\n"
     ]
    }
   ],
   "source": [
    "data = read_data(filename='Seat.csv',\n",
    "                 freq='20T',\n",
    "                 targetcol='INSTALACIONES [kWh]',\n",
    "                 datecol='MSJO_DATUM',\n",
    "                 sep=',',\n",
    "                 decimal='.',\n",
    "                 date_format=\"%d/%m/%Y %H:%M\")\n"
   ]
  },
  {
   "cell_type": "code",
   "execution_count": 12,
   "id": "saving-thomas",
   "metadata": {},
   "outputs": [
    {
     "data": {
      "text/plain": [
       "[<matplotlib.lines.Line2D at 0x7fb0d064d9a0>]"
      ]
     },
     "execution_count": 12,
     "metadata": {},
     "output_type": "execute_result"
    },
    {
     "data": {
      "image/png": "[encoded data removed]",
      "text/plain": [
       "<Figure size 432x288 with 1 Axes>"
      ]
     },
     "metadata": {
      "needs_background": "light"
     },
     "output_type": "display_data"
    }
   ],
   "source": [
    "plt.plot(data.iloc[floor(len(data)/1.01):len(data)])"
   ]
  },
  {
   "cell_type": "code",
   "execution_count": 13,
   "id": "olive-stability",
   "metadata": {},
   "outputs": [
    {
     "name": "stdout",
     "output_type": "stream",
     "text": [
      "2016-11-04 16:30:00    429.136414\n",
      "2016-11-04 16:50:00    439.819132\n",
      "2016-11-04 17:10:00    422.681010\n",
      "2016-11-04 17:30:00    432.827713\n",
      "2016-11-04 17:50:00    427.453792\n",
      "                          ...    \n",
      "2018-11-13 22:30:00    276.036780\n",
      "2018-11-13 22:50:00    275.003310\n",
      "2018-11-13 23:10:00    261.639657\n",
      "2018-11-13 23:30:00    245.255448\n",
      "2018-11-13 23:50:00    242.053699\n",
      "Freq: 20T, Name: INSTALACIONES [kWh], Length: 53231, dtype: float64\n"
     ]
    },
    {
     "data": {
      "text/plain": [
       "0"
      ]
     },
     "execution_count": 13,
     "metadata": {},
     "output_type": "execute_result"
    }
   ],
   "source": [
    "print(data)\n",
    "sum(data.isna())"
   ]
  }
 ],
 "metadata": {
  "kernelspec": {
   "display_name": "Python 3",
   "language": "python",
   "name": "python3"
  },
  "language_info": {
   "codemirror_mode": {
    "name": "ipython",
    "version": 3
   },
   "file_extension": ".py",
   "mimetype": "text/x-python",
   "name": "python",
   "nbconvert_exporter": "python",
   "pygments_lexer": "ipython3",
   "version": "3.8.8"
  }
 },
 "nbformat": 4,
 "nbformat_minor": 5
}
